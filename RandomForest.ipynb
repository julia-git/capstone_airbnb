{
 "cells": [
  {
   "cell_type": "code",
   "execution_count": 1,
   "metadata": {},
   "outputs": [],
   "source": [
    "import pandas as pd\n",
    "import numpy as np\n",
    "import matplotlib.pyplot as plt\n",
    "import pickle\n",
    "import os\n",
    "import glob\n",
    "from datetime import datetime as dt\n",
    "import seaborn as sns\n",
    "%matplotlib inline\n",
    "\n",
    "from sklearn.preprocessing import Imputer\n",
    "from sklearn.preprocessing import StandardScaler\n",
    "from sklearn.ensemble import RandomForestRegressor\n",
    "from sklearn.tree import DecisionTreeClassifier\n",
    "from sklearn.model_selection import GridSearchCV\n",
    "from sklearn.model_selection import cross_val_score\n",
    "from sklearn.model_selection import train_test_split\n",
    "from sklearn.metrics import classification_report\n",
    "from sklearn.metrics import confusion_matrix\n",
    "from sklearn.model_selection import train_test_split\n",
    "\n",
    "pd.set_option(\"display.max_colwidth\",999)\n",
    "pd.set_option(\"display.max_rows\",999)\n",
    "pd.set_option(\"display.max_columns\",999)"
   ]
  },
  {
   "cell_type": "code",
   "execution_count": 30,
   "metadata": {},
   "outputs": [],
   "source": [
    "# df_sf_2017 = pickle.load(open('../data_sf_2017.p', 'rb'))"
   ]
  },
  {
   "cell_type": "code",
   "execution_count": 11,
   "metadata": {},
   "outputs": [],
   "source": [
    "df_sf_2017 = pd.read_json('df_sf_2017')"
   ]
  },
  {
   "cell_type": "code",
   "execution_count": 10,
   "metadata": {},
   "outputs": [],
   "source": []
  },
  {
   "cell_type": "code",
   "execution_count": 54,
   "metadata": {},
   "outputs": [
    {
     "data": {
      "text/html": [
       "<div>\n",
       "<style scoped>\n",
       "    .dataframe tbody tr th:only-of-type {\n",
       "        vertical-align: middle;\n",
       "    }\n",
       "\n",
       "    .dataframe tbody tr th {\n",
       "        vertical-align: top;\n",
       "    }\n",
       "\n",
       "    .dataframe thead th {\n",
       "        text-align: right;\n",
       "    }\n",
       "</style>\n",
       "<table border=\"1\" class=\"dataframe\">\n",
       "  <thead>\n",
       "    <tr style=\"text-align: right;\">\n",
       "      <th></th>\n",
       "      <th>price</th>\n",
       "      <th>guests_included</th>\n",
       "      <th>price_per_guest</th>\n",
       "    </tr>\n",
       "  </thead>\n",
       "  <tbody>\n",
       "  </tbody>\n",
       "</table>\n",
       "</div>"
      ],
      "text/plain": [
       "Empty DataFrame\n",
       "Columns: [price, guests_included, price_per_guest]\n",
       "Index: []"
      ]
     },
     "execution_count": 54,
     "metadata": {},
     "output_type": "execute_result"
    }
   ],
   "source": [
    "# df_sf['price'].apply(np.log)[df_sf_2017['price_per_guest'].isnull()][[ 'price', 'guests_included','price_per_guest']]"
   ]
  },
  {
   "cell_type": "code",
   "execution_count": 3,
   "metadata": {},
   "outputs": [
    {
     "data": {
      "text/plain": [
       "0"
      ]
     },
     "execution_count": 3,
     "metadata": {},
     "output_type": "execute_result"
    }
   ],
   "source": [
    "df_sf_2017.price_per_bedroom.isnull().sum()"
   ]
  },
  {
   "cell_type": "markdown",
   "metadata": {},
   "source": [
    "## Random Forest"
   ]
  },
  {
   "cell_type": "code",
   "execution_count": 4,
   "metadata": {},
   "outputs": [],
   "source": [
    "from sklearn.linear_model import LogisticRegression\n",
    "from sklearn.ensemble import RandomForestClassifier\n",
    "from sklearn.datasets import make_classification\n",
    "from sklearn.model_selection import train_test_split\n",
    "from sklearn.metrics import accuracy_score, confusion_matrix, recall_score, precision_score, f1_score\n",
    "from sklearn.preprocessing import LabelEncoder\n",
    "import pickle"
   ]
  },
  {
   "cell_type": "markdown",
   "metadata": {},
   "source": [
    "## Predict 2017"
   ]
  },
  {
   "cell_type": "code",
   "execution_count": 12,
   "metadata": {},
   "outputs": [],
   "source": [
    "def split_data(start_month, end_month):\n",
    "    df_sf_temp = df_sf_2017.copy()\n",
    "    X_train = df_sf_temp[(df_sf_temp['month'] >= start_month) & (df_sf_temp['month'] < end_month)][columns_to_keep]\n",
    "    y_train = df_sf_temp[(df_sf_temp['month'] >= start_month) & (df_sf_temp['month'] < end_month)]['popular']\n",
    "\n",
    "    X_test = df_sf_temp[df_sf_temp['month'] == end_month][columns_to_keep]\n",
    "    y_test = df_sf_temp[df_sf_temp['month'] == end_month]['popular']\n",
    "    \n",
    "    return X_train, y_train, X_test, y_test\n",
    "    "
   ]
  },
  {
   "cell_type": "code",
   "execution_count": 17,
   "metadata": {},
   "outputs": [],
   "source": [
    "def transform_data(X):\n",
    "    X['extra_people'].replace('[\\=$,]', '', regex=True, inplace=True)\n",
    "#     X['price'].replace('[\\=$,]', '', regex=True, inplace=True)\n",
    "    X['property_type'] = le.fit_transform(X['property_type'])\n",
    "    X['bed_type'] = le.fit_transform(X['bed_type'])\n",
    "    X['cancellation_policy'] = le.fit_transform(X['cancellation_policy'])\n",
    "    X['room_type'] = le.fit_transform(X['room_type'])\n",
    " \n",
    "    return X"
   ]
  },
  {
   "cell_type": "code",
   "execution_count": 14,
   "metadata": {},
   "outputs": [],
   "source": [
    "def predict_data(X_train, y_train, X_test, y_test):\n",
    "    rf = RandomForestClassifier(n_estimators = 1000, n_jobs=-1, random_state=0, class_weight = {0:.95, 1:.05})\n",
    "    rf.fit(X_train, y_train)\n",
    "    predicted = rf.predict(X_test)\n",
    "    scores[0][model_num] = accuracy_score(y_test, predicted)\n",
    "    scores[1][model_num] = recall_score(y_test, rf.predict(X_test))\n",
    "    scores[2][model_num] = precision_score(y_test, rf.predict(X_test))\n",
    "    scores[3][model_num] = f1_score(y_test, rf.predict(X_test))\n",
    "    return scores"
   ]
  },
  {
   "cell_type": "code",
   "execution_count": 18,
   "metadata": {},
   "outputs": [],
   "source": [
    "scores = np.zeros(shape=(4,9))\n",
    "model_num = 0\n",
    "start_month = 1\n",
    "end_month = 4\n",
    "# columns_to_keep = ['accommodates','bed_type', 'extra_people', 'price','guests_included', 'host_about_filled','host_picture_url_filled', 'cancellation_policy', 'room_type']\n",
    "# columns_to_keep = ['accommodates','bed_type', 'extra_people', 'price_per_guest', 'price_per_bedroom','guests_included', 'host_about_filled','host_picture_url_filled', 'cancellation_policy', 'room_type']\n",
    "columns_to_keep = ['access_filled', 'house_rules_filled','space_filled','accommodates','bed_type', 'extra_people', 'price_per_guest', 'price_per_bedroom','guests_included', 'host_about_filled','host_picture_url_filled', 'cancellation_policy', 'room_type', 'property_type']"
   ]
  },
  {
   "cell_type": "code",
   "execution_count": null,
   "metadata": {},
   "outputs": [
    {
     "name": "stdout",
     "output_type": "stream",
     "text": [
      "1 4 0\n",
      "[[0.86274284 0.         0.         0.         0.         0.\n",
      "  0.         0.         0.        ]\n",
      " [0.39735516 0.         0.         0.         0.         0.\n",
      "  0.         0.         0.        ]\n",
      " [0.72695853 0.         0.         0.         0.         0.\n",
      "  0.         0.         0.        ]\n",
      " [0.51384365 0.         0.         0.         0.         0.\n",
      "  0.         0.         0.        ]]\n",
      "2 5 1\n",
      "[[0.86274284 0.92304169 0.         0.         0.         0.\n",
      "  0.         0.         0.        ]\n",
      " [0.39735516 0.64398236 0.         0.         0.         0.\n",
      "  0.         0.         0.        ]\n",
      " [0.72695853 0.90522586 0.         0.         0.         0.\n",
      "  0.         0.         0.        ]\n",
      " [0.51384365 0.75257732 0.         0.         0.         0.\n",
      "  0.         0.         0.        ]]\n",
      "3 6 2\n",
      "[[0.86274284 0.92304169 0.92224622 0.         0.         0.\n",
      "  0.         0.         0.        ]\n",
      " [0.39735516 0.64398236 0.65985577 0.         0.         0.\n",
      "  0.         0.         0.        ]\n",
      " [0.72695853 0.90522586 0.90296053 0.         0.         0.\n",
      "  0.         0.         0.        ]\n",
      " [0.51384365 0.75257732 0.7625     0.         0.         0.\n",
      "  0.         0.         0.        ]]\n",
      "4 7 3\n",
      "[[0.86274284 0.92304169 0.92224622 0.92769995 0.         0.\n",
      "  0.         0.         0.        ]\n",
      " [0.39735516 0.64398236 0.65985577 0.67927823 0.         0.\n",
      "  0.         0.         0.        ]\n",
      " [0.72695853 0.90522586 0.90296053 0.92914013 0.         0.\n",
      "  0.         0.         0.        ]\n",
      " [0.51384365 0.75257732 0.7625     0.78480161 0.         0.\n",
      "  0.         0.         0.        ]]\n",
      "5 8 4\n",
      "[[0.86274284 0.92304169 0.92224622 0.92769995 0.91745856 0.\n",
      "  0.         0.         0.        ]\n",
      " [0.39735516 0.64398236 0.65985577 0.67927823 0.65889371 0.\n",
      "  0.         0.         0.        ]\n",
      " [0.72695853 0.90522586 0.90296053 0.92914013 0.91147787 0.\n",
      "  0.         0.         0.        ]\n",
      " [0.51384365 0.75257732 0.7625     0.78480161 0.76487252 0.\n",
      "  0.         0.         0.        ]]\n",
      "6 9 5\n",
      "[[0.86274284 0.92304169 0.92224622 0.92769995 0.91745856 0.9206759\n",
      "  0.         0.         0.        ]\n",
      " [0.39735516 0.64398236 0.65985577 0.67927823 0.65889371 0.67893333\n",
      "  0.         0.         0.        ]\n",
      " [0.72695853 0.90522586 0.90296053 0.92914013 0.91147787 0.9450631\n",
      "  0.         0.         0.        ]\n",
      " [0.51384365 0.75257732 0.7625     0.78480161 0.76487252 0.79019243\n",
      "  0.         0.         0.        ]]\n",
      "7 10 6\n",
      "[[0.86274284 0.92304169 0.92224622 0.92769995 0.91745856 0.9206759\n",
      "  0.91745283 0.         0.        ]\n",
      " [0.39735516 0.64398236 0.65985577 0.67927823 0.65889371 0.67893333\n",
      "  0.67564712 0.         0.        ]\n",
      " [0.72695853 0.90522586 0.90296053 0.92914013 0.91147787 0.9450631\n",
      "  0.91357143 0.         0.        ]\n",
      " [0.51384365 0.75257732 0.7625     0.78480161 0.76487252 0.79019243\n",
      "  0.77679927 0.         0.        ]]\n"
     ]
    }
   ],
   "source": [
    "%%time\n",
    "while end_month <13:\n",
    "    X_train, y_train, X_test, y_test = split_data(start_month, end_month)\n",
    "    le = LabelEncoder()\n",
    "    X_train = transform_data(X_train)\n",
    "    X_test = transform_data(X_test)\n",
    "    scores = predict_data(X_train, y_train, X_test, y_test)\n",
    "    print(start_month, end_month, model_num)\n",
    "    start_month += 1\n",
    "    end_month += 1\n",
    "    model_num += 1\n",
    "    print(scores)"
   ]
  },
  {
   "cell_type": "code",
   "execution_count": null,
   "metadata": {},
   "outputs": [],
   "source": []
  },
  {
   "cell_type": "code",
   "execution_count": 51,
   "metadata": {},
   "outputs": [],
   "source": [
    "from tempfile import TemporaryFile\n",
    "scores_rf_baseline = TemporaryFile()\n",
    "np.save(scores_rf_baseline,scores)x"
   ]
  },
  {
   "cell_type": "code",
   "execution_count": 53,
   "metadata": {},
   "outputs": [
    {
     "data": {
      "text/plain": [
       "array([[0.81988506, 0.89212093, 0.88964655, 0.88999322, 0.88094975,\n",
       "        0.88061452, 0.88234636, 0.88732079, 0.85575529],\n",
       "       [0.2336272 , 0.47006931, 0.48648649, 0.4973822 , 0.47533875,\n",
       "        0.49067661, 0.49973698, 0.53308824, 0.5445224 ],\n",
       "       [0.51456311, 0.88075561, 0.87473002, 0.88601036, 0.88855117,\n",
       "        0.93692777, 0.9047619 , 0.89664311, 0.86982759],\n",
       "       [0.32135123, 0.61298274, 0.62524122, 0.63710879, 0.61935028,\n",
       "        0.64405594, 0.64384954, 0.66864295, 0.66976435]])"
      ]
     },
     "execution_count": 53,
     "metadata": {},
     "output_type": "execute_result"
    }
   ],
   "source": [
    "scores_rf_baseline.seek(0) # Only needed here to simulate closing & reopening file\n",
    "np.load(scores_rf_baseline)"
   ]
  },
  {
   "cell_type": "code",
   "execution_count": null,
   "metadata": {},
   "outputs": [],
   "source": [
    "accuracy_2017 = np.mean(scores[0])\n",
    "recall_2017 = np.mean(scores[1])\n",
    "precision_2017 = np.mean(scores[2])\n",
    "f1_score_2017 = np.mean(scores[3])\n",
    "print(accuracy_2017)\n",
    "print(recall_2017)\n",
    "print(precision_2017)\n",
    "print(f1_score_2017)"
   ]
  },
  {
   "cell_type": "code",
   "execution_count": null,
   "metadata": {},
   "outputs": [],
   "source": []
  },
  {
   "cell_type": "code",
   "execution_count": null,
   "metadata": {},
   "outputs": [],
   "source": []
  }
 ],
 "metadata": {
  "kernelspec": {
   "display_name": "Python 3",
   "language": "python",
   "name": "python3"
  },
  "language_info": {
   "codemirror_mode": {
    "name": "ipython",
    "version": 3
   },
   "file_extension": ".py",
   "mimetype": "text/x-python",
   "name": "python",
   "nbconvert_exporter": "python",
   "pygments_lexer": "ipython3",
   "version": "3.6.4"
  }
 },
 "nbformat": 4,
 "nbformat_minor": 2
}

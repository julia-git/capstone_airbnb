{
 "cells": [
  {
   "cell_type": "code",
   "execution_count": 8,
   "metadata": {},
   "outputs": [],
   "source": [
    "import pandas as pd\n",
    "import numpy as np\n",
    "import matplotlib.pyplot as plt\n",
    "import pickle\n",
    "import os\n",
    "import glob\n",
    "from datetime import datetime as dt\n",
    "import seaborn as sns\n",
    "\n",
    "np.set_printoptions(suppress=True)\n",
    "\n",
    "%matplotlib inline\n",
    "\n",
    "pd.set_option(\"display.max_colwidth\",999)\n",
    "pd.set_option(\"display.max_rows\",999)\n",
    "pd.set_option(\"display.max_columns\",999)"
   ]
  },
  {
   "cell_type": "code",
   "execution_count": 2,
   "metadata": {},
   "outputs": [],
   "source": [
    "# df_sf_2017 = pickle.load(open('../data_sf_2017.p', 'rb'))"
   ]
  },
  {
   "cell_type": "markdown",
   "metadata": {},
   "source": [
    "## load 2017 data plus additional manipulations"
   ]
  },
  {
   "cell_type": "code",
   "execution_count": 69,
   "metadata": {},
   "outputs": [],
   "source": [
    "df_sf_2017 = pd.read_json('df_sf_2017')\n",
    "df_sf_2017.loc[df_sf_2017.cancellation_policy == 'flexible_new', 'cancellation_policy'] = \"flexible\"\n",
    "prop_type = set(df_sf_2017.property_type.values)\n",
    "keep = ['Apartment', 'House', 'Condomonium']\n",
    "drop = list(set(prop_type).difference(keep))\n",
    "df_sf_2017['property_type_new'] = df_sf_2017['property_type']\n",
    "df_sf_2017.loc[df_sf_2017.property_type.isin(drop), 'property_type_new'] = \"Other\"\n",
    "\n",
    "\n",
    "df_sf_2017['amenities_count'] = (df_sf_2017.amenities.apply(lambda x: len(x.split(','))))\n",
    "df_sf_2017.is_business_travel_ready.fillna(value='f', inplace=True)\n",
    "\n",
    "df_sf_2017.security_deposit.fillna(value='$0.00', inplace=True)\n",
    "df_sf_2017['security_deposit'].replace('[\\$,]', '', regex=True, inplace=True)\n",
    "df_sf_2017['security_deposit'] = df_sf_2017.security_deposit.astype(float) \n"
   ]
  },
  {
   "cell_type": "code",
   "execution_count": null,
   "metadata": {},
   "outputs": [],
   "source": []
  },
  {
   "cell_type": "code",
   "execution_count": 54,
   "metadata": {},
   "outputs": [
    {
     "data": {
      "text/html": [
       "<div>\n",
       "<style scoped>\n",
       "    .dataframe tbody tr th:only-of-type {\n",
       "        vertical-align: middle;\n",
       "    }\n",
       "\n",
       "    .dataframe tbody tr th {\n",
       "        vertical-align: top;\n",
       "    }\n",
       "\n",
       "    .dataframe thead th {\n",
       "        text-align: right;\n",
       "    }\n",
       "</style>\n",
       "<table border=\"1\" class=\"dataframe\">\n",
       "  <thead>\n",
       "    <tr style=\"text-align: right;\">\n",
       "      <th></th>\n",
       "      <th>price</th>\n",
       "      <th>guests_included</th>\n",
       "      <th>price_per_guest</th>\n",
       "    </tr>\n",
       "  </thead>\n",
       "  <tbody>\n",
       "  </tbody>\n",
       "</table>\n",
       "</div>"
      ],
      "text/plain": [
       "Empty DataFrame\n",
       "Columns: [price, guests_included, price_per_guest]\n",
       "Index: []"
      ]
     },
     "execution_count": 54,
     "metadata": {},
     "output_type": "execute_result"
    }
   ],
   "source": [
    "# df_sf['price'].apply(np.log)[df_sf_2017['price_per_guest'].isnull()][[ 'price', 'guests_included','price_per_guest']]"
   ]
  },
  {
   "cell_type": "code",
   "execution_count": 81,
   "metadata": {},
   "outputs": [
    {
     "data": {
      "text/plain": [
       "0"
      ]
     },
     "execution_count": 81,
     "metadata": {},
     "output_type": "execute_result"
    }
   ],
   "source": [
    "df_sf_2017.price_per_bedroom.isnull().sum()"
   ]
  },
  {
   "cell_type": "markdown",
   "metadata": {},
   "source": [
    "## Random Forest"
   ]
  },
  {
   "cell_type": "code",
   "execution_count": 28,
   "metadata": {},
   "outputs": [],
   "source": [
    "def grid_searching (param_grid, model):\n",
    "\n",
    "    grid_search = GridSearchCV(model, \n",
    "                               param_grid=param_grid, cv=5, \n",
    "                               n_jobs=-1, scoring=make_scorer(f1_score))\n",
    "    fit = grid_search.fit(X_train, y_train)\n",
    "    predicted = fit.predict(X_test)\n",
    "    return grid_search.best_params_\n"
   ]
  },
  {
   "cell_type": "code",
   "execution_count": 11,
   "metadata": {},
   "outputs": [],
   "source": [
    "from sklearn.ensemble import RandomForestClassifier\n",
    "from sklearn.datasets import make_classification\n",
    "from sklearn.model_selection import train_test_split\n",
    "from sklearn.metrics import accuracy_score, confusion_matrix, make_scorer, recall_score, precision_score, f1_score\n",
    "from sklearn.preprocessing import LabelEncoder\n",
    "from sklearn.model_selection import GridSearchCV\n",
    "import pickle"
   ]
  },
  {
   "cell_type": "markdown",
   "metadata": {},
   "source": [
    "## Predict 2017"
   ]
  },
  {
   "cell_type": "code",
   "execution_count": 29,
   "metadata": {},
   "outputs": [],
   "source": [
    "def split_data(start_month, end_month):\n",
    "    df_sf_temp = df_sf_2017.copy()\n",
    "    X_train = df_sf_temp[(df_sf_temp['month'] >= start_month) & (df_sf_temp['month'] < end_month)][columns_to_keep]\n",
    "    y_train = df_sf_temp[(df_sf_temp['month'] >= start_month) & (df_sf_temp['month'] < end_month)]['popular']\n",
    "\n",
    "    X_test = df_sf_temp[df_sf_temp['month'] == end_month][columns_to_keep]\n",
    "    y_test = df_sf_temp[df_sf_temp['month'] == end_month]['popular']\n",
    "\n",
    "\n",
    "    return X_train, y_train, X_test, y_test\n",
    "    "
   ]
  },
  {
   "cell_type": "code",
   "execution_count": 30,
   "metadata": {},
   "outputs": [],
   "source": [
    "def transform_dummify(X, columns_to_keep):\n",
    "    df_temp = X[columns_to_keep]\n",
    "    data_dummies = pd.DataFrame([])\n",
    "    drop = []\n",
    "    \n",
    "    #dummify columns\n",
    "    for column in columns_to_keep:\n",
    "        if (df_temp[column].dtypes == 'O'):\n",
    "            drop.append(column)\n",
    "            dummies = pd.get_dummies(df_temp[column], prefix= column)\n",
    "            data_dummies = pd.concat([data_dummies, dummies], axis=1)\n",
    "\n",
    "    #join with original df\n",
    "    df_temp = df_temp.join(data_dummies)\n",
    "\n",
    "#     print(list(df_temp.columns.values))\n",
    "    #drop columns that were dummified\n",
    "    df_temp.drop(drop, axis=1, inplace = True)\n",
    "    return df_temp"
   ]
  },
  {
   "cell_type": "markdown",
   "metadata": {},
   "source": [
    "## Label encoder is not sufficient. Need OneHotEncoder. "
   ]
  },
  {
   "cell_type": "code",
   "execution_count": 33,
   "metadata": {},
   "outputs": [],
   "source": [
    "# def transform_data(X):\n",
    "#     X['extra_people'].replace('[\\=$,]', '', regex=True, inplace=True)\n",
    "# #     X['price'].replace('[\\=$,]', '', regex=True, inplace=True)\n",
    "#     X['property_type_new'] = le.fit_transform(X['property_type_new'])\n",
    "#     X['bed_type'] = le.fit_transform(X['bed_type'])\n",
    "#     X['cancellation_policy'] = le.fit_transform(X['cancellation_policy'])\n",
    "#     X['room_type'] = le.fit_transform(X['room_type'])\n",
    " \n",
    "#     return X"
   ]
  },
  {
   "cell_type": "code",
   "execution_count": 31,
   "metadata": {},
   "outputs": [],
   "source": [
    "def predict_data(X_train, y_train, X_test, y_test):\n",
    "    \n",
    "    param_grid = {'n_estimators': [500, 1000, 1500], \n",
    "                  'max_features': ['auto'], \n",
    "                  'max_depth': [None, 15],\n",
    "                  'class_weight': [None, 'balanced']}\n",
    "\n",
    "    model = RandomForestClassifier()\n",
    "    \n",
    "    best_parameters = grid_searching(param_grid, model)\n",
    "    \n",
    "    rf = RandomForestClassifier(n_estimators = best_parameters['n_estimators'], n_jobs=-1, random_state=0, max_depth = best_parameters['max_depth'], class_weight = best_parameters['class_weight'])\n",
    "    rf.fit(X_train, y_train)\n",
    "    \n",
    "    predicted = rf.predict(X_test)\n",
    "    scores[0][model_num] = accuracy_score(y_test, predicted)\n",
    "    scores[1][model_num] = recall_score(y_test, predicted)\n",
    "    scores[2][model_num] = precision_score(y_test, predicted)\n",
    "    scores[3][model_num] = f1_score(y_test, predicted)\n",
    "    return scores, rf"
   ]
  },
  {
   "cell_type": "code",
   "execution_count": 70,
   "metadata": {},
   "outputs": [],
   "source": [
    "scores = np.zeros(shape=(4,9))\n",
    "model_num = 0\n",
    "start_month = 1\n",
    "end_month = 4\n",
    "# columns_to_keep = ['accommodates','bed_type', 'extra_people', 'price','guests_included', 'host_about_filled','host_picture_url_filled', 'cancellation_policy', 'room_type']\n",
    "# columns_to_keep = ['accommodates','bed_type', 'extra_people', 'price_per_guest', 'price_per_bedroom','guests_included', 'host_about_filled','host_picture_url_filled', 'cancellation_policy', 'room_type']\n",
    "\n",
    "\n",
    "##USED THIS ONE EARLIER\n",
    "# columns_to_keep = ['access_filled', 'house_rules_filled','space_filled','accommodates','bed_type', 'extra_people', 'price_per_guest', 'price_per_bedroom','guests_included', 'host_about_filled','host_picture_url_filled', 'cancellation_policy', 'room_type', 'property_type_new']\n",
    "\n",
    "columns_to_keep = ['host_length', 'amenities_count', 'neighbourhood_cleansed', 'review_scores_rating', 'host_response_rate', 'access_filled', 'house_rules_filled','space_filled','accommodates','bed_type', 'extra_people', 'price_per_guest', 'price_per_bedroom','guests_included', 'host_about_filled','host_picture_url_filled', 'cancellation_policy', 'room_type', 'property_type_new', 'instant_bookable', 'is_business_travel_ready', 'calculated_host_listings_count', 'minimum_nights']\n",
    "\n",
    "#THIS IS A TEST ONE\n",
    "# columns_to_keep = ['accommodates','bed_type', 'extra_people', 'price_per_guest','guests_included', 'host_about_filled','host_picture_url_filled', 'cancellation_policy', 'room_type', 'property_type_new']"
   ]
  },
  {
   "cell_type": "code",
   "execution_count": null,
   "metadata": {},
   "outputs": [],
   "source": [
    "##DATA BELOW IS WITH TEST COLUMN TO KEEP"
   ]
  },
  {
   "cell_type": "code",
   "execution_count": null,
   "metadata": {},
   "outputs": [],
   "source": [
    "%%time\n",
    "while end_month <13:\n",
    "    X_train, y_train, X_test, y_test = split_data(start_month, end_month)\n",
    "    X_train = transform_dummify(X_train, columns_to_keep)\n",
    "    X_test = transform_dummify(X_test, columns_to_keep)\n",
    "    scores, rf = predict_data(X_train, y_train, X_test, y_test)\n",
    "    print(start_month, end_month, model_num)\n",
    "    start_month += 1\n",
    "    end_month += 1\n",
    "    model_num += 1\n",
    "    print(scores)\n",
    "    break"
   ]
  },
  {
   "cell_type": "code",
   "execution_count": null,
   "metadata": {},
   "outputs": [],
   "source": []
  },
  {
   "cell_type": "code",
   "execution_count": 37,
   "metadata": {},
   "outputs": [
    {
     "data": {
      "text/plain": [
       "array(['host_length', 'amenities_count', 'review_scores_rating',\n",
       "       'host_response_rate', 'access_filled', 'house_rules_filled',\n",
       "       'space_filled', 'accommodates', 'extra_people', 'price_per_guest',\n",
       "       'price_per_bedroom', 'guests_included', 'host_about_filled',\n",
       "       'host_picture_url_filled', 'neighbourhood_cleansed_Bayview',\n",
       "       'neighbourhood_cleansed_Bernal Heights',\n",
       "       'neighbourhood_cleansed_Castro/Upper Market',\n",
       "       'neighbourhood_cleansed_Chinatown',\n",
       "       'neighbourhood_cleansed_Crocker Amazon',\n",
       "       'neighbourhood_cleansed_Diamond Heights',\n",
       "       'neighbourhood_cleansed_Downtown/Civic Center',\n",
       "       'neighbourhood_cleansed_Excelsior',\n",
       "       'neighbourhood_cleansed_Financial District',\n",
       "       'neighbourhood_cleansed_Glen Park',\n",
       "       'neighbourhood_cleansed_Golden Gate Park',\n",
       "       'neighbourhood_cleansed_Haight Ashbury',\n",
       "       'neighbourhood_cleansed_Inner Richmond',\n",
       "       'neighbourhood_cleansed_Inner Sunset',\n",
       "       'neighbourhood_cleansed_Lakeshore',\n",
       "       'neighbourhood_cleansed_Marina', 'neighbourhood_cleansed_Mission',\n",
       "       'neighbourhood_cleansed_Nob Hill',\n",
       "       'neighbourhood_cleansed_Noe Valley',\n",
       "       'neighbourhood_cleansed_North Beach',\n",
       "       'neighbourhood_cleansed_Ocean View',\n",
       "       'neighbourhood_cleansed_Outer Mission',\n",
       "       'neighbourhood_cleansed_Outer Richmond',\n",
       "       'neighbourhood_cleansed_Outer Sunset',\n",
       "       'neighbourhood_cleansed_Pacific Heights',\n",
       "       'neighbourhood_cleansed_Parkside',\n",
       "       'neighbourhood_cleansed_Potrero Hill',\n",
       "       'neighbourhood_cleansed_Presidio',\n",
       "       'neighbourhood_cleansed_Presidio Heights',\n",
       "       'neighbourhood_cleansed_Russian Hill',\n",
       "       'neighbourhood_cleansed_Seacliff',\n",
       "       'neighbourhood_cleansed_South of Market',\n",
       "       'neighbourhood_cleansed_Treasure Island/YBI',\n",
       "       'neighbourhood_cleansed_Twin Peaks',\n",
       "       'neighbourhood_cleansed_Visitacion Valley',\n",
       "       'neighbourhood_cleansed_West of Twin Peaks',\n",
       "       'neighbourhood_cleansed_Western Addition', 'bed_type_Airbed',\n",
       "       'bed_type_Couch', 'bed_type_Futon', 'bed_type_Pull-out Sofa',\n",
       "       'bed_type_Real Bed', 'cancellation_policy_flexible',\n",
       "       'cancellation_policy_moderate', 'cancellation_policy_strict',\n",
       "       'cancellation_policy_super_strict_30',\n",
       "       'cancellation_policy_super_strict_60', 'room_type_Entire home/apt',\n",
       "       'room_type_Private room', 'room_type_Shared room',\n",
       "       'property_type_new_Apartment', 'property_type_new_House',\n",
       "       'property_type_new_Other'], dtype=object)"
      ]
     },
     "execution_count": 37,
     "metadata": {},
     "output_type": "execute_result"
    }
   ],
   "source": [
    "np.array(X_train.columns)"
   ]
  },
  {
   "cell_type": "code",
   "execution_count": 36,
   "metadata": {},
   "outputs": [
    {
     "data": {
      "text/plain": [
       "array([0.06298378, 0.08306105, 0.14016737, 0.06854805, 0.01724184,\n",
       "       0.0162712 , 0.01174779, 0.03962629, 0.04995908, 0.11376256,\n",
       "       0.10291359, 0.02259193, 0.01454926, 0.00002521, 0.00447527,\n",
       "       0.0079494 , 0.00843629, 0.00173774, 0.00128972, 0.00053786,\n",
       "       0.00857463, 0.00425902, 0.00224656, 0.001592  , 0.0007168 ,\n",
       "       0.00683727, 0.00526871, 0.00443224, 0.00128733, 0.00543711,\n",
       "       0.01230759, 0.0051497 , 0.00717714, 0.00330212, 0.00392734,\n",
       "       0.00407751, 0.00544476, 0.00679873, 0.00345549, 0.00477406,\n",
       "       0.00443258, 0.0001718 , 0.00106553, 0.00348224, 0.00083475,\n",
       "       0.00812534, 0.0003513 , 0.00271218, 0.00196307, 0.00333152,\n",
       "       0.00886603, 0.00083974, 0.00040641, 0.00182488, 0.00156437,\n",
       "       0.00329549, 0.0114112 , 0.01369772, 0.01144166, 0.00017974,\n",
       "       0.00001575, 0.00935145, 0.00915301, 0.00251632, 0.01325751,\n",
       "       0.01267412, 0.00809289])"
      ]
     },
     "execution_count": 36,
     "metadata": {},
     "output_type": "execute_result"
    }
   ],
   "source": [
    "rf.feature_importances_"
   ]
  },
  {
   "cell_type": "code",
   "execution_count": 51,
   "metadata": {},
   "outputs": [],
   "source": [
    "from tempfile import TemporaryFile\n",
    "scores_rf_baseline = TemporaryFile()\n",
    "np.save(scores_rf_baseline,scores)x"
   ]
  },
  {
   "cell_type": "code",
   "execution_count": 53,
   "metadata": {},
   "outputs": [
    {
     "data": {
      "text/plain": [
       "array([[0.81988506, 0.89212093, 0.88964655, 0.88999322, 0.88094975,\n",
       "        0.88061452, 0.88234636, 0.88732079, 0.85575529],\n",
       "       [0.2336272 , 0.47006931, 0.48648649, 0.4973822 , 0.47533875,\n",
       "        0.49067661, 0.49973698, 0.53308824, 0.5445224 ],\n",
       "       [0.51456311, 0.88075561, 0.87473002, 0.88601036, 0.88855117,\n",
       "        0.93692777, 0.9047619 , 0.89664311, 0.86982759],\n",
       "       [0.32135123, 0.61298274, 0.62524122, 0.63710879, 0.61935028,\n",
       "        0.64405594, 0.64384954, 0.66864295, 0.66976435]])"
      ]
     },
     "execution_count": 53,
     "metadata": {},
     "output_type": "execute_result"
    }
   ],
   "source": [
    "scores_rf_baseline.seek(0) # Only needed here to simulate closing & reopening file\n",
    "np.load(scores_rf_baseline)"
   ]
  },
  {
   "cell_type": "code",
   "execution_count": null,
   "metadata": {},
   "outputs": [],
   "source": []
  },
  {
   "cell_type": "code",
   "execution_count": 63,
   "metadata": {},
   "outputs": [
    {
     "name": "stdout",
     "output_type": "stream",
     "text": [
      "0.9226396976584265\n",
      "0.8155060019054567\n",
      "0.8160847162531671\n",
      "0.8152347872055196\n"
     ]
    }
   ],
   "source": [
    "accuracy_2017 = np.mean(scores[0])\n",
    "recall_2017 = np.mean(scores[1])\n",
    "precision_2017 = np.mean(scores[2])\n",
    "f1_score_2017 = np.mean(scores[3])\n",
    "print(accuracy_2017)\n",
    "print(recall_2017)\n",
    "print(precision_2017)\n",
    "print(f1_score_2017)"
   ]
  },
  {
   "cell_type": "code",
   "execution_count": 5,
   "metadata": {},
   "outputs": [],
   "source": [
    "def permutation_importance(model, X_test, y_test, scorer=f1_score):\n",
    "    ''' Calculates permutation feature importance for a fitted model\n",
    "    \n",
    "    Parameters\n",
    "    ----------\n",
    "    model: anything with a predict() method\n",
    "    X_test, y_test: numpy arrays of data\n",
    "        unseen by model\n",
    "    scorer: function. Should be a \"higher is better\" scoring function,\n",
    "        meaning that if you want to use an error metric, you should\n",
    "        multiply it by -1 first.\n",
    "        ex: >> neg_mse = lambda y1, y2: -mean_squared_error(y1, y2)\n",
    "            >> permutation_importance(mod, X, y, scorer=neg_mse)\n",
    "    \n",
    "    Returns\n",
    "    -------\n",
    "    feat_importances: numpy array of permutation importance\n",
    "        for each feature\n",
    "    \n",
    "    '''\n",
    "    \n",
    "    feat_importances = np.zeros(X_test.shape[1])\n",
    "    test_score = scorer(model.predict(X_test), y_test)\n",
    "    for i in range(X_test.shape[1]):\n",
    "        X_test_shuffled = shuffle_column(X_test, i)\n",
    "        test_score_permuted = scorer(model.predict(X_test_shuffled), y_test)\n",
    "        feat_importances[i] = test_score - test_score_permuted\n",
    "    return feat_importances"
   ]
  },
  {
   "cell_type": "code",
   "execution_count": 6,
   "metadata": {},
   "outputs": [],
   "source": [
    "def shuffle_column(X, feature_index):\n",
    "    ''' \n",
    "    Parameters\n",
    "    ----------\n",
    "    X: numpy array\n",
    "    feature_index: int\n",
    "    \n",
    "    Returns\n",
    "    -------\n",
    "    X_new: numpy array\n",
    "    \n",
    "    Returns a new array identical to X but\n",
    "    with all the values in column feature_index\n",
    "    shuffled\n",
    "    '''   \n",
    "    \n",
    "    X_new = X.copy()\n",
    "    np.random.shuffle(X_new[:,feature_index])\n",
    "    return X_new    "
   ]
  },
  {
   "cell_type": "code",
   "execution_count": null,
   "metadata": {},
   "outputs": [],
   "source": [
    "permutation_importance(model, X_test, y_test, scorer=f1_score)"
   ]
  },
  {
   "cell_type": "markdown",
   "metadata": {},
   "source": [
    "# Logistic Regression (RF was much better)"
   ]
  },
  {
   "cell_type": "code",
   "execution_count": 38,
   "metadata": {},
   "outputs": [],
   "source": [
    "from sklearn.linear_model import LogisticRegression"
   ]
  },
  {
   "cell_type": "code",
   "execution_count": null,
   "metadata": {},
   "outputs": [],
   "source": []
  },
  {
   "cell_type": "code",
   "execution_count": 39,
   "metadata": {},
   "outputs": [],
   "source": [
    "def split_data(start_month, end_month):\n",
    "    df_sf_temp = df_sf_2017.copy()\n",
    "    X_train = df_sf_temp[(df_sf_temp['month'] >= start_month) & (df_sf_temp['month'] < end_month)][columns_to_keep]\n",
    "    y_train = df_sf_temp[(df_sf_temp['month'] >= start_month) & (df_sf_temp['month'] < end_month)]['popular']\n",
    "\n",
    "    X_test = df_sf_temp[df_sf_temp['month'] == end_month][columns_to_keep]\n",
    "    y_test = df_sf_temp[df_sf_temp['month'] == end_month]['popular']\n",
    "    \n",
    "    return X_train, y_train, X_test, y_test\n",
    "    "
   ]
  },
  {
   "cell_type": "code",
   "execution_count": 40,
   "metadata": {},
   "outputs": [],
   "source": [
    "def transform_logistic(X, columns_to_keep):\n",
    "\n",
    "    df_temp = X[columns_to_keep]\n",
    "    data_dummies = pd.DataFrame([])\n",
    "    drop = []\n",
    "    \n",
    "    #dummify columns\n",
    "    for column in columns_to_keep:\n",
    "        if (df_temp[column].dtypes == 'O'):\n",
    "            drop.append(column)\n",
    "            dummies = pd.get_dummies(df_temp[column], prefix= column, drop_first=True)\n",
    "            data_dummies = pd.concat([data_dummies, dummies], axis=1)\n",
    "\n",
    "    #join with original df\n",
    "    df_temp = df_temp.join(data_dummies)\n",
    "\n",
    "    #drop columns that were dummified\n",
    "    df_temp.drop(drop, axis=1, inplace = True)\n",
    "\n",
    "    return df_temp"
   ]
  },
  {
   "cell_type": "code",
   "execution_count": 41,
   "metadata": {},
   "outputs": [],
   "source": [
    "def predict_logistic(X_train, y_train, X_test, y_test):\n",
    "    model = LogisticRegression(n_jobs=-1)\n",
    "    model.fit(X_train, y_train)\n",
    "    prediction = model.predict(X_test)\n",
    "    beta_coef.append(model.coef_)\n",
    "    scores_logit[0][model_num] = accuracy_score(y_test, prediction)\n",
    "    scores_logit[1][model_num] = recall_score(y_test, prediction)\n",
    "    scores_logit[2][model_num] = precision_score(y_test, prediction)\n",
    "    scores_logit[3][model_num] = f1_score(y_test, prediction)\n",
    "    return scores_logit, beta_coef"
   ]
  },
  {
   "cell_type": "code",
   "execution_count": 42,
   "metadata": {},
   "outputs": [],
   "source": [
    "beta_coef = []\n",
    "scores_logit = np.zeros(shape=(4,9))\n",
    "model_num = 0\n",
    "start_month = 1\n",
    "end_month = 4"
   ]
  },
  {
   "cell_type": "code",
   "execution_count": 43,
   "metadata": {},
   "outputs": [
    {
     "name": "stderr",
     "output_type": "stream",
     "text": [
      "/home/ubuntu/anaconda3/lib/python3.6/site-packages/sklearn/linear_model/logistic.py:1228: UserWarning: 'n_jobs' > 1 does not have any effect when 'solver' is set to 'liblinear'. Got 'n_jobs' = -1.\n",
      "  \" = {}.\".format(self.n_jobs))\n"
     ]
    },
    {
     "name": "stdout",
     "output_type": "stream",
     "text": [
      "1 4 0\n",
      "[[0.83381287 0.         0.         0.         0.         0.\n",
      "  0.         0.         0.        ]\n",
      " [0.16283651 0.         0.         0.         0.         0.\n",
      "  0.         0.         0.        ]\n",
      " [0.59472422 0.         0.         0.         0.         0.\n",
      "  0.         0.         0.        ]\n",
      " [0.2556701  0.         0.         0.         0.         0.\n",
      "  0.         0.         0.        ]]\n",
      "CPU times: user 1.07 s, sys: 216 ms, total: 1.28 s\n",
      "Wall time: 1.26 s\n"
     ]
    }
   ],
   "source": [
    "%%time\n",
    "while end_month <13:\n",
    "    X_train, y_train, X_test, y_test = split_data(start_month, end_month)\n",
    "    X_train = transform_logistic(X_train, columns_to_keep)\n",
    "    X_test = transform_logistic(X_test, columns_to_keep)\n",
    "    scores, beta_coef = predict_logistic(X_train, y_train, X_test, y_test)\n",
    "    print(start_month, end_month, model_num)\n",
    "    start_month += 1\n",
    "    end_month += 1\n",
    "    model_num += 1\n",
    "    print(scores_logit)\n",
    "    break"
   ]
  },
  {
   "cell_type": "code",
   "execution_count": null,
   "metadata": {},
   "outputs": [],
   "source": []
  },
  {
   "cell_type": "code",
   "execution_count": 50,
   "metadata": {},
   "outputs": [
    {
     "name": "stderr",
     "output_type": "stream",
     "text": [
      "/home/ubuntu/anaconda3/lib/python3.6/site-packages/sklearn/linear_model/logistic.py:1228: UserWarning: 'n_jobs' > 1 does not have any effect when 'solver' is set to 'liblinear'. Got 'n_jobs' = -1.\n",
      "  \" = {}.\".format(self.n_jobs))\n"
     ]
    },
    {
     "name": "stdout",
     "output_type": "stream",
     "text": [
      "1 4 0\n",
      "[[0.81747036 0.         0.         0.         0.         0.\n",
      "  0.         0.         0.        ]\n",
      " [0.04219144 0.         0.         0.         0.         0.\n",
      "  0.         0.         0.        ]\n",
      " [0.50757576 0.         0.         0.         0.         0.\n",
      "  0.         0.         0.        ]\n",
      " [0.07790698 0.         0.         0.         0.         0.\n",
      "  0.         0.         0.        ]]\n",
      "CPU times: user 628 ms, sys: 100 ms, total: 728 ms\n",
      "Wall time: 753 ms\n"
     ]
    }
   ],
   "source": [
    "%%time\n",
    "while end_month <13:\n",
    "    X_train, y_train, X_test, y_test = split_data(start_month, end_month)\n",
    "    X_train = transform_logistic(X_train, columns_to_keep)\n",
    "    X_test = transform_logistic(X_test, columns_to_keep)\n",
    "    scores, beta_coef = predict_logistic(X_train, y_train, X_test, y_test)\n",
    "    print(start_month, end_month, model_num)\n",
    "    start_month += 1\n",
    "    end_month += 1\n",
    "    model_num += 1\n",
    "    print(scores_logit)\n",
    "    break"
   ]
  },
  {
   "cell_type": "code",
   "execution_count": 23,
   "metadata": {},
   "outputs": [
    {
     "name": "stdout",
     "output_type": "stream",
     "text": [
      "0.7946514661754123\n",
      "0.09126554689101034\n",
      "0.5577129954488265\n",
      "0.15490514368378314\n"
     ]
    }
   ],
   "source": [
    "accuracy_2017 = np.mean(scores_logit[0])\n",
    "recall_2017 = np.mean(scores_logit[1])\n",
    "precision_2017 = np.mean(scores_logit[2])\n",
    "f1_score_2017 = np.mean(scores_logit[3])\n",
    "print(accuracy_2017)\n",
    "print(recall_2017)\n",
    "print(precision_2017)\n",
    "print(f1_score_2017)"
   ]
  },
  {
   "cell_type": "code",
   "execution_count": 24,
   "metadata": {
    "collapsed": true
   },
   "outputs": [
    {
     "data": {
      "text/plain": [
       "[array([[ 0.53007962,  0.67561263,  0.15006667,  0.10604996, -0.00633706,\n",
       "         -1.19853999,  0.18120679, -0.40059964,  0.20662239,  0.55194041,\n",
       "         -0.62838955, -0.38660583, -0.17662322,  0.09120517,  0.24184857,\n",
       "         -0.08783601,  0.81886815,  0.49857129, -1.57654837, -0.51161991,\n",
       "         -0.57295504, -0.21805468, -0.06755512, -0.38932237, -0.08382664,\n",
       "         -0.38541583]]),\n",
       " array([[ 0.4976066 ,  0.61940049,  0.23575569,  0.13464937, -0.00675129,\n",
       "         -1.5968739 ,  0.19256912, -0.56326032,  0.21077625,  0.62926188,\n",
       "         -0.63483379, -0.26512533, -0.10449351,  0.24839223,  0.33377135,\n",
       "         -0.03210413,  0.84458651,  0.566181  , -1.45039404, -0.35055838,\n",
       "         -0.3713931 , -0.0344765 , -0.01641945, -0.24013341,  0.05059158,\n",
       "         -0.23274721]]),\n",
       " array([[ 0.46440042,  0.62811662,  0.30463579,  0.16218218, -0.00760389,\n",
       "         -2.00973591,  0.22392864, -0.73386785,  0.24822121,  0.33242678,\n",
       "         -0.6659505 , -0.10145976, -0.04422087,  0.4338944 ,  0.47473763,\n",
       "          0.1508726 ,  0.97505505,  0.73197927, -1.43074241, -0.3301636 ,\n",
       "         -0.13828558,  0.1522369 ,  0.08304959, -0.08922425,  0.20938722,\n",
       "         -0.02316206]]),\n",
       " array([[ 0.441988  ,  0.62996997,  0.32684619,  0.15293897, -0.00719253,\n",
       "         -1.98833369,  0.23556498, -0.72823887,  0.23585432,  0.12245435,\n",
       "         -0.86978466,  0.03749309, -0.06808762,  0.46776319,  0.57078242,\n",
       "          0.20681952,  0.96197137,  0.73705178, -1.42941585, -0.3382604 ,\n",
       "         -0.1365483 ,  0.13693091,  0.13778381, -0.0984493 ,  0.21354104,\n",
       "          0.02307468]]),\n",
       " array([[ 0.45157352,  0.64779173,  0.32747172,  0.14273028, -0.00701243,\n",
       "         -1.95024636,  0.23579726, -0.72438749,  0.20281228,  0.05915136,\n",
       "         -0.67755236,  0.05821767, -0.13876444,  0.333972  ,  0.58966921,\n",
       "          0.24575162,  0.94085062,  0.71855963, -1.43325127, -0.30636852,\n",
       "         -0.11523052,  0.13218732,  0.14858529, -0.13011604,  0.20947022,\n",
       "          0.0861879 ]]),\n",
       " array([[ 0.48179768,  0.68403177,  0.21399189,  0.13301207, -0.0062431 ,\n",
       "         -1.88950139,  0.22233889, -0.69930265,  0.14019277,  0.76090982,\n",
       "         -0.6096173 ,  0.03911775, -0.22517784,  0.1228778 ,  0.52660805,\n",
       "          0.21306263,  0.9025128 ,  0.67409518, -1.50699693, -0.42886523,\n",
       "         -0.23471013,  0.01755406,  0.07096452, -0.26279698,  0.08909224,\n",
       "          0.0275132 ]]),\n",
       " array([[ 0.49401856,  0.65813374,  0.15770387,  0.12808006, -0.0056504 ,\n",
       "         -1.80775183,  0.22012904, -0.65853463,  0.08241261,  0.44298424,\n",
       "         -0.51823227,  0.03937159, -0.18681553,  0.14030526,  0.54329977,\n",
       "          0.19507814,  0.92259694,  0.67094995, -1.4860803 , -0.2846159 ,\n",
       "         -0.21463387,  0.04747575,  0.18508695, -0.22393677,  0.15047273,\n",
       "          0.09139287]]),\n",
       " array([[ 0.48014104,  0.66280767,  0.14619455,  0.13561525, -0.00487435,\n",
       "         -1.75974251,  0.22940671, -0.63896462,  0.01603111,  0.71326332,\n",
       "         -0.68989322, -0.11245499, -0.10617495,  0.18017453,  0.52880524,\n",
       "          0.14725859,  0.96926744,  0.67421862, -1.53772569, -0.45256235,\n",
       "         -0.31212393, -0.01432266,  0.1269032 , -0.31006343,  0.08598571,\n",
       "          0.02453433]]),\n",
       " array([[ 0.39747016,  0.66333592,  0.26164349,  0.13520581, -0.00444728,\n",
       "         -1.75766715,  0.23867897, -0.65386208, -0.03756715,  0.19113639,\n",
       "         -0.67274538, -0.34716588, -0.01983221,  0.39335514,  0.61498754,\n",
       "          0.24617752,  1.1338188 ,  0.81572555, -1.7451586 , -0.48196408,\n",
       "         -0.20981902,  0.10729566,  0.07112255, -0.27320363,  0.15300958,\n",
       "          0.08879324]])]"
      ]
     },
     "execution_count": 24,
     "metadata": {},
     "output_type": "execute_result"
    }
   ],
   "source": [
    "beta_coef"
   ]
  },
  {
   "cell_type": "code",
   "execution_count": 14,
   "metadata": {},
   "outputs": [],
   "source": [
    "# Compute the change in odds ratio from a one unit change in each feature."
   ]
  },
  {
   "cell_type": "code",
   "execution_count": 143,
   "metadata": {
    "collapsed": true
   },
   "outputs": [
    {
     "name": "stdout",
     "output_type": "stream",
     "text": [
      "beta1: 1.69907\n",
      "beta2: 1.96524\n",
      "beta3: 1.16191\n",
      "beta4: 1.11188\n",
      "beta5: 0.99368\n",
      "beta6: 0.30163\n",
      "beta7: 1.19866\n",
      "beta8: 0.66992\n",
      "beta9: 1.22952\n",
      "beta10: 1.73662\n",
      "beta11: 0.53345\n",
      "beta12: 0.67936\n",
      "beta13: 0.83810\n",
      "beta14: 1.09549\n",
      "beta15: 1.27360\n",
      "beta16: 0.91591\n",
      "beta17: 2.26793\n",
      "beta18: 1.64637\n",
      "beta19: 0.20669\n",
      "beta20: 0.59952\n",
      "beta21: 0.56386\n",
      "beta22: 0.80408\n",
      "beta23: 0.93468\n",
      "beta24: 0.67752\n",
      "beta25: 0.91959\n",
      "beta26: 0.68017\n"
     ]
    }
   ],
   "source": [
    "from math import exp\n",
    "for i, coef in enumerate(model.coef_[0]):\n",
    "    print(\"beta%d: %.5f\" % (i + 1, exp(coef)))"
   ]
  },
  {
   "cell_type": "code",
   "execution_count": null,
   "metadata": {},
   "outputs": [],
   "source": [
    "# Increasing the ____ feature by 1 point increases the chance of being popular by a factor of __ (1.00189)."
   ]
  },
  {
   "cell_type": "code",
   "execution_count": 144,
   "metadata": {
    "collapsed": true
   },
   "outputs": [
    {
     "name": "stdout",
     "output_type": "stream",
     "text": [
      "0 access_filled\n",
      "1 house_rules_filled\n",
      "2 space_filled\n",
      "3 accommodates\n",
      "4 extra_people\n",
      "5 price_per_guest\n",
      "6 price_per_bedroom\n",
      "7 guests_included\n",
      "8 host_about_filled\n",
      "9 host_picture_url_filled\n",
      "10 bed_type_Airbed\n",
      "11 bed_type_Couch\n",
      "12 bed_type_Futon\n",
      "13 bed_type_Pull-out Sofa\n",
      "14 bed_type_Real Bed\n",
      "15 cancellation_policy_flexible\n",
      "16 cancellation_policy_moderate\n",
      "17 cancellation_policy_strict\n",
      "18 cancellation_policy_super_strict_30\n",
      "19 cancellation_policy_super_strict_60\n",
      "20 room_type_Entire home/apt\n",
      "21 room_type_Private room\n",
      "22 room_type_Shared room\n",
      "23 property_type_new_Apartment\n",
      "24 property_type_new_House\n",
      "25 property_type_new_Other\n"
     ]
    }
   ],
   "source": [
    "for i, col in enumerate(list(X_train.columns.values)):\n",
    "    print(i, col)"
   ]
  },
  {
   "cell_type": "markdown",
   "metadata": {},
   "source": [
    "## XGBoost with one quarter"
   ]
  },
  {
   "cell_type": "code",
   "execution_count": 44,
   "metadata": {},
   "outputs": [],
   "source": [
    "from xgboost import XGBClassifier"
   ]
  },
  {
   "cell_type": "code",
   "execution_count": 45,
   "metadata": {},
   "outputs": [],
   "source": [
    "#test with first quarter\n",
    "df_sf_temp = df_sf_2017.copy()\n",
    "start_month = 1\n",
    "end_month = 4\n",
    "X_train = df_sf_temp[(df_sf_temp['month'] >= start_month) & (df_sf_temp['month'] < end_month)][columns_to_keep]\n",
    "y_train = df_sf_temp[(df_sf_temp['month'] >= start_month) & (df_sf_temp['month'] < end_month)]['popular']\n",
    "\n",
    "X_test = df_sf_temp[df_sf_temp['month'] == end_month][columns_to_keep]\n",
    "y_test = df_sf_temp[df_sf_temp['month'] == end_month]['popular']\n"
   ]
  },
  {
   "cell_type": "code",
   "execution_count": 46,
   "metadata": {},
   "outputs": [],
   "source": [
    "def transform_dummify(X, columns_to_keep):\n",
    "    df_temp = X[columns_to_keep]\n",
    "    data_dummies = pd.DataFrame([])\n",
    "    drop = []\n",
    "    \n",
    "    #dummify columns\n",
    "    for column in columns_to_keep:\n",
    "        if (df_temp[column].dtypes == 'O'):\n",
    "            drop.append(column)\n",
    "            dummies = pd.get_dummies(df_temp[column], prefix= column)\n",
    "            data_dummies = pd.concat([data_dummies, dummies], axis=1)\n",
    "\n",
    "    #join with original df\n",
    "    df_temp = df_temp.join(data_dummies)\n",
    "\n",
    "#     print(list(df_temp.columns.values))\n",
    "    #drop columns that were dummified\n",
    "    df_temp.drop(drop, axis=1, inplace = True)\n",
    "    return df_temp"
   ]
  },
  {
   "cell_type": "code",
   "execution_count": 47,
   "metadata": {},
   "outputs": [],
   "source": [
    "X_train = transform_dummify(X_train, columns_to_keep)"
   ]
  },
  {
   "cell_type": "code",
   "execution_count": 48,
   "metadata": {},
   "outputs": [],
   "source": [
    "X_test = transform_dummify(X_test, columns_to_keep)"
   ]
  },
  {
   "cell_type": "code",
   "execution_count": 49,
   "metadata": {},
   "outputs": [
    {
     "name": "stderr",
     "output_type": "stream",
     "text": [
      "/home/ubuntu/anaconda3/lib/python3.6/site-packages/sklearn/preprocessing/label.py:151: DeprecationWarning: The truth value of an empty array is ambiguous. Returning False, but in future this will result in an error. Use `array.size > 0` to check that an array is not empty.\n",
      "  if diff:\n",
      "/home/ubuntu/anaconda3/lib/python3.6/site-packages/sklearn/preprocessing/label.py:151: DeprecationWarning: The truth value of an empty array is ambiguous. Returning False, but in future this will result in an error. Use `array.size > 0` to check that an array is not empty.\n",
      "  if diff:\n",
      "/home/ubuntu/anaconda3/lib/python3.6/site-packages/sklearn/preprocessing/label.py:151: DeprecationWarning: The truth value of an empty array is ambiguous. Returning False, but in future this will result in an error. Use `array.size > 0` to check that an array is not empty.\n",
      "  if diff:\n",
      "/home/ubuntu/anaconda3/lib/python3.6/site-packages/sklearn/preprocessing/label.py:151: DeprecationWarning: The truth value of an empty array is ambiguous. Returning False, but in future this will result in an error. Use `array.size > 0` to check that an array is not empty.\n",
      "  if diff:\n",
      "/home/ubuntu/anaconda3/lib/python3.6/site-packages/sklearn/preprocessing/label.py:151: DeprecationWarning: The truth value of an empty array is ambiguous. Returning False, but in future this will result in an error. Use `array.size > 0` to check that an array is not empty.\n",
      "  if diff:\n",
      "/home/ubuntu/anaconda3/lib/python3.6/site-packages/sklearn/preprocessing/label.py:151: DeprecationWarning: The truth value of an empty array is ambiguous. Returning False, but in future this will result in an error. Use `array.size > 0` to check that an array is not empty.\n",
      "  if diff:\n",
      "/home/ubuntu/anaconda3/lib/python3.6/site-packages/sklearn/preprocessing/label.py:151: DeprecationWarning: The truth value of an empty array is ambiguous. Returning False, but in future this will result in an error. Use `array.size > 0` to check that an array is not empty.\n",
      "  if diff:\n",
      "/home/ubuntu/anaconda3/lib/python3.6/site-packages/sklearn/preprocessing/label.py:151: DeprecationWarning: The truth value of an empty array is ambiguous. Returning False, but in future this will result in an error. Use `array.size > 0` to check that an array is not empty.\n",
      "  if diff:\n",
      "/home/ubuntu/anaconda3/lib/python3.6/site-packages/sklearn/preprocessing/label.py:151: DeprecationWarning: The truth value of an empty array is ambiguous. Returning False, but in future this will result in an error. Use `array.size > 0` to check that an array is not empty.\n",
      "  if diff:\n",
      "/home/ubuntu/anaconda3/lib/python3.6/site-packages/sklearn/preprocessing/label.py:151: DeprecationWarning: The truth value of an empty array is ambiguous. Returning False, but in future this will result in an error. Use `array.size > 0` to check that an array is not empty.\n",
      "  if diff:\n",
      "/home/ubuntu/anaconda3/lib/python3.6/site-packages/sklearn/preprocessing/label.py:151: DeprecationWarning: The truth value of an empty array is ambiguous. Returning False, but in future this will result in an error. Use `array.size > 0` to check that an array is not empty.\n",
      "  if diff:\n",
      "/home/ubuntu/anaconda3/lib/python3.6/site-packages/sklearn/preprocessing/label.py:151: DeprecationWarning: The truth value of an empty array is ambiguous. Returning False, but in future this will result in an error. Use `array.size > 0` to check that an array is not empty.\n",
      "  if diff:\n",
      "/home/ubuntu/anaconda3/lib/python3.6/site-packages/sklearn/preprocessing/label.py:151: DeprecationWarning: The truth value of an empty array is ambiguous. Returning False, but in future this will result in an error. Use `array.size > 0` to check that an array is not empty.\n",
      "  if diff:\n",
      "/home/ubuntu/anaconda3/lib/python3.6/site-packages/sklearn/preprocessing/label.py:151: DeprecationWarning: The truth value of an empty array is ambiguous. Returning False, but in future this will result in an error. Use `array.size > 0` to check that an array is not empty.\n",
      "  if diff:\n",
      "/home/ubuntu/anaconda3/lib/python3.6/site-packages/sklearn/preprocessing/label.py:151: DeprecationWarning: The truth value of an empty array is ambiguous. Returning False, but in future this will result in an error. Use `array.size > 0` to check that an array is not empty.\n",
      "  if diff:\n",
      "/home/ubuntu/anaconda3/lib/python3.6/site-packages/sklearn/preprocessing/label.py:151: DeprecationWarning: The truth value of an empty array is ambiguous. Returning False, but in future this will result in an error. Use `array.size > 0` to check that an array is not empty.\n",
      "  if diff:\n",
      "/home/ubuntu/anaconda3/lib/python3.6/site-packages/sklearn/preprocessing/label.py:151: DeprecationWarning: The truth value of an empty array is ambiguous. Returning False, but in future this will result in an error. Use `array.size > 0` to check that an array is not empty.\n",
      "  if diff:\n",
      "/home/ubuntu/anaconda3/lib/python3.6/site-packages/sklearn/preprocessing/label.py:151: DeprecationWarning: The truth value of an empty array is ambiguous. Returning False, but in future this will result in an error. Use `array.size > 0` to check that an array is not empty.\n",
      "  if diff:\n",
      "/home/ubuntu/anaconda3/lib/python3.6/site-packages/sklearn/preprocessing/label.py:151: DeprecationWarning: The truth value of an empty array is ambiguous. Returning False, but in future this will result in an error. Use `array.size > 0` to check that an array is not empty.\n",
      "  if diff:\n",
      "/home/ubuntu/anaconda3/lib/python3.6/site-packages/sklearn/preprocessing/label.py:151: DeprecationWarning: The truth value of an empty array is ambiguous. Returning False, but in future this will result in an error. Use `array.size > 0` to check that an array is not empty.\n",
      "  if diff:\n",
      "/home/ubuntu/anaconda3/lib/python3.6/site-packages/sklearn/preprocessing/label.py:151: DeprecationWarning: The truth value of an empty array is ambiguous. Returning False, but in future this will result in an error. Use `array.size > 0` to check that an array is not empty.\n",
      "  if diff:\n",
      "/home/ubuntu/anaconda3/lib/python3.6/site-packages/sklearn/preprocessing/label.py:151: DeprecationWarning: The truth value of an empty array is ambiguous. Returning False, but in future this will result in an error. Use `array.size > 0` to check that an array is not empty.\n",
      "  if diff:\n",
      "/home/ubuntu/anaconda3/lib/python3.6/site-packages/sklearn/preprocessing/label.py:151: DeprecationWarning: The truth value of an empty array is ambiguous. Returning False, but in future this will result in an error. Use `array.size > 0` to check that an array is not empty.\n",
      "  if diff:\n",
      "/home/ubuntu/anaconda3/lib/python3.6/site-packages/sklearn/preprocessing/label.py:151: DeprecationWarning: The truth value of an empty array is ambiguous. Returning False, but in future this will result in an error. Use `array.size > 0` to check that an array is not empty.\n",
      "  if diff:\n",
      "/home/ubuntu/anaconda3/lib/python3.6/site-packages/sklearn/preprocessing/label.py:151: DeprecationWarning: The truth value of an empty array is ambiguous. Returning False, but in future this will result in an error. Use `array.size > 0` to check that an array is not empty.\n",
      "  if diff:\n",
      "/home/ubuntu/anaconda3/lib/python3.6/site-packages/sklearn/preprocessing/label.py:151: DeprecationWarning: The truth value of an empty array is ambiguous. Returning False, but in future this will result in an error. Use `array.size > 0` to check that an array is not empty.\n",
      "  if diff:\n",
      "/home/ubuntu/anaconda3/lib/python3.6/site-packages/sklearn/preprocessing/label.py:151: DeprecationWarning: The truth value of an empty array is ambiguous. Returning False, but in future this will result in an error. Use `array.size > 0` to check that an array is not empty.\n",
      "  if diff:\n",
      "/home/ubuntu/anaconda3/lib/python3.6/site-packages/sklearn/preprocessing/label.py:151: DeprecationWarning: The truth value of an empty array is ambiguous. Returning False, but in future this will result in an error. Use `array.size > 0` to check that an array is not empty.\n",
      "  if diff:\n",
      "/home/ubuntu/anaconda3/lib/python3.6/site-packages/sklearn/preprocessing/label.py:151: DeprecationWarning: The truth value of an empty array is ambiguous. Returning False, but in future this will result in an error. Use `array.size > 0` to check that an array is not empty.\n",
      "  if diff:\n"
     ]
    },
    {
     "name": "stderr",
     "output_type": "stream",
     "text": [
      "/home/ubuntu/anaconda3/lib/python3.6/site-packages/sklearn/preprocessing/label.py:151: DeprecationWarning: The truth value of an empty array is ambiguous. Returning False, but in future this will result in an error. Use `array.size > 0` to check that an array is not empty.\n",
      "  if diff:\n",
      "/home/ubuntu/anaconda3/lib/python3.6/site-packages/sklearn/preprocessing/label.py:151: DeprecationWarning: The truth value of an empty array is ambiguous. Returning False, but in future this will result in an error. Use `array.size > 0` to check that an array is not empty.\n",
      "  if diff:\n",
      "/home/ubuntu/anaconda3/lib/python3.6/site-packages/sklearn/preprocessing/label.py:151: DeprecationWarning: The truth value of an empty array is ambiguous. Returning False, but in future this will result in an error. Use `array.size > 0` to check that an array is not empty.\n",
      "  if diff:\n",
      "/home/ubuntu/anaconda3/lib/python3.6/site-packages/sklearn/preprocessing/label.py:151: DeprecationWarning: The truth value of an empty array is ambiguous. Returning False, but in future this will result in an error. Use `array.size > 0` to check that an array is not empty.\n",
      "  if diff:\n",
      "/home/ubuntu/anaconda3/lib/python3.6/site-packages/sklearn/preprocessing/label.py:151: DeprecationWarning: The truth value of an empty array is ambiguous. Returning False, but in future this will result in an error. Use `array.size > 0` to check that an array is not empty.\n",
      "  if diff:\n",
      "/home/ubuntu/anaconda3/lib/python3.6/site-packages/sklearn/preprocessing/label.py:151: DeprecationWarning: The truth value of an empty array is ambiguous. Returning False, but in future this will result in an error. Use `array.size > 0` to check that an array is not empty.\n",
      "  if diff:\n",
      "/home/ubuntu/anaconda3/lib/python3.6/site-packages/sklearn/preprocessing/label.py:151: DeprecationWarning: The truth value of an empty array is ambiguous. Returning False, but in future this will result in an error. Use `array.size > 0` to check that an array is not empty.\n",
      "  if diff:\n",
      "/home/ubuntu/anaconda3/lib/python3.6/site-packages/sklearn/preprocessing/label.py:151: DeprecationWarning: The truth value of an empty array is ambiguous. Returning False, but in future this will result in an error. Use `array.size > 0` to check that an array is not empty.\n",
      "  if diff:\n",
      "/home/ubuntu/anaconda3/lib/python3.6/site-packages/sklearn/preprocessing/label.py:151: DeprecationWarning: The truth value of an empty array is ambiguous. Returning False, but in future this will result in an error. Use `array.size > 0` to check that an array is not empty.\n",
      "  if diff:\n",
      "/home/ubuntu/anaconda3/lib/python3.6/site-packages/sklearn/preprocessing/label.py:151: DeprecationWarning: The truth value of an empty array is ambiguous. Returning False, but in future this will result in an error. Use `array.size > 0` to check that an array is not empty.\n",
      "  if diff:\n",
      "/home/ubuntu/anaconda3/lib/python3.6/site-packages/sklearn/preprocessing/label.py:151: DeprecationWarning: The truth value of an empty array is ambiguous. Returning False, but in future this will result in an error. Use `array.size > 0` to check that an array is not empty.\n",
      "  if diff:\n",
      "/home/ubuntu/anaconda3/lib/python3.6/site-packages/sklearn/preprocessing/label.py:151: DeprecationWarning: The truth value of an empty array is ambiguous. Returning False, but in future this will result in an error. Use `array.size > 0` to check that an array is not empty.\n",
      "  if diff:\n",
      "/home/ubuntu/anaconda3/lib/python3.6/site-packages/sklearn/preprocessing/label.py:151: DeprecationWarning: The truth value of an empty array is ambiguous. Returning False, but in future this will result in an error. Use `array.size > 0` to check that an array is not empty.\n",
      "  if diff:\n",
      "/home/ubuntu/anaconda3/lib/python3.6/site-packages/sklearn/preprocessing/label.py:151: DeprecationWarning: The truth value of an empty array is ambiguous. Returning False, but in future this will result in an error. Use `array.size > 0` to check that an array is not empty.\n",
      "  if diff:\n",
      "/home/ubuntu/anaconda3/lib/python3.6/site-packages/sklearn/preprocessing/label.py:151: DeprecationWarning: The truth value of an empty array is ambiguous. Returning False, but in future this will result in an error. Use `array.size > 0` to check that an array is not empty.\n",
      "  if diff:\n",
      "/home/ubuntu/anaconda3/lib/python3.6/site-packages/sklearn/preprocessing/label.py:151: DeprecationWarning: The truth value of an empty array is ambiguous. Returning False, but in future this will result in an error. Use `array.size > 0` to check that an array is not empty.\n",
      "  if diff:\n",
      "/home/ubuntu/anaconda3/lib/python3.6/site-packages/sklearn/preprocessing/label.py:151: DeprecationWarning: The truth value of an empty array is ambiguous. Returning False, but in future this will result in an error. Use `array.size > 0` to check that an array is not empty.\n",
      "  if diff:\n",
      "/home/ubuntu/anaconda3/lib/python3.6/site-packages/sklearn/preprocessing/label.py:151: DeprecationWarning: The truth value of an empty array is ambiguous. Returning False, but in future this will result in an error. Use `array.size > 0` to check that an array is not empty.\n",
      "  if diff:\n",
      "/home/ubuntu/anaconda3/lib/python3.6/site-packages/sklearn/preprocessing/label.py:151: DeprecationWarning: The truth value of an empty array is ambiguous. Returning False, but in future this will result in an error. Use `array.size > 0` to check that an array is not empty.\n",
      "  if diff:\n",
      "/home/ubuntu/anaconda3/lib/python3.6/site-packages/sklearn/preprocessing/label.py:151: DeprecationWarning: The truth value of an empty array is ambiguous. Returning False, but in future this will result in an error. Use `array.size > 0` to check that an array is not empty.\n",
      "  if diff:\n",
      "/home/ubuntu/anaconda3/lib/python3.6/site-packages/sklearn/preprocessing/label.py:151: DeprecationWarning: The truth value of an empty array is ambiguous. Returning False, but in future this will result in an error. Use `array.size > 0` to check that an array is not empty.\n",
      "  if diff:\n",
      "/home/ubuntu/anaconda3/lib/python3.6/site-packages/sklearn/preprocessing/label.py:151: DeprecationWarning: The truth value of an empty array is ambiguous. Returning False, but in future this will result in an error. Use `array.size > 0` to check that an array is not empty.\n",
      "  if diff:\n",
      "/home/ubuntu/anaconda3/lib/python3.6/site-packages/sklearn/preprocessing/label.py:151: DeprecationWarning: The truth value of an empty array is ambiguous. Returning False, but in future this will result in an error. Use `array.size > 0` to check that an array is not empty.\n",
      "  if diff:\n",
      "/home/ubuntu/anaconda3/lib/python3.6/site-packages/sklearn/preprocessing/label.py:151: DeprecationWarning: The truth value of an empty array is ambiguous. Returning False, but in future this will result in an error. Use `array.size > 0` to check that an array is not empty.\n",
      "  if diff:\n",
      "/home/ubuntu/anaconda3/lib/python3.6/site-packages/sklearn/preprocessing/label.py:151: DeprecationWarning: The truth value of an empty array is ambiguous. Returning False, but in future this will result in an error. Use `array.size > 0` to check that an array is not empty.\n",
      "  if diff:\n",
      "/home/ubuntu/anaconda3/lib/python3.6/site-packages/sklearn/preprocessing/label.py:151: DeprecationWarning: The truth value of an empty array is ambiguous. Returning False, but in future this will result in an error. Use `array.size > 0` to check that an array is not empty.\n",
      "  if diff:\n",
      "/home/ubuntu/anaconda3/lib/python3.6/site-packages/sklearn/preprocessing/label.py:151: DeprecationWarning: The truth value of an empty array is ambiguous. Returning False, but in future this will result in an error. Use `array.size > 0` to check that an array is not empty.\n",
      "  if diff:\n",
      "/home/ubuntu/anaconda3/lib/python3.6/site-packages/sklearn/preprocessing/label.py:151: DeprecationWarning: The truth value of an empty array is ambiguous. Returning False, but in future this will result in an error. Use `array.size > 0` to check that an array is not empty.\n",
      "  if diff:\n",
      "/home/ubuntu/anaconda3/lib/python3.6/site-packages/sklearn/preprocessing/label.py:151: DeprecationWarning: The truth value of an empty array is ambiguous. Returning False, but in future this will result in an error. Use `array.size > 0` to check that an array is not empty.\n",
      "  if diff:\n"
     ]
    },
    {
     "name": "stderr",
     "output_type": "stream",
     "text": [
      "/home/ubuntu/anaconda3/lib/python3.6/site-packages/sklearn/preprocessing/label.py:151: DeprecationWarning: The truth value of an empty array is ambiguous. Returning False, but in future this will result in an error. Use `array.size > 0` to check that an array is not empty.\n",
      "  if diff:\n",
      "/home/ubuntu/anaconda3/lib/python3.6/site-packages/sklearn/preprocessing/label.py:151: DeprecationWarning: The truth value of an empty array is ambiguous. Returning False, but in future this will result in an error. Use `array.size > 0` to check that an array is not empty.\n",
      "  if diff:\n",
      "/home/ubuntu/anaconda3/lib/python3.6/site-packages/sklearn/preprocessing/label.py:151: DeprecationWarning: The truth value of an empty array is ambiguous. Returning False, but in future this will result in an error. Use `array.size > 0` to check that an array is not empty.\n",
      "  if diff:\n",
      "/home/ubuntu/anaconda3/lib/python3.6/site-packages/sklearn/preprocessing/label.py:151: DeprecationWarning: The truth value of an empty array is ambiguous. Returning False, but in future this will result in an error. Use `array.size > 0` to check that an array is not empty.\n",
      "  if diff:\n",
      "/home/ubuntu/anaconda3/lib/python3.6/site-packages/sklearn/preprocessing/label.py:151: DeprecationWarning: The truth value of an empty array is ambiguous. Returning False, but in future this will result in an error. Use `array.size > 0` to check that an array is not empty.\n",
      "  if diff:\n",
      "/home/ubuntu/anaconda3/lib/python3.6/site-packages/sklearn/preprocessing/label.py:151: DeprecationWarning: The truth value of an empty array is ambiguous. Returning False, but in future this will result in an error. Use `array.size > 0` to check that an array is not empty.\n",
      "  if diff:\n",
      "/home/ubuntu/anaconda3/lib/python3.6/site-packages/sklearn/preprocessing/label.py:151: DeprecationWarning: The truth value of an empty array is ambiguous. Returning False, but in future this will result in an error. Use `array.size > 0` to check that an array is not empty.\n",
      "  if diff:\n",
      "/home/ubuntu/anaconda3/lib/python3.6/site-packages/sklearn/preprocessing/label.py:151: DeprecationWarning: The truth value of an empty array is ambiguous. Returning False, but in future this will result in an error. Use `array.size > 0` to check that an array is not empty.\n",
      "  if diff:\n",
      "/home/ubuntu/anaconda3/lib/python3.6/site-packages/sklearn/preprocessing/label.py:151: DeprecationWarning: The truth value of an empty array is ambiguous. Returning False, but in future this will result in an error. Use `array.size > 0` to check that an array is not empty.\n",
      "  if diff:\n",
      "/home/ubuntu/anaconda3/lib/python3.6/site-packages/sklearn/preprocessing/label.py:151: DeprecationWarning: The truth value of an empty array is ambiguous. Returning False, but in future this will result in an error. Use `array.size > 0` to check that an array is not empty.\n",
      "  if diff:\n",
      "/home/ubuntu/anaconda3/lib/python3.6/site-packages/sklearn/preprocessing/label.py:151: DeprecationWarning: The truth value of an empty array is ambiguous. Returning False, but in future this will result in an error. Use `array.size > 0` to check that an array is not empty.\n",
      "  if diff:\n",
      "/home/ubuntu/anaconda3/lib/python3.6/site-packages/sklearn/preprocessing/label.py:151: DeprecationWarning: The truth value of an empty array is ambiguous. Returning False, but in future this will result in an error. Use `array.size > 0` to check that an array is not empty.\n",
      "  if diff:\n",
      "/home/ubuntu/anaconda3/lib/python3.6/site-packages/sklearn/preprocessing/label.py:151: DeprecationWarning: The truth value of an empty array is ambiguous. Returning False, but in future this will result in an error. Use `array.size > 0` to check that an array is not empty.\n",
      "  if diff:\n",
      "/home/ubuntu/anaconda3/lib/python3.6/site-packages/sklearn/preprocessing/label.py:151: DeprecationWarning: The truth value of an empty array is ambiguous. Returning False, but in future this will result in an error. Use `array.size > 0` to check that an array is not empty.\n",
      "  if diff:\n",
      "/home/ubuntu/anaconda3/lib/python3.6/site-packages/sklearn/preprocessing/label.py:151: DeprecationWarning: The truth value of an empty array is ambiguous. Returning False, but in future this will result in an error. Use `array.size > 0` to check that an array is not empty.\n",
      "  if diff:\n",
      "/home/ubuntu/anaconda3/lib/python3.6/site-packages/sklearn/preprocessing/label.py:151: DeprecationWarning: The truth value of an empty array is ambiguous. Returning False, but in future this will result in an error. Use `array.size > 0` to check that an array is not empty.\n",
      "  if diff:\n",
      "/home/ubuntu/anaconda3/lib/python3.6/site-packages/sklearn/preprocessing/label.py:151: DeprecationWarning: The truth value of an empty array is ambiguous. Returning False, but in future this will result in an error. Use `array.size > 0` to check that an array is not empty.\n",
      "  if diff:\n",
      "/home/ubuntu/anaconda3/lib/python3.6/site-packages/sklearn/preprocessing/label.py:151: DeprecationWarning: The truth value of an empty array is ambiguous. Returning False, but in future this will result in an error. Use `array.size > 0` to check that an array is not empty.\n",
      "  if diff:\n",
      "/home/ubuntu/anaconda3/lib/python3.6/site-packages/sklearn/preprocessing/label.py:151: DeprecationWarning: The truth value of an empty array is ambiguous. Returning False, but in future this will result in an error. Use `array.size > 0` to check that an array is not empty.\n",
      "  if diff:\n",
      "/home/ubuntu/anaconda3/lib/python3.6/site-packages/sklearn/preprocessing/label.py:151: DeprecationWarning: The truth value of an empty array is ambiguous. Returning False, but in future this will result in an error. Use `array.size > 0` to check that an array is not empty.\n",
      "  if diff:\n",
      "/home/ubuntu/anaconda3/lib/python3.6/site-packages/sklearn/preprocessing/label.py:151: DeprecationWarning: The truth value of an empty array is ambiguous. Returning False, but in future this will result in an error. Use `array.size > 0` to check that an array is not empty.\n",
      "  if diff:\n",
      "/home/ubuntu/anaconda3/lib/python3.6/site-packages/sklearn/preprocessing/label.py:151: DeprecationWarning: The truth value of an empty array is ambiguous. Returning False, but in future this will result in an error. Use `array.size > 0` to check that an array is not empty.\n",
      "  if diff:\n"
     ]
    },
    {
     "name": "stdout",
     "output_type": "stream",
     "text": [
      "CPU times: user 15.1 s, sys: 652 ms, total: 15.8 s\n",
      "Wall time: 1min 5s\n"
     ]
    },
    {
     "name": "stderr",
     "output_type": "stream",
     "text": [
      "/home/ubuntu/anaconda3/lib/python3.6/site-packages/sklearn/preprocessing/label.py:151: DeprecationWarning: The truth value of an empty array is ambiguous. Returning False, but in future this will result in an error. Use `array.size > 0` to check that an array is not empty.\n",
      "  if diff:\n"
     ]
    }
   ],
   "source": [
    "%%time\n",
    "param_grid = {'learning_rate': [0.1, 0.5, 1, 1.5], \n",
    "             'max_depth': [12, 6]}\n",
    "\n",
    "model = XGBClassifier()\n",
    "\n",
    "best_params = grid_searching(param_grid, model)\n",
    "\n",
    "my_model = XGBClassifier(n_jobs=-1, booster='gbtree', n_estimators=1000, learning_rate=1, max_depth = best_params['max_depth'], objective='binary:logistic')"
   ]
  },
  {
   "cell_type": "code",
   "execution_count": 50,
   "metadata": {},
   "outputs": [
    {
     "name": "stdout",
     "output_type": "stream",
     "text": [
      "CPU times: user 2min 20s, sys: 56 ms, total: 2min 20s\n",
      "Wall time: 46.9 s\n"
     ]
    },
    {
     "data": {
      "text/plain": [
       "XGBClassifier(base_score=0.5, booster='gbtree', colsample_bylevel=1,\n",
       "       colsample_bytree=1, gamma=0, learning_rate=1, max_delta_step=0,\n",
       "       max_depth=12, min_child_weight=1, missing=None, n_estimators=1000,\n",
       "       n_jobs=-1, nthread=None, objective='binary:logistic',\n",
       "       random_state=0, reg_alpha=0, reg_lambda=1, scale_pos_weight=1,\n",
       "       seed=None, silent=True, subsample=1)"
      ]
     },
     "execution_count": 50,
     "metadata": {},
     "output_type": "execute_result"
    }
   ],
   "source": [
    "%%time\n",
    "my_model.fit(X_train, y_train)"
   ]
  },
  {
   "cell_type": "code",
   "execution_count": 51,
   "metadata": {},
   "outputs": [
    {
     "name": "stderr",
     "output_type": "stream",
     "text": [
      "/home/ubuntu/anaconda3/lib/python3.6/site-packages/sklearn/preprocessing/label.py:151: DeprecationWarning: The truth value of an empty array is ambiguous. Returning False, but in future this will result in an error. Use `array.size > 0` to check that an array is not empty.\n",
      "  if diff:\n"
     ]
    }
   ],
   "source": [
    "# Add silent=True to avoid printing out updates with each cycle\n",
    "predictions = my_model.predict(X_test)"
   ]
  },
  {
   "cell_type": "code",
   "execution_count": 279,
   "metadata": {},
   "outputs": [
    {
     "data": {
      "text/plain": [
       "array(['access_filled', 'house_rules_filled', 'space_filled',\n",
       "       'accommodates', 'extra_people', 'price_per_guest',\n",
       "       'price_per_bedroom', 'guests_included', 'host_about_filled',\n",
       "       'host_picture_url_filled', 'bed_type_Airbed', 'bed_type_Couch',\n",
       "       'bed_type_Futon', 'bed_type_Pull-out Sofa', 'bed_type_Real Bed',\n",
       "       'cancellation_policy_flexible', 'cancellation_policy_moderate',\n",
       "       'cancellation_policy_strict',\n",
       "       'cancellation_policy_super_strict_30',\n",
       "       'cancellation_policy_super_strict_60', 'room_type_Entire home/apt',\n",
       "       'room_type_Private room', 'room_type_Shared room',\n",
       "       'property_type_new_Apartment', 'property_type_new_House',\n",
       "       'property_type_new_Other'], dtype=object)"
      ]
     },
     "execution_count": 279,
     "metadata": {},
     "output_type": "execute_result"
    }
   ],
   "source": [
    "np.array(X_train.columns)"
   ]
  },
  {
   "cell_type": "code",
   "execution_count": 157,
   "metadata": {},
   "outputs": [
    {
     "data": {
      "text/plain": [
       "array([0.16658643, 0.03381867, 0.01784736, 0.01123969, 0.01231883,\n",
       "       0.04210317, 0.07045972, 0.2095363 , 0.20181628, 0.00164362,\n",
       "       0.02073614, 0.        , 0.00063088, 0.01240184, 0.00567795,\n",
       "       0.00059768, 0.00011622, 0.00006641, 0.00634204, 0.00197566,\n",
       "       0.00240732, 0.00026564, 0.00006641, 0.00174323, 0.0014776 ,\n",
       "       0.00230771, 0.00039845, 0.00199226, 0.01298292, 0.00185945,\n",
       "       0.00242392, 0.00263975, 0.00122856, 0.00175983, 0.0022579 ,\n",
       "       0.0022745 , 0.00129497, 0.00230771, 0.00219149, 0.        ,\n",
       "       0.00008301, 0.00308801, 0.00004981, 0.00431657, 0.0000166 ,\n",
       "       0.00084671, 0.00019923, 0.00194246, 0.00630883, 0.0000332 ,\n",
       "       0.0000332 , 0.00018262, 0.00054787, 0.00195906, 0.01490877,\n",
       "       0.01929175, 0.01939136, 0.0000166 , 0.        , 0.00896518,\n",
       "       0.00765361, 0.00122856, 0.02296084, 0.01680142, 0.00938024],\n",
       "      dtype=float32)"
      ]
     },
     "execution_count": 157,
     "metadata": {},
     "output_type": "execute_result"
    }
   ],
   "source": [
    "my_model.feature_importances_"
   ]
  },
  {
   "cell_type": "code",
   "execution_count": 52,
   "metadata": {},
   "outputs": [
    {
     "data": {
      "text/plain": [
       "0.9531591667625734"
      ]
     },
     "execution_count": 52,
     "metadata": {},
     "output_type": "execute_result"
    }
   ],
   "source": [
    "accuracy_score(y_test, predictions)"
   ]
  },
  {
   "cell_type": "code",
   "execution_count": 53,
   "metadata": {},
   "outputs": [
    {
     "data": {
      "text/plain": [
       "0.8594878529218647"
      ]
     },
     "execution_count": 53,
     "metadata": {},
     "output_type": "execute_result"
    }
   ],
   "source": [
    "recall_score(y_test, predictions)"
   ]
  },
  {
   "cell_type": "code",
   "execution_count": 54,
   "metadata": {},
   "outputs": [
    {
     "data": {
      "text/plain": [
       "0.8715046604527297"
      ]
     },
     "execution_count": 54,
     "metadata": {},
     "output_type": "execute_result"
    }
   ],
   "source": [
    "precision_score(y_test, predictions)"
   ]
  },
  {
   "cell_type": "code",
   "execution_count": 55,
   "metadata": {},
   "outputs": [
    {
     "data": {
      "text/plain": [
       "0.8654545454545454"
      ]
     },
     "execution_count": 55,
     "metadata": {},
     "output_type": "execute_result"
    }
   ],
   "source": [
    "f1_score(y_test, predictions)"
   ]
  },
  {
   "cell_type": "code",
   "execution_count": null,
   "metadata": {},
   "outputs": [],
   "source": []
  },
  {
   "cell_type": "markdown",
   "metadata": {},
   "source": [
    "## ADA Boosting"
   ]
  },
  {
   "cell_type": "code",
   "execution_count": 80,
   "metadata": {},
   "outputs": [],
   "source": [
    "from sklearn.ensemble import AdaBoostClassifier #For Classification"
   ]
  },
  {
   "cell_type": "code",
   "execution_count": 152,
   "metadata": {},
   "outputs": [
    {
     "name": "stderr",
     "output_type": "stream",
     "text": [
      "/home/ubuntu/anaconda3/lib/python3.6/site-packages/sklearn/metrics/classification.py:1135: UndefinedMetricWarning: F-score is ill-defined and being set to 0.0 due to no predicted samples.\n",
      "  'precision', 'predicted', average, warn_for)\n",
      "/home/ubuntu/anaconda3/lib/python3.6/site-packages/sklearn/metrics/classification.py:1135: UndefinedMetricWarning: F-score is ill-defined and being set to 0.0 due to no predicted samples.\n",
      "  'precision', 'predicted', average, warn_for)\n",
      "/home/ubuntu/anaconda3/lib/python3.6/site-packages/sklearn/metrics/classification.py:1135: UndefinedMetricWarning: F-score is ill-defined and being set to 0.0 due to no predicted samples.\n",
      "  'precision', 'predicted', average, warn_for)\n",
      "/home/ubuntu/anaconda3/lib/python3.6/site-packages/sklearn/metrics/classification.py:1135: UndefinedMetricWarning: F-score is ill-defined and being set to 0.0 due to no predicted samples.\n",
      "  'precision', 'predicted', average, warn_for)\n",
      "/home/ubuntu/anaconda3/lib/python3.6/site-packages/sklearn/metrics/classification.py:1135: UndefinedMetricWarning: F-score is ill-defined and being set to 0.0 due to no predicted samples.\n",
      "  'precision', 'predicted', average, warn_for)\n"
     ]
    },
    {
     "data": {
      "text/plain": [
       "AdaBoostClassifier(algorithm='SAMME.R', base_estimator=None,\n",
       "          learning_rate=1.5, n_estimators=1000, random_state=None)"
      ]
     },
     "execution_count": 152,
     "metadata": {},
     "output_type": "execute_result"
    }
   ],
   "source": [
    "param_grid = {'learning_rate': [0.1, 0.5, 1, 1.5, 2]}\n",
    "model = AdaBoostClassifier()\n",
    "\n",
    "best_params = grid_searching(param_grid, model)\n",
    "\n",
    "clf = AdaBoostClassifier(n_estimators = 1000, \n",
    "                         learning_rate = best_params['learning_rate']) \n",
    "clf.fit(X_train,y_train)\n"
   ]
  },
  {
   "cell_type": "code",
   "execution_count": 153,
   "metadata": {},
   "outputs": [],
   "source": [
    "prediction = clf.predict(X_test)"
   ]
  },
  {
   "cell_type": "code",
   "execution_count": 154,
   "metadata": {},
   "outputs": [
    {
     "data": {
      "text/plain": [
       "0.8567153872712625"
      ]
     },
     "execution_count": 154,
     "metadata": {},
     "output_type": "execute_result"
    }
   ],
   "source": [
    "accuracy_score(y_test, prediction)"
   ]
  },
  {
   "cell_type": "code",
   "execution_count": 155,
   "metadata": {},
   "outputs": [
    {
     "data": {
      "text/plain": [
       "0.4924433249370277"
      ]
     },
     "execution_count": 155,
     "metadata": {},
     "output_type": "execute_result"
    }
   ],
   "source": [
    "recall_score(y_test, prediction)"
   ]
  },
  {
   "cell_type": "code",
   "execution_count": 156,
   "metadata": {},
   "outputs": [
    {
     "data": {
      "text/plain": [
       "0.6404586404586404"
      ]
     },
     "execution_count": 156,
     "metadata": {},
     "output_type": "execute_result"
    }
   ],
   "source": [
    "precision_score(y_test, prediction)"
   ]
  },
  {
   "cell_type": "code",
   "execution_count": 119,
   "metadata": {},
   "outputs": [
    {
     "data": {
      "text/plain": [
       "0.5489346334416757"
      ]
     },
     "execution_count": 119,
     "metadata": {},
     "output_type": "execute_result"
    }
   ],
   "source": [
    "f1_score(y_test, prediction)"
   ]
  },
  {
   "cell_type": "code",
   "execution_count": 240,
   "metadata": {},
   "outputs": [
    {
     "name": "stderr",
     "output_type": "stream",
     "text": [
      "/home/ubuntu/anaconda3/lib/python3.6/site-packages/sklearn/tree/tree.py:508: RuntimeWarning: invalid value encountered in true_divide\n",
      "  return self.tree_.compute_feature_importances()\n"
     ]
    },
    {
     "data": {
      "text/plain": [
       "array([           nan,            nan,            nan,            nan,\n",
       "                  nan,            nan,            nan,            nan,\n",
       "                  nan,            nan,            nan, 2.95272271e-05,\n",
       "                  nan,            nan,            nan,            nan,\n",
       "                  nan,            nan, 3.21736089e-05, 9.45490779e-06,\n",
       "                  nan,            nan,            nan,            nan,\n",
       "                  nan,            nan])"
      ]
     },
     "execution_count": 240,
     "metadata": {},
     "output_type": "execute_result"
    }
   ],
   "source": [
    "clf.feature_importances_ "
   ]
  },
  {
   "cell_type": "markdown",
   "metadata": {},
   "source": [
    "## Gradient Boosting with one quarter"
   ]
  },
  {
   "cell_type": "code",
   "execution_count": 121,
   "metadata": {},
   "outputs": [],
   "source": [
    "from sklearn.ensemble import GradientBoostingClassifier #For Classification"
   ]
  },
  {
   "cell_type": "code",
   "execution_count": 146,
   "metadata": {},
   "outputs": [
    {
     "data": {
      "text/plain": [
       "GradientBoostingClassifier(criterion='friedman_mse', init=None,\n",
       "              learning_rate=1.0, loss='deviance', max_depth=3,\n",
       "              max_features=None, max_leaf_nodes=None,\n",
       "              min_impurity_decrease=0.0, min_impurity_split=None,\n",
       "              min_samples_leaf=1, min_samples_split=2,\n",
       "              min_weight_fraction_leaf=0.0, n_estimators=1000,\n",
       "              presort='auto', random_state=None, subsample=1.0, verbose=0,\n",
       "              warm_start=False)"
      ]
     },
     "execution_count": 146,
     "metadata": {},
     "output_type": "execute_result"
    }
   ],
   "source": [
    "clf_gradient = GradientBoostingClassifier(n_estimators=1000, learning_rate=1.0)\n",
    "clf_gradient.fit(X_train, y_train)"
   ]
  },
  {
   "cell_type": "code",
   "execution_count": 147,
   "metadata": {},
   "outputs": [],
   "source": [
    "pred = clf_gradient.predict(X_test)"
   ]
  },
  {
   "cell_type": "code",
   "execution_count": 148,
   "metadata": {},
   "outputs": [
    {
     "data": {
      "text/plain": [
       "0.924272068132121"
      ]
     },
     "execution_count": 148,
     "metadata": {},
     "output_type": "execute_result"
    }
   ],
   "source": [
    "accuracy_score(y_test, pred)"
   ]
  },
  {
   "cell_type": "code",
   "execution_count": 149,
   "metadata": {},
   "outputs": [
    {
     "data": {
      "text/plain": [
       "0.7657430730478589"
      ]
     },
     "execution_count": 149,
     "metadata": {},
     "output_type": "execute_result"
    }
   ],
   "source": [
    "recall_score(y_test, pred)"
   ]
  },
  {
   "cell_type": "code",
   "execution_count": 150,
   "metadata": {},
   "outputs": [
    {
     "data": {
      "text/plain": [
       "0.8095872170439414"
      ]
     },
     "execution_count": 150,
     "metadata": {},
     "output_type": "execute_result"
    }
   ],
   "source": [
    "precision_score(y_test, pred)"
   ]
  },
  {
   "cell_type": "code",
   "execution_count": 151,
   "metadata": {},
   "outputs": [
    {
     "data": {
      "text/plain": [
       "0.7870550161812296"
      ]
     },
     "execution_count": 151,
     "metadata": {},
     "output_type": "execute_result"
    }
   ],
   "source": [
    "f1_score(y_test, pred)"
   ]
  },
  {
   "cell_type": "code",
   "execution_count": null,
   "metadata": {},
   "outputs": [],
   "source": []
  }
 ],
 "metadata": {
  "kernelspec": {
   "display_name": "Python 3",
   "language": "python",
   "name": "python3"
  },
  "language_info": {
   "codemirror_mode": {
    "name": "ipython",
    "version": 3
   },
   "file_extension": ".py",
   "mimetype": "text/x-python",
   "name": "python",
   "nbconvert_exporter": "python",
   "pygments_lexer": "ipython3",
   "version": "3.6.4"
  }
 },
 "nbformat": 4,
 "nbformat_minor": 2
}

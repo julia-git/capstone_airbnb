{
 "cells": [
  {
   "cell_type": "code",
   "execution_count": 6,
   "metadata": {},
   "outputs": [],
   "source": [
    "import pandas as pd\n",
    "import numpy as np\n",
    "import matplotlib.pyplot as plt\n",
    "import pickle\n",
    "import os\n",
    "import glob\n",
    "from datetime import datetime as dt\n",
    "import seaborn as sns\n",
    "%matplotlib inline\n",
    "\n",
    "from sklearn.preprocessing import Imputer\n",
    "from sklearn.preprocessing import StandardScaler\n",
    "from sklearn.ensemble import RandomForestRegressor\n",
    "from sklearn.tree import DecisionTreeClassifier\n",
    "from sklearn.model_selection import GridSearchCV\n",
    "from sklearn.model_selection import cross_val_score\n",
    "from sklearn.model_selection import train_test_split\n",
    "from sklearn.metrics import classification_report\n",
    "from sklearn.metrics import confusion_matrix\n",
    "from sklearn.model_selection import train_test_split\n",
    "\n",
    "pd.set_option(\"display.max_colwidth\",999)\n",
    "pd.set_option(\"display.max_rows\",999)\n",
    "pd.set_option(\"display.max_columns\",999)"
   ]
  },
  {
   "cell_type": "markdown",
   "metadata": {},
   "source": [
    "## for all csv's in the SF folder, concatenate into one dataframe"
   ]
  },
  {
   "cell_type": "code",
   "execution_count": 7,
   "metadata": {},
   "outputs": [
    {
     "name": "stderr",
     "output_type": "stream",
     "text": [
      "/home/ubuntu/anaconda3/lib/python3.6/site-packages/IPython/core/interactiveshell.py:2903: DtypeWarning: Columns (43) have mixed types. Specify dtype option on import or set low_memory=False.\n",
      "  if self.run_code(code, result):\n"
     ]
    }
   ],
   "source": [
    "files = glob.glob('SF/*.gz')\n",
    "df_sf = pd.concat([pd.read_csv(fp, parse_dates = ['calendar_last_scraped','last_scraped', 'first_review', 'last_review']) for fp in files], ignore_index=True)"
   ]
  },
  {
   "cell_type": "markdown",
   "metadata": {},
   "source": [
    "## Drop the rows where the number of reviews is greater than 0 and the reviews per month is zero"
   ]
  },
  {
   "cell_type": "code",
   "execution_count": 8,
   "metadata": {},
   "outputs": [],
   "source": [
    "df_sf = df_sf[(df_sf['reviews_per_month'].notnull()) | ((df_sf['number_of_reviews']== 0) & (df_sf['reviews_per_month'].isnull()))]"
   ]
  },
  {
   "cell_type": "code",
   "execution_count": 9,
   "metadata": {},
   "outputs": [
    {
     "data": {
      "text/plain": [
       "190942"
      ]
     },
     "execution_count": 9,
     "metadata": {},
     "output_type": "execute_result"
    }
   ],
   "source": [
    "len(df_sf)"
   ]
  },
  {
   "cell_type": "code",
   "execution_count": 10,
   "metadata": {},
   "outputs": [
    {
     "data": {
      "text/plain": [
       "139729"
      ]
     },
     "execution_count": 10,
     "metadata": {},
     "output_type": "execute_result"
    }
   ],
   "source": [
    "len(df_sf[(df_sf['availability_365']!=0) & (df_sf['reviews_per_month']!=0)])"
   ]
  },
  {
   "cell_type": "markdown",
   "metadata": {},
   "source": [
    "## fill in the reviews per month where 0 with 0"
   ]
  },
  {
   "cell_type": "code",
   "execution_count": 11,
   "metadata": {},
   "outputs": [],
   "source": [
    "df_sf.reviews_per_month.fillna(value=0, inplace=True)"
   ]
  },
  {
   "cell_type": "markdown",
   "metadata": {},
   "source": [
    "## year and month column"
   ]
  },
  {
   "cell_type": "code",
   "execution_count": 12,
   "metadata": {},
   "outputs": [],
   "source": [
    "df_sf['year'] = df_sf.calendar_last_scraped.apply(lambda x: x.year)\n",
    "df_sf['month'] = df_sf.calendar_last_scraped.apply(lambda x: x.month)"
   ]
  },
  {
   "cell_type": "markdown",
   "metadata": {},
   "source": [
    "## Fill nulls"
   ]
  },
  {
   "cell_type": "code",
   "execution_count": 13,
   "metadata": {},
   "outputs": [],
   "source": [
    "df_sf.cancellation_policy.fillna(value='none', inplace=True)\n",
    "df_sf.cleaning_fee.fillna(value='$0.00', inplace=True)\n",
    "\n",
    "df_sf.host_is_superhost.fillna(value='f', inplace=True)\n",
    "\n",
    "df_sf['host_is_superhost'].replace('f', False, inplace=True)\n",
    "df_sf['host_is_superhost'].replace('t', True, inplace=True)\n",
    "\n",
    "\n",
    "df_sf.loc[df_sf.host_about.notnull(), 'host_about_filled'] = True\n",
    "df_sf.loc[df_sf.host_about.isnull(), 'host_about_filled'] = False\n",
    "df_sf.loc[df_sf.host_picture_url.notnull(), 'host_picture_url_filled'] = True\n",
    "df_sf.loc[df_sf.host_picture_url.isnull(), 'host_picture_url_filled'] = False"
   ]
  },
  {
   "cell_type": "code",
   "execution_count": null,
   "metadata": {},
   "outputs": [],
   "source": []
  },
  {
   "cell_type": "code",
   "execution_count": 14,
   "metadata": {},
   "outputs": [],
   "source": [
    "df_sf_2017 = df_sf[df_sf['year']==2017]"
   ]
  },
  {
   "cell_type": "code",
   "execution_count": 207,
   "metadata": {},
   "outputs": [
    {
     "data": {
      "text/plain": [
       "8     9055\n",
       "1     9035\n",
       "10    8933\n",
       "11    8928\n",
       "7     8854\n",
       "6     8799\n",
       "2     8776\n",
       "5     8732\n",
       "3     8719\n",
       "4     8700\n",
       "9     8527\n",
       "12    6898\n",
       "Name: month, dtype: int64"
      ]
     },
     "execution_count": 207,
     "metadata": {},
     "output_type": "execute_result"
    }
   ],
   "source": [
    "df_sf_2017['month'].value_counts()"
   ]
  },
  {
   "cell_type": "markdown",
   "metadata": {},
   "source": [
    "## 2.54 is the cutoff reviews per month to be in the top 20% of listings for all of SF "
   ]
  },
  {
   "cell_type": "code",
   "execution_count": 9,
   "metadata": {},
   "outputs": [],
   "source": [
    "df_sf.loc[df_sf.reviews_per_month >= 2.54, 'popular'] = True\n",
    "df_sf.loc[df_sf.reviews_per_month < 2.54, 'popular'] = False"
   ]
  },
  {
   "cell_type": "code",
   "execution_count": 15,
   "metadata": {},
   "outputs": [
    {
     "name": "stderr",
     "output_type": "stream",
     "text": [
      "/home/ubuntu/anaconda3/lib/python3.6/site-packages/pandas/core/indexing.py:357: SettingWithCopyWarning: \n",
      "A value is trying to be set on a copy of a slice from a DataFrame.\n",
      "Try using .loc[row_indexer,col_indexer] = value instead\n",
      "\n",
      "See the caveats in the documentation: http://pandas.pydata.org/pandas-docs/stable/indexing.html#indexing-view-versus-copy\n",
      "  self.obj[key] = _infer_fill_value(value)\n",
      "/home/ubuntu/anaconda3/lib/python3.6/site-packages/pandas/core/indexing.py:537: SettingWithCopyWarning: \n",
      "A value is trying to be set on a copy of a slice from a DataFrame.\n",
      "Try using .loc[row_indexer,col_indexer] = value instead\n",
      "\n",
      "See the caveats in the documentation: http://pandas.pydata.org/pandas-docs/stable/indexing.html#indexing-view-versus-copy\n",
      "  self.obj[item] = s\n"
     ]
    }
   ],
   "source": [
    "df_sf_2017.loc[df_sf_2017.reviews_per_month >= 2.57, 'popular'] = True\n",
    "df_sf_2017.loc[df_sf_2017.reviews_per_month < 2.57, 'popular'] = False"
   ]
  },
  {
   "cell_type": "code",
   "execution_count": 231,
   "metadata": {},
   "outputs": [
    {
     "data": {
      "text/plain": [
       "False    0.799973\n",
       "True     0.200027\n",
       "Name: popular, dtype: float64"
      ]
     },
     "execution_count": 231,
     "metadata": {},
     "output_type": "execute_result"
    }
   ],
   "source": [
    "df_sf_2017.popular.value_counts(1)"
   ]
  },
  {
   "cell_type": "markdown",
   "metadata": {},
   "source": [
    "## Random Forest"
   ]
  },
  {
   "cell_type": "code",
   "execution_count": 16,
   "metadata": {},
   "outputs": [],
   "source": [
    "from sklearn.linear_model import LogisticRegression\n",
    "from sklearn.ensemble import RandomForestClassifier\n",
    "from sklearn.datasets import make_classification\n",
    "from sklearn.model_selection import train_test_split\n",
    "from sklearn.metrics import accuracy_score, confusion_matrix, recall_score, precision_score, f1_score\n",
    "from sklearn.preprocessing import LabelEncoder\n",
    "import pickle"
   ]
  },
  {
   "cell_type": "code",
   "execution_count": 23,
   "metadata": {},
   "outputs": [],
   "source": []
  },
  {
   "cell_type": "code",
   "execution_count": 17,
   "metadata": {},
   "outputs": [
    {
     "name": "stderr",
     "output_type": "stream",
     "text": [
      "/home/ubuntu/anaconda3/lib/python3.6/site-packages/pandas/core/generic.py:4619: SettingWithCopyWarning: \n",
      "A value is trying to be set on a copy of a slice from a DataFrame\n",
      "\n",
      "See the caveats in the documentation: http://pandas.pydata.org/pandas-docs/stable/indexing.html#indexing-view-versus-copy\n",
      "  self._update_inplace(new_data)\n"
     ]
    }
   ],
   "source": [
    "# df[df.columns[1:]].replace('[\\$,]', '', regex=True).astype(float)\n",
    "df_sf_2017['price'].replace('[\\$,]', '', regex=True, inplace=True)\n",
    "df_sf_2017['extra_people'].replace('[\\$,]', '', regex=True, inplace=True)"
   ]
  },
  {
   "cell_type": "code",
   "execution_count": null,
   "metadata": {},
   "outputs": [],
   "source": []
  },
  {
   "cell_type": "code",
   "execution_count": null,
   "metadata": {},
   "outputs": [],
   "source": []
  },
  {
   "cell_type": "markdown",
   "metadata": {},
   "source": [
    "## Function to predict 2017"
   ]
  },
  {
   "cell_type": "code",
   "execution_count": 18,
   "metadata": {},
   "outputs": [],
   "source": [
    "scores = np.zeros(shape=(4,9))\n",
    "model_num = 0\n",
    "start_month = 1\n",
    "end_month = 4\n",
    "columns_to_keep = ['accommodates','bed_type', 'extra_people', 'price','guests_included', 'host_about_filled','host_picture_url_filled', 'cancellation_policy', 'room_type', ]\n"
   ]
  },
  {
   "cell_type": "code",
   "execution_count": 22,
   "metadata": {},
   "outputs": [
    {
     "name": "stdout",
     "output_type": "stream",
     "text": [
      "1 4 0\n",
      "[[0.81988506 0.         0.         0.         0.         0.\n",
      "  0.         0.         0.        ]\n",
      " [0.2336272  0.         0.         0.         0.         0.\n",
      "  0.         0.         0.        ]\n",
      " [0.51456311 0.         0.         0.         0.         0.\n",
      "  0.         0.         0.        ]\n",
      " [0.32135123 0.         0.         0.         0.         0.\n",
      "  0.         0.         0.        ]]\n",
      "2 5 1\n",
      "[[0.81988506 0.89212093 0.         0.         0.         0.\n",
      "  0.         0.         0.        ]\n",
      " [0.2336272  0.47006931 0.         0.         0.         0.\n",
      "  0.         0.         0.        ]\n",
      " [0.51456311 0.88075561 0.         0.         0.         0.\n",
      "  0.         0.         0.        ]\n",
      " [0.32135123 0.61298274 0.         0.         0.         0.\n",
      "  0.         0.         0.        ]]\n",
      "3 6 2\n",
      "[[0.81988506 0.89212093 0.88964655 0.         0.         0.\n",
      "  0.         0.         0.        ]\n",
      " [0.2336272  0.47006931 0.48648649 0.         0.         0.\n",
      "  0.         0.         0.        ]\n",
      " [0.51456311 0.88075561 0.87473002 0.         0.         0.\n",
      "  0.         0.         0.        ]\n",
      " [0.32135123 0.61298274 0.62524122 0.         0.         0.\n",
      "  0.         0.         0.        ]]\n",
      "4 7 3\n",
      "[[0.81988506 0.89212093 0.88964655 0.88999322 0.         0.\n",
      "  0.         0.         0.        ]\n",
      " [0.2336272  0.47006931 0.48648649 0.4973822  0.         0.\n",
      "  0.         0.         0.        ]\n",
      " [0.51456311 0.88075561 0.87473002 0.88601036 0.         0.\n",
      "  0.         0.         0.        ]\n",
      " [0.32135123 0.61298274 0.62524122 0.63710879 0.         0.\n",
      "  0.         0.         0.        ]]\n",
      "5 8 4\n",
      "[[0.81988506 0.89212093 0.88964655 0.88999322 0.88094975 0.\n",
      "  0.         0.         0.        ]\n",
      " [0.2336272  0.47006931 0.48648649 0.4973822  0.47533875 0.\n",
      "  0.         0.         0.        ]\n",
      " [0.51456311 0.88075561 0.87473002 0.88601036 0.88855117 0.\n",
      "  0.         0.         0.        ]\n",
      " [0.32135123 0.61298274 0.62524122 0.63710879 0.61935028 0.\n",
      "  0.         0.         0.        ]]\n",
      "6 9 5\n",
      "[[0.81988506 0.89212093 0.88964655 0.88999322 0.88094975 0.88061452\n",
      "  0.         0.         0.        ]\n",
      " [0.2336272  0.47006931 0.48648649 0.4973822  0.47533875 0.49067661\n",
      "  0.         0.         0.        ]\n",
      " [0.51456311 0.88075561 0.87473002 0.88601036 0.88855117 0.93692777\n",
      "  0.         0.         0.        ]\n",
      " [0.32135123 0.61298274 0.62524122 0.63710879 0.61935028 0.64405594\n",
      "  0.         0.         0.        ]]\n",
      "7 10 6\n",
      "[[0.81988506 0.89212093 0.88964655 0.88999322 0.88094975 0.88061452\n",
      "  0.88234636 0.         0.        ]\n",
      " [0.2336272  0.47006931 0.48648649 0.4973822  0.47533875 0.49067661\n",
      "  0.49973698 0.         0.        ]\n",
      " [0.51456311 0.88075561 0.87473002 0.88601036 0.88855117 0.93692777\n",
      "  0.9047619  0.         0.        ]\n",
      " [0.32135123 0.61298274 0.62524122 0.63710879 0.61935028 0.64405594\n",
      "  0.64384954 0.         0.        ]]\n",
      "8 11 7\n",
      "[[0.81988506 0.89212093 0.88964655 0.88999322 0.88094975 0.88061452\n",
      "  0.88234636 0.88732079 0.        ]\n",
      " [0.2336272  0.47006931 0.48648649 0.4973822  0.47533875 0.49067661\n",
      "  0.49973698 0.53308824 0.        ]\n",
      " [0.51456311 0.88075561 0.87473002 0.88601036 0.88855117 0.93692777\n",
      "  0.9047619  0.89664311 0.        ]\n",
      " [0.32135123 0.61298274 0.62524122 0.63710879 0.61935028 0.64405594\n",
      "  0.64384954 0.66864295 0.        ]]\n",
      "9 12 8\n",
      "[[0.81988506 0.89212093 0.88964655 0.88999322 0.88094975 0.88061452\n",
      "  0.88234636 0.88732079 0.85575529]\n",
      " [0.2336272  0.47006931 0.48648649 0.4973822  0.47533875 0.49067661\n",
      "  0.49973698 0.53308824 0.5445224 ]\n",
      " [0.51456311 0.88075561 0.87473002 0.88601036 0.88855117 0.93692777\n",
      "  0.9047619  0.89664311 0.86982759]\n",
      " [0.32135123 0.61298274 0.62524122 0.63710879 0.61935028 0.64405594\n",
      "  0.64384954 0.66864295 0.66976435]]\n"
     ]
    }
   ],
   "source": [
    "while end_month <13:\n",
    "    X_train, y_train, X_test, y_test = split_data(start_month, end_month)\n",
    "    le = LabelEncoder()\n",
    "    X_train = transform_data(X_train)\n",
    "    X_test = transform_data(X_test)\n",
    "    scores = predict_data(X_train, y_train, X_test, y_test)\n",
    "    print(start_month, end_month, model_num)\n",
    "    start_month += 1\n",
    "    end_month += 1\n",
    "    model_num += 1\n",
    "    print(scores)"
   ]
  },
  {
   "cell_type": "code",
   "execution_count": 19,
   "metadata": {},
   "outputs": [],
   "source": [
    "def split_data(start_month, end_month):\n",
    "    df_sf_temp = df_sf_2017.copy()\n",
    "    X_train = df_sf_temp[(df_sf_temp['month'] >= start_month) & (df_sf_temp['month'] < end_month)][columns_to_keep]\n",
    "    y_train = df_sf_temp[(df_sf_temp['month'] >= start_month) & (df_sf_temp['month'] < end_month)]['popular']\n",
    "\n",
    "    X_test = df_sf_temp[df_sf_temp['month'] == end_month][columns_to_keep]\n",
    "    y_test = df_sf_temp[df_sf_temp['month'] == end_month]['popular']\n",
    "    \n",
    "    return X_train, y_train, X_test, y_test\n",
    "    "
   ]
  },
  {
   "cell_type": "code",
   "execution_count": 20,
   "metadata": {},
   "outputs": [],
   "source": [
    "def transform_data(X):\n",
    "    X['extra_people'].replace('[\\=$,]', '', regex=True, inplace=True)\n",
    "    X['price'].replace('[\\=$,]', '', regex=True, inplace=True)\n",
    "    \n",
    "    X['bed_type'] = le.fit_transform(X['bed_type'])\n",
    "    X['cancellation_policy'] = le.fit_transform(X['cancellation_policy'])\n",
    "    X['room_type'] = le.fit_transform(X['room_type'])\n",
    " \n",
    "    return X"
   ]
  },
  {
   "cell_type": "code",
   "execution_count": 21,
   "metadata": {},
   "outputs": [],
   "source": [
    "# X_train, X_test, y_train, y_test = train_test_split(X, y, test_size=0.25, random_state=123456)\n",
    "\n",
    "def predict_data(X_train, y_train, X_test, y_test):\n",
    "    rf = RandomForestClassifier(n_estimators = 1000, random_state=0, class_weight = {0:.95, 1:.05})\n",
    "    rf.fit(X_train, y_train)\n",
    "    predicted = rf.predict(X_test)\n",
    "    scores[0][model_num] = accuracy_score(y_test, predicted)\n",
    "    scores[1][model_num] = recall_score(y_test, rf.predict(X_test))\n",
    "    scores[2][model_num] = precision_score(y_test, rf.predict(X_test))\n",
    "    scores[3][model_num] = f1_score(y_test, rf.predict(X_test))\n",
    "    return scores"
   ]
  },
  {
   "cell_type": "code",
   "execution_count": null,
   "metadata": {},
   "outputs": [],
   "source": []
  }
 ],
 "metadata": {
  "kernelspec": {
   "display_name": "Python 3",
   "language": "python",
   "name": "python3"
  },
  "language_info": {
   "codemirror_mode": {
    "name": "ipython",
    "version": 3
   },
   "file_extension": ".py",
   "mimetype": "text/x-python",
   "name": "python",
   "nbconvert_exporter": "python",
   "pygments_lexer": "ipython3",
   "version": "3.6.4"
  }
 },
 "nbformat": 4,
 "nbformat_minor": 2
}

{
 "cells": [
  {
   "cell_type": "markdown",
   "metadata": {},
   "source": [
    "## Baseline, randomly guessing that 20% of the data is popular"
   ]
  },
  {
   "cell_type": "code",
   "execution_count": 162,
   "metadata": {},
   "outputs": [],
   "source": [
    "import random\n",
    "my_list = [True for x in range(2)] +  [False for x in range(8)]\n",
    "accuracy_baseline = np.zeros(shape=(1,9))\n",
    "recall_baseline = np.zeros(shape=(1,9))\n",
    "precision_baseline = np.zeros(shape=(1,9))\n",
    "f1_baseline = np.zeros(shape=(1,9))"
   ]
  },
  {
   "cell_type": "code",
   "execution_count": 163,
   "metadata": {},
   "outputs": [
    {
     "name": "stdout",
     "output_type": "stream",
     "text": [
      "0.6760991542390486\n",
      "0.19911653217717348\n",
      "0.2076371303722557\n",
      "0.20267624173813048\n"
     ]
    }
   ],
   "source": [
    "df_sf_temp = df_sf_2017.copy()\n",
    "start_month = 1\n",
    "end_month = 4\n",
    "\n",
    "while end_month <13:\n",
    "    y_test = df_sf_temp[df_sf_temp['month'] == end_month]['popular']\n",
    "    y_pred = pd.Series(random.choice(my_list) for x in range(y_test.size))\n",
    "    accuracy_baseline[0][start_month-1] = accuracy_score(y_test, y_pred)\n",
    "    recall_baseline[0][start_month-1] = recall_score(y_test, y_pred)\n",
    "    precision_baseline[0][start_month-1] = precision_score(y_test, y_pred)\n",
    "    f1_baseline[0][start_month-1] = f1_score(y_test, y_pred)\n",
    "    start_month += 1\n",
    "    end_month += 1\n",
    "\n",
    "print(accuracy_baseline.mean())\n",
    "print(recall_baseline.mean()) \n",
    "print(precision_baseline.mean())\n",
    "print(f1_baseline.mean())\n"
   ]
  },
  {
   "cell_type": "code",
   "execution_count": 32,
   "metadata": {},
   "outputs": [],
   "source": [
    "import pandas as pd\n",
    "import numpy as np\n",
    "import pickle\n",
    "from datetime import datetime as dt\n",
    "from sklearn.ensemble import RandomForestClassifier\n",
    "\n",
    "pd.set_option(\"display.max_colwidth\",999)\n",
    "pd.set_option(\"display.max_rows\",999)\n",
    "pd.set_option(\"display.max_columns\",999)"
   ]
  },
  {
   "cell_type": "code",
   "execution_count": 4,
   "metadata": {
    "collapsed": true
   },
   "outputs": [
    {
     "name": "stdout",
     "output_type": "stream",
     "text": [
      "[nltk_data] Downloading package punkt to /home/ubuntu/nltk_data...\n",
      "[nltk_data]   Package punkt is already up-to-date!\n"
     ]
    },
    {
     "data": {
      "text/plain": [
       "True"
      ]
     },
     "execution_count": 4,
     "metadata": {},
     "output_type": "execute_result"
    }
   ],
   "source": [
    "import nltk\n",
    "nltk.download('punkt')"
   ]
  },
  {
   "cell_type": "code",
   "execution_count": 62,
   "metadata": {
    "collapsed": true
   },
   "outputs": [
    {
     "name": "stdout",
     "output_type": "stream",
     "text": [
      "[nltk_data] Downloading package stopwords to /home/ubuntu/nltk_data...\n",
      "[nltk_data]   Unzipping corpora/stopwords.zip.\n"
     ]
    },
    {
     "data": {
      "text/plain": [
       "True"
      ]
     },
     "execution_count": 62,
     "metadata": {},
     "output_type": "execute_result"
    }
   ],
   "source": [
    "nltk.download('stopwords')"
   ]
  },
  {
   "cell_type": "code",
   "execution_count": 86,
   "metadata": {
    "collapsed": true
   },
   "outputs": [
    {
     "name": "stdout",
     "output_type": "stream",
     "text": [
      "[nltk_data] Downloading package wordnet to /home/ubuntu/nltk_data...\n",
      "[nltk_data]   Unzipping corpora/wordnet.zip.\n"
     ]
    },
    {
     "data": {
      "text/plain": [
       "True"
      ]
     },
     "execution_count": 86,
     "metadata": {},
     "output_type": "execute_result"
    }
   ],
   "source": [
    "nltk.download('wordnet')"
   ]
  },
  {
   "cell_type": "markdown",
   "metadata": {},
   "source": [
    "# Load pickle data"
   ]
  },
  {
   "cell_type": "code",
   "execution_count": 33,
   "metadata": {},
   "outputs": [],
   "source": [
    "df_sf_2017 = pickle.load(open('../data_sf_2017.p', 'rb'))"
   ]
  },
  {
   "cell_type": "code",
   "execution_count": 34,
   "metadata": {},
   "outputs": [
    {
     "data": {
      "text/plain": [
       "103956"
      ]
     },
     "execution_count": 34,
     "metadata": {},
     "output_type": "execute_result"
    }
   ],
   "source": [
    "len(df_sf_2017)"
   ]
  },
  {
   "cell_type": "markdown",
   "metadata": {},
   "source": [
    "# NLP"
   ]
  },
  {
   "cell_type": "code",
   "execution_count": 22,
   "metadata": {},
   "outputs": [],
   "source": [
    "import nltk\n",
    "from nltk.tokenize import word_tokenize\n",
    "from nltk.corpus import stopwords\n",
    "from nltk.stem import WordNetLemmatizer\n",
    "from nltk.stem.snowball import SnowballStemmer\n",
    "from sklearn.feature_extraction.text import TfidfVectorizer, CountVectorizer\n",
    "import time\n",
    "from sklearn.metrics import accuracy_score, confusion_matrix, recall_score, precision_score, f1_score"
   ]
  },
  {
   "cell_type": "code",
   "execution_count": 23,
   "metadata": {},
   "outputs": [],
   "source": [
    "df_sf_2017.description.fillna(value='None', inplace=True)"
   ]
  },
  {
   "cell_type": "code",
   "execution_count": null,
   "metadata": {},
   "outputs": [],
   "source": []
  },
  {
   "cell_type": "code",
   "execution_count": 24,
   "metadata": {},
   "outputs": [
    {
     "name": "stdout",
     "output_type": "stream",
     "text": [
      "CPU times: user 0 ns, sys: 0 ns, total: 0 ns\n",
      "Wall time: 11.4 µs\n"
     ]
    }
   ],
   "source": [
    "%%time\n",
    "\n",
    "def process_text(text):\n",
    "    from nltk.tokenize import RegexpTokenizer\n",
    "    tokenizer = RegexpTokenizer(r'\\w+')\n",
    "    tokens = tokenizer.tokenize(text)\n",
    "    \n",
    "    stemmed = []\n",
    "    snowball = SnowballStemmer(\"english\")\n",
    "    for item in tokens:\n",
    "        stemmed.append(snowball.stem(item))\n",
    "        \n",
    "    lemmatized = []\n",
    "    wordnet = WordNetLemmatizer()\n",
    "    for item in stemmed:\n",
    "        lemmatized.append(wordnet.lemmatize(item))\n",
    "    \n",
    "    return lemmatized\n",
    "    "
   ]
  },
  {
   "cell_type": "markdown",
   "metadata": {},
   "source": [
    "## split data - running NLP on description column"
   ]
  },
  {
   "cell_type": "code",
   "execution_count": 8,
   "metadata": {},
   "outputs": [],
   "source": [
    "def split_data(start_month, end_month):\n",
    "    df_X_train = df_sf_2017[(df_sf_2017['month'] >= start_month) & (df_sf_2017['month'] < end_month)]['description']\n",
    "    y_train = df_sf_2017[(df_sf_2017['month'] >= start_month) & (df_sf_2017['month'] < end_month)]['popular']\n",
    "\n",
    "    df_X_test = df_sf_2017[df_sf_2017['month'] == end_month]['description']\n",
    "    y_test = df_sf_2017[df_sf_2017['month'] == end_month]['popular']\n",
    "    \n",
    "    return df_X_train, y_train, df_X_test, y_test"
   ]
  },
  {
   "cell_type": "markdown",
   "metadata": {},
   "source": [
    "## Run CountVectorizer"
   ]
  },
  {
   "cell_type": "code",
   "execution_count": 9,
   "metadata": {},
   "outputs": [
    {
     "name": "stdout",
     "output_type": "stream",
     "text": [
      "CPU times: user 0 ns, sys: 0 ns, total: 0 ns\n",
      "Wall time: 9.54 µs\n"
     ]
    }
   ],
   "source": [
    "%%time\n",
    "def run_tf_vec(df_X_train, df_X_test):\n",
    "    tf_vectorizer_train = CountVectorizer(analyzer=process_text).fit(df_X_train)\n",
    "    X_train = tf_vectorizer_train.transform(df_X_train)\n",
    "    tf_vectorizer_test = CountVectorizer(analyzer=process_text, vocabulary=tf_vectorizer_train.vocabulary_).fit(df_X_test)\n",
    "    X_test = tf_vectorizer_test.transform(df_X_test)\n",
    "    return X_train, X_test"
   ]
  },
  {
   "cell_type": "code",
   "execution_count": 44,
   "metadata": {},
   "outputs": [],
   "source": [
    "def predict_tf_nb(X_train, y_train, X_test, y_test):\n",
    "    from sklearn.naive_bayes import MultinomialNB\n",
    "    nb = MultinomialNB()\n",
    "    nb.fit(X_train, y_train)\n",
    "    pickle.dump(nb, open('nb_model'+ str(model_num) + '.p', 'wb'))\n",
    "    preds = nb.predict(X_test)\n",
    "    scores_tf_nb[0][model_num] = accuracy_score(y_test, preds)\n",
    "    scores_tf_nb[1][model_num] = recall_score(y_test, nb.predict(X_test))\n",
    "    scores_tf_nb[2][model_num] = precision_score(y_test, nb.predict(X_test))\n",
    "    scores_tf_nb[3][model_num] = f1_score(y_test, nb.predict(X_test))\n",
    "    return scores_tf_nb"
   ]
  },
  {
   "cell_type": "markdown",
   "metadata": {},
   "source": [
    "## With the CountVectorizer, run with RandomForest "
   ]
  },
  {
   "cell_type": "code",
   "execution_count": 46,
   "metadata": {},
   "outputs": [],
   "source": [
    "def predict_tf_rf(X_train, y_train, X_test, y_test):\n",
    "    rf = RandomForestClassifier(n_estimators = 10, n_jobs = -1, random_state=0, class_weight = {0:.95, 1:.05})\n",
    "    rf.fit(X_train, y_train)\n",
    "    predicted = rf.predict(X_test)\n",
    "    pickle.dump(rf, open('rf_nlp_countvec_50' + str(model_num) + '.p', 'wb'))\n",
    "    scores_tf_rf[0][model_num] = accuracy_score(y_test, predicted)\n",
    "    scores_tf_rf[1][model_num] = recall_score(y_test, rf.predict(X_test))\n",
    "    scores_tf_rf[2][model_num] = precision_score(y_test, rf.predict(X_test))\n",
    "    scores_tf_rf[3][model_num] = f1_score(y_test, rf.predict(X_test))\n",
    "    return scores_tf_rf"
   ]
  },
  {
   "cell_type": "code",
   "execution_count": 42,
   "metadata": {},
   "outputs": [],
   "source": [
    "scores_tf_nb = np.zeros(shape=(4,9))\n",
    "scores_tf_rf = np.zeros(shape=(4,9))\n",
    "\n",
    "model_num = 0\n",
    "start_month = 1\n",
    "end_month = 4"
   ]
  },
  {
   "cell_type": "code",
   "execution_count": 47,
   "metadata": {},
   "outputs": [
    {
     "name": "stdout",
     "output_type": "stream",
     "text": [
      "1 4 0\n",
      "tf_nb\n",
      "[[0.85448276 0.         0.         0.         0.         0.\n",
      "  0.         0.         0.        ]\n",
      " [0.66372796 0.         0.         0.         0.         0.\n",
      "  0.         0.         0.        ]\n",
      " [0.59014558 0.         0.         0.         0.         0.\n",
      "  0.         0.         0.        ]\n",
      " [0.62477771 0.         0.         0.         0.         0.\n",
      "  0.         0.         0.        ]]\n",
      "tf_rf\n",
      "[[0.95551724 0.         0.         0.         0.         0.\n",
      "  0.         0.         0.        ]\n",
      " [0.80163728 0.         0.         0.         0.         0.\n",
      "  0.         0.         0.        ]\n",
      " [0.9464684  0.         0.         0.         0.         0.\n",
      "  0.         0.         0.        ]\n",
      " [0.86805319 0.         0.         0.         0.         0.\n",
      "  0.         0.         0.        ]]\n",
      "2 5 1\n",
      "tf_nb\n",
      "[[0.85448276 0.85868071 0.         0.         0.         0.\n",
      "  0.         0.         0.        ]\n",
      " [0.66372796 0.67674858 0.         0.         0.         0.\n",
      "  0.         0.         0.        ]\n",
      " [0.59014558 0.59832869 0.         0.         0.         0.\n",
      "  0.         0.         0.        ]\n",
      " [0.62477771 0.63512714 0.         0.         0.         0.\n",
      "  0.         0.         0.        ]]\n",
      "tf_rf\n",
      "[[0.95551724 0.95075584 0.         0.         0.         0.\n",
      "  0.         0.         0.        ]\n",
      " [0.80163728 0.76433522 0.         0.         0.         0.\n",
      "  0.         0.         0.        ]\n",
      " [0.9464684  0.95587076 0.         0.         0.         0.\n",
      "  0.         0.         0.        ]\n",
      " [0.86805319 0.84943978 0.         0.         0.         0.\n",
      "  0.         0.         0.        ]]\n",
      "3 6 2\n",
      "tf_nb\n",
      "[[0.85448276 0.85868071 0.85612001 0.         0.         0.\n",
      "  0.         0.         0.        ]\n",
      " [0.66372796 0.67674858 0.66726727 0.         0.         0.\n",
      "  0.         0.         0.        ]\n",
      " [0.59014558 0.59832869 0.609435   0.         0.         0.\n",
      "  0.         0.         0.        ]\n",
      " [0.62477771 0.63512714 0.63704128 0.         0.         0.\n",
      "  0.         0.         0.        ]]\n",
      "tf_rf\n",
      "[[0.95551724 0.95075584 0.95067621 0.         0.         0.\n",
      "  0.         0.         0.        ]\n",
      " [0.80163728 0.76433522 0.77717718 0.         0.         0.\n",
      "  0.         0.         0.        ]\n",
      " [0.9464684  0.95587076 0.95357406 0.         0.         0.\n",
      "  0.         0.         0.        ]\n",
      " [0.86805319 0.84943978 0.8563865  0.         0.         0.\n",
      "  0.         0.         0.        ]]\n",
      "4 7 3\n",
      "tf_nb\n",
      "[[0.85448276 0.85868071 0.85612001 0.85678789 0.         0.\n",
      "  0.         0.         0.        ]\n",
      " [0.66372796 0.67674858 0.66726727 0.66783013 0.         0.\n",
      "  0.         0.         0.        ]\n",
      " [0.59014558 0.59832869 0.609435   0.62222222 0.         0.\n",
      "  0.         0.         0.        ]\n",
      " [0.62477771 0.63512714 0.63704128 0.64421998 0.         0.\n",
      "  0.         0.         0.        ]]\n",
      "tf_rf\n",
      "[[0.95551724 0.95075584 0.95067621 0.94962729 0.         0.\n",
      "  0.         0.         0.        ]\n",
      " [0.80163728 0.76433522 0.77717718 0.77545084 0.         0.\n",
      "  0.         0.         0.        ]\n",
      " [0.9464684  0.95587076 0.95357406 0.95692749 0.         0.\n",
      "  0.         0.         0.        ]\n",
      " [0.86805319 0.84943978 0.8563865  0.8566838  0.         0.\n",
      "  0.         0.         0.        ]]\n",
      "5 8 4\n",
      "tf_nb\n",
      "[[0.85448276 0.85868071 0.85612001 0.85678789 0.85356157 0.\n",
      "  0.         0.         0.        ]\n",
      " [0.66372796 0.67674858 0.66726727 0.66783013 0.65311653 0.\n",
      "  0.         0.         0.        ]\n",
      " [0.59014558 0.59832869 0.609435   0.62222222 0.63722898 0.\n",
      "  0.         0.         0.        ]\n",
      " [0.62477771 0.63512714 0.63704128 0.64421998 0.64507495 0.\n",
      "  0.         0.         0.        ]]\n",
      "tf_rf\n",
      "[[0.95551724 0.95075584 0.95067621 0.94962729 0.94180011 0.\n",
      "  0.         0.         0.        ]\n",
      " [0.80163728 0.76433522 0.77717718 0.77545084 0.75067751 0.\n",
      "  0.         0.         0.        ]\n",
      " [0.9464684  0.95587076 0.95357406 0.95692749 0.95385675 0.\n",
      "  0.         0.         0.        ]\n",
      " [0.86805319 0.84943978 0.8563865  0.8566838  0.84015772 0.\n",
      "  0.         0.         0.        ]]\n",
      "6 9 5\n",
      "tf_nb\n",
      "[[0.85448276 0.85868071 0.85612001 0.85678789 0.85356157 0.84472851\n",
      "  0.         0.         0.        ]\n",
      " [0.66372796 0.67674858 0.66726727 0.66783013 0.65311653 0.65530101\n",
      "  0.         0.         0.        ]\n",
      " [0.59014558 0.59832869 0.609435   0.62222222 0.63722898 0.64499213\n",
      "  0.         0.         0.        ]\n",
      " [0.62477771 0.63512714 0.63704128 0.64421998 0.64507495 0.65010571\n",
      "  0.         0.         0.        ]]\n",
      "tf_rf\n",
      "[[0.95551724 0.95075584 0.95067621 0.94962729 0.94180011 0.94347367\n",
      "  0.         0.         0.        ]\n",
      " [0.80163728 0.76433522 0.77717718 0.77545084 0.75067751 0.7698455\n",
      "  0.         0.         0.        ]\n",
      " [0.9464684  0.95587076 0.95357406 0.95692749 0.95385675 0.96655518\n",
      "  0.         0.         0.        ]\n",
      " [0.86805319 0.84943978 0.8563865  0.8566838  0.84015772 0.85705813\n",
      "  0.         0.         0.        ]]\n",
      "7 10 6\n",
      "tf_nb\n",
      "[[0.85448276 0.85868071 0.85612001 0.85678789 0.85356157 0.84472851\n",
      "  0.84014329 0.         0.        ]\n",
      " [0.66372796 0.67674858 0.66726727 0.66783013 0.65311653 0.65530101\n",
      "  0.65597054 0.         0.        ]\n",
      " [0.59014558 0.59832869 0.609435   0.62222222 0.63722898 0.64499213\n",
      "  0.61702128 0.         0.        ]\n",
      " [0.62477771 0.63512714 0.63704128 0.64421998 0.64507495 0.65010571\n",
      "  0.63590005 0.         0.        ]]\n",
      "tf_rf\n",
      "[[0.95551724 0.95075584 0.95067621 0.94962729 0.94180011 0.94347367\n",
      "  0.94122915 0.         0.        ]\n",
      " [0.80163728 0.76433522 0.77717718 0.77545084 0.75067751 0.7698455\n",
      "  0.76380852 0.         0.        ]\n",
      " [0.9464684  0.95587076 0.95357406 0.95692749 0.95385675 0.96655518\n",
      "  0.95026178 0.         0.        ]\n",
      " [0.86805319 0.84943978 0.8563865  0.8566838  0.84015772 0.85705813\n",
      "  0.84689414 0.         0.        ]]\n",
      "8 11 7\n",
      "tf_nb\n",
      "[[0.85448276 0.85868071 0.85612001 0.85678789 0.85356157 0.84472851\n",
      "  0.84014329 0.83915771 0.        ]\n",
      " [0.66372796 0.67674858 0.66726727 0.66783013 0.65311653 0.65530101\n",
      "  0.65597054 0.6980042  0.        ]\n",
      " [0.59014558 0.59832869 0.609435   0.62222222 0.63722898 0.64499213\n",
      "  0.61702128 0.60684932 0.        ]\n",
      " [0.62477771 0.63512714 0.63704128 0.64421998 0.64507495 0.65010571\n",
      "  0.63590005 0.64924279 0.        ]]\n",
      "tf_rf\n",
      "[[0.95551724 0.95075584 0.95067621 0.94962729 0.94180011 0.94347367\n",
      "  0.94122915 0.95127688 0.        ]\n",
      " [0.80163728 0.76433522 0.77717718 0.77545084 0.75067751 0.7698455\n",
      "  0.76380852 0.8177521  0.        ]\n",
      " [0.9464684  0.95587076 0.95357406 0.95692749 0.95385675 0.96655518\n",
      "  0.95026178 0.94650456 0.        ]\n",
      " [0.86805319 0.84943978 0.8563865  0.8566838  0.84015772 0.85705813\n",
      "  0.84689414 0.87743026 0.        ]]\n",
      "9 12 8\n",
      "tf_nb\n",
      "[[0.85448276 0.85868071 0.85612001 0.85678789 0.85356157 0.84472851\n",
      "  0.84014329 0.83915771 0.80646564]\n",
      " [0.66372796 0.67674858 0.66726727 0.66783013 0.65311653 0.65530101\n",
      "  0.65597054 0.6980042  0.73340529]\n",
      " [0.59014558 0.59832869 0.609435   0.62222222 0.63722898 0.64499213\n",
      "  0.61702128 0.60684932 0.61772727]\n",
      " [0.62477771 0.63512714 0.63704128 0.64421998 0.64507495 0.65010571\n",
      "  0.63590005 0.64924279 0.67061436]]\n",
      "tf_rf\n",
      "[[0.95551724 0.95075584 0.95067621 0.94962729 0.94180011 0.94347367\n",
      "  0.94122915 0.95127688 0.938098  ]\n",
      " [0.80163728 0.76433522 0.77717718 0.77545084 0.75067751 0.7698455\n",
      "  0.76380852 0.8177521  0.8407987 ]\n",
      " [0.9464684  0.95587076 0.95357406 0.95692749 0.95385675 0.96655518\n",
      "  0.95026178 0.94650456 0.92189349]\n",
      " [0.86805319 0.84943978 0.8563865  0.8566838  0.84015772 0.85705813\n",
      "  0.84689414 0.87743026 0.87948067]]\n",
      "CPU times: user 24min 27s, sys: 1.01 s, total: 24min 28s\n",
      "Wall time: 23min 22s\n"
     ]
    }
   ],
   "source": [
    "%%time\n",
    "while end_month <13:\n",
    "    df_X_train, y_train, df_X_test, y_test = split_data(start_month, end_month)\n",
    "    X_train, X_test = run_tf_vec(df_X_train, df_X_test)\n",
    "    scores_tf_nb = predict_tf_nb(X_train, y_train, X_test, y_test)\n",
    "    scores_tf_rf = predict_tf_rf(X_train, y_train, X_test, y_test)\n",
    "    print(start_month, end_month, model_num)\n",
    "    model_num += 1\n",
    "    start_month += 1\n",
    "    end_month += 1\n",
    "    print('tf_nb')\n",
    "    print(scores_tf_nb)\n",
    "    print('tf_rf')\n",
    "    print(scores_tf_rf)"
   ]
  },
  {
   "cell_type": "code",
   "execution_count": 14,
   "metadata": {},
   "outputs": [
    {
     "name": "stdout",
     "output_type": "stream",
     "text": [
      "0.8455697882468312\n",
      "0.6745968354038901\n",
      "0.6159944961116426\n",
      "0.6435671085940798\n"
     ]
    }
   ],
   "source": [
    "accuracy_2017_tf_nb = np.mean(scores_tf_nb[0])\n",
    "recall_2017_tf_nb = np.mean(scores_tf_nb[1])\n",
    "precision_2017_tf_nb = np.mean(scores_tf_nb[2])\n",
    "f1_score_2017_tf_nb = np.mean(scores_tf_nb[3])\n",
    "print(accuracy_2017_tf_nb)\n",
    "print(recall_2017_tf_nb)\n",
    "print(precision_2017_tf_nb)\n",
    "print(f1_score_2017_tf_nb)"
   ]
  },
  {
   "cell_type": "code",
   "execution_count": 15,
   "metadata": {},
   "outputs": [
    {
     "name": "stdout",
     "output_type": "stream",
     "text": [
      "0.946939377339736\n",
      "0.7846092062627434\n",
      "0.9502124982965571\n",
      "0.8590649087408558\n"
     ]
    }
   ],
   "source": [
    "accuracy_2017_tf_rf = np.mean(scores_tf_rf[0])\n",
    "recall_2017_tf_rf = np.mean(scores_tf_rf[1])\n",
    "precision_2017_tf_rf = np.mean(scores_tf_rf[2])\n",
    "f1_score_2017_tf_rf = np.mean(scores_tf_rf[3])\n",
    "print(accuracy_2017_tf_rf)\n",
    "print(recall_2017_tf_rf)\n",
    "print(precision_2017_tf_rf)\n",
    "print(f1_score_2017_tf_rf)"
   ]
  },
  {
   "cell_type": "markdown",
   "metadata": {},
   "source": [
    "## Try running with TF-IDF"
   ]
  },
  {
   "cell_type": "code",
   "execution_count": 25,
   "metadata": {},
   "outputs": [
    {
     "name": "stdout",
     "output_type": "stream",
     "text": [
      "CPU times: user 0 ns, sys: 0 ns, total: 0 ns\n",
      "Wall time: 7.39 µs\n"
     ]
    }
   ],
   "source": [
    "%%time\n",
    "def run_tf_idf_vec(df_X_train, df_X_test):\n",
    "    tf_idf_vectorizer_train = TfidfVectorizer(analyzer=process_text)\n",
    "    X_train2 = tf_idf_vectorizer_train.fit_transform(df_X_train).toarray()\n",
    "    tf_idf_vectorizer_test = TfidfVectorizer(analyzer=process_text, vocabulary=tf_idf_vectorizer_train.vocabulary_)\n",
    "    X_test2 = tf_idf_vectorizer_test.fit_transform(df_X_test).toarray()\n",
    "    return X_train2, X_test2"
   ]
  },
  {
   "cell_type": "code",
   "execution_count": 26,
   "metadata": {},
   "outputs": [],
   "source": [
    "def predict_tf_idf_nb(X_train2, y_train, X_test2, y_test):\n",
    "    from sklearn.naive_bayes import GaussianNB\n",
    "    nb = GaussianNB()\n",
    "    nb.fit(X_train2, y_train)\n",
    "    # pickle.dump(nb, open('nb_model_guassian.p', 'wb'))\n",
    "    preds = nb.predict(X_test2)\n",
    "    scores_tf_idf_nb[0][model_num] = accuracy_score(y_test, preds)\n",
    "    scores_tf_idf_nb[1][model_num] = recall_score(y_test, nb.predict(X_test2))\n",
    "    scores_tf_idf_nb[2][model_num] = precision_score(y_test, nb.predict(X_test2))\n",
    "    scores_tf_idf_nb[3][model_num] = f1_score(y_test, nb.predict(X_test2))\n",
    "    return scores_tf_idf_nb"
   ]
  },
  {
   "cell_type": "markdown",
   "metadata": {},
   "source": [
    "## With the TF-IDF, run with RandomForest "
   ]
  },
  {
   "cell_type": "code",
   "execution_count": 27,
   "metadata": {},
   "outputs": [],
   "source": [
    "def predict_tf_idf_rf(X_train2, y_train, X_test2, y_test):\n",
    "    rf = RandomForestClassifier(n_estimators = 10, n_jobs=-1, random_state=0, class_weight = {0:.95, 1:.05})\n",
    "    rf.fit(X_train2, y_train)\n",
    "    predicted = rf.predict(X_test2)\n",
    "#     pickle.dump(rf, open('rf_nlp_50.p', 'wb'))\n",
    "    scores_tf_idf_rf[0][model_num] = accuracy_score(y_test, predicted)\n",
    "    scores_tf_idf_rf[1][model_num] = recall_score(y_test, rf.predict(X_test2))\n",
    "    scores_tf_idf_rf[2][model_num] = precision_score(y_test, rf.predict(X_test2))\n",
    "    scores_tf_idf_rf[3][model_num] = f1_score(y_test, rf.predict(X_test2))\n",
    "    return scores_tf_idf_rf"
   ]
  },
  {
   "cell_type": "code",
   "execution_count": null,
   "metadata": {},
   "outputs": [],
   "source": []
  },
  {
   "cell_type": "code",
   "execution_count": 28,
   "metadata": {},
   "outputs": [],
   "source": [
    "scores_tf_idf_nb = np.zeros(shape=(4,9))\n",
    "scores_tf_idf_rf = np.zeros(shape=(4,9))\n",
    "\n",
    "model_num = 0\n",
    "start_month = 1\n",
    "end_month = 4"
   ]
  },
  {
   "cell_type": "code",
   "execution_count": 29,
   "metadata": {},
   "outputs": [
    {
     "name": "stdout",
     "output_type": "stream",
     "text": [
      "1 4 0\n",
      "tf_idf_nb\n",
      "[[0.61356322 0.         0.         0.         0.         0.\n",
      "  0.         0.         0.        ]\n",
      " [0.93702771 0.         0.         0.         0.         0.\n",
      "  0.         0.         0.        ]\n",
      " [0.31326316 0.         0.         0.         0.         0.\n",
      "  0.         0.         0.        ]\n",
      " [0.46954875 0.         0.         0.         0.         0.\n",
      "  0.         0.         0.        ]]\n",
      "tf_idf_rf\n",
      "[[0.94597701 0.         0.         0.         0.         0.\n",
      "  0.         0.         0.        ]\n",
      " [0.75692695 0.         0.         0.         0.         0.\n",
      "  0.         0.         0.        ]\n",
      " [0.93468118 0.         0.         0.         0.         0.\n",
      "  0.         0.         0.        ]\n",
      " [0.83646486 0.         0.         0.         0.         0.\n",
      "  0.         0.         0.        ]]\n",
      "2 5 1\n",
      "tf_idf_nb\n",
      "[[0.61356322 0.61108566 0.         0.         0.         0.\n",
      "  0.         0.         0.        ]\n",
      " [0.93702771 0.93194707 0.         0.         0.         0.\n",
      "  0.         0.         0.        ]\n",
      " [0.31326316 0.31025802 0.         0.         0.         0.\n",
      "  0.         0.         0.        ]\n",
      " [0.46954875 0.46553352 0.         0.         0.         0.\n",
      "  0.         0.         0.        ]]\n",
      "tf_idf_rf\n",
      "[[0.94597701 0.94388456 0.         0.         0.         0.\n",
      "  0.         0.         0.        ]\n",
      " [0.75692695 0.73093888 0.         0.         0.         0.\n",
      "  0.         0.         0.        ]\n",
      " [0.93468118 0.94848733 0.         0.         0.         0.\n",
      "  0.         0.         0.        ]\n",
      " [0.83646486 0.82562278 0.         0.         0.         0.\n",
      "  0.         0.         0.        ]]\n",
      "3 6 2\n",
      "tf_idf_nb\n",
      "[[0.61356322 0.61108566 0.61245596 0.         0.         0.\n",
      "  0.         0.         0.        ]\n",
      " [0.93702771 0.93194707 0.93813814 0.         0.         0.\n",
      "  0.         0.         0.        ]\n",
      " [0.31326316 0.31025802 0.32080509 0.         0.         0.\n",
      "  0.         0.         0.        ]\n",
      " [0.46954875 0.46553352 0.47811448 0.         0.         0.\n",
      "  0.         0.         0.        ]]\n",
      "tf_idf_rf\n",
      "[[0.94597701 0.94388456 0.94226617 0.         0.         0.\n",
      "  0.         0.         0.        ]\n",
      " [0.75692695 0.73093888 0.74594595 0.         0.         0.\n",
      "  0.         0.         0.        ]\n",
      " [0.93468118 0.94848733 0.93594574 0.         0.         0.\n",
      "  0.         0.         0.        ]\n",
      " [0.83646486 0.82562278 0.8302139  0.         0.         0.\n",
      "  0.         0.         0.        ]]\n",
      "4 7 3\n",
      "tf_idf_nb\n",
      "[[0.61356322 0.61108566 0.61245596 0.62525412 0.         0.\n",
      "  0.         0.         0.        ]\n",
      " [0.93702771 0.93194707 0.93813814 0.93717277 0.         0.\n",
      "  0.         0.         0.        ]\n",
      " [0.31326316 0.31025802 0.32080509 0.33416304 0.         0.\n",
      "  0.         0.         0.        ]\n",
      " [0.46954875 0.46553352 0.47811448 0.49266055 0.         0.\n",
      "  0.         0.         0.        ]]\n",
      "tf_idf_rf\n",
      "[[0.94597701 0.94388456 0.94226617 0.9384459  0.         0.\n",
      "  0.         0.         0.        ]\n",
      " [0.75692695 0.73093888 0.74594595 0.73240256 0.         0.\n",
      "  0.         0.         0.        ]\n",
      " [0.93468118 0.94848733 0.93594574 0.93675595 0.         0.\n",
      "  0.         0.         0.        ]\n",
      " [0.83646486 0.82562278 0.8302139  0.82206987 0.         0.\n",
      "  0.         0.         0.        ]]\n",
      "5 8 4\n",
      "tf_idf_nb\n",
      "[[0.61356322 0.61108566 0.61245596 0.62525412 0.62297073 0.\n",
      "  0.         0.         0.        ]\n",
      " [0.93702771 0.93194707 0.93813814 0.93717277 0.91056911 0.\n",
      "  0.         0.         0.        ]\n",
      " [0.31326316 0.31025802 0.32080509 0.33416304 0.34083993 0.\n",
      "  0.         0.         0.        ]\n",
      " [0.46954875 0.46553352 0.47811448 0.49266055 0.49601417 0.\n",
      "  0.         0.         0.        ]]\n",
      "tf_idf_rf\n",
      "[[0.94597701 0.94388456 0.94226617 0.9384459  0.93241303 0.\n",
      "  0.         0.         0.        ]\n",
      " [0.75692695 0.73093888 0.74594595 0.73240256 0.71490515 0.\n",
      "  0.         0.         0.        ]\n",
      " [0.93468118 0.94848733 0.93594574 0.93675595 0.93879004 0.\n",
      "  0.         0.         0.        ]\n",
      " [0.83646486 0.82562278 0.8302139  0.82206987 0.81169231 0.\n",
      "  0.         0.         0.        ]]\n",
      "6 9 5\n",
      "tf_idf_nb\n",
      "[[0.61356322 0.61108566 0.61245596 0.62525412 0.62297073 0.64078808\n",
      "  0.         0.         0.        ]\n",
      " [0.93702771 0.93194707 0.93813814 0.93717277 0.91056911 0.93819925\n",
      "  0.         0.         0.        ]\n",
      " [0.31326316 0.31025802 0.32080509 0.33416304 0.34083993 0.37404418\n",
      "  0.         0.         0.        ]\n",
      " [0.46954875 0.46553352 0.47811448 0.49266055 0.49601417 0.53485194\n",
      "  0.         0.         0.        ]]\n",
      "tf_idf_rf\n",
      "[[0.94597701 0.94388456 0.94226617 0.9384459  0.93241303 0.93854814\n",
      "  0.         0.         0.        ]\n",
      " [0.75692695 0.73093888 0.74594595 0.73240256 0.71490515 0.74427278\n",
      "  0.         0.         0.        ]\n",
      " [0.93468118 0.94848733 0.93594574 0.93675595 0.93879004 0.96946565\n",
      "  0.         0.         0.        ]\n",
      " [0.83646486 0.82562278 0.8302139  0.82206987 0.81169231 0.84207354\n",
      "  0.         0.         0.        ]]\n",
      "7 10 6\n",
      "tf_idf_nb\n",
      "[[0.61356322 0.61108566 0.61245596 0.62525412 0.62297073 0.64078808\n",
      "  0.62062017 0.         0.        ]\n",
      " [0.93702771 0.93194707 0.93813814 0.93717277 0.91056911 0.93819925\n",
      "  0.92845871 0.         0.        ]\n",
      " [0.31326316 0.31025802 0.32080509 0.33416304 0.34083993 0.37404418\n",
      "  0.35173376 0.         0.        ]\n",
      " [0.46954875 0.46553352 0.47811448 0.49266055 0.49601417 0.53485194\n",
      "  0.51018933 0.         0.        ]]\n",
      "tf_idf_rf\n",
      "[[0.94597701 0.94388456 0.94226617 0.9384459  0.93241303 0.93854814\n",
      "  0.93148998 0.         0.        ]\n",
      " [0.75692695 0.73093888 0.74594595 0.73240256 0.71490515 0.74427278\n",
      "  0.7243556  0.         0.        ]\n",
      " [0.93468118 0.94848733 0.93594574 0.93675595 0.93879004 0.96946565\n",
      "  0.93993174 0.         0.        ]\n",
      " [0.83646486 0.82562278 0.8302139  0.82206987 0.81169231 0.84207354\n",
      "  0.81818182 0.         0.        ]]\n",
      "8 11 7\n",
      "tf_idf_nb\n",
      "[[0.61356322 0.61108566 0.61245596 0.62525412 0.62297073 0.64078808\n",
      "  0.62062017 0.61234319 0.        ]\n",
      " [0.93702771 0.93194707 0.93813814 0.93717277 0.91056911 0.93819925\n",
      "  0.92845871 0.94590336 0.        ]\n",
      " [0.31326316 0.31025802 0.32080509 0.33416304 0.34083993 0.37404418\n",
      "  0.35173376 0.34909866 0.        ]\n",
      " [0.46954875 0.46553352 0.47811448 0.49266055 0.49601417 0.53485194\n",
      "  0.51018933 0.50998159 0.        ]]\n",
      "tf_idf_rf\n",
      "[[0.94597701 0.94388456 0.94226617 0.9384459  0.93241303 0.93854814\n",
      "  0.93148998 0.94410842 0.        ]\n",
      " [0.75692695 0.73093888 0.74594595 0.73240256 0.71490515 0.74427278\n",
      "  0.7243556  0.79254202 0.        ]\n",
      " [0.93468118 0.94848733 0.93594574 0.93675595 0.93879004 0.96946565\n",
      "  0.93993174 0.93552387 0.        ]\n",
      " [0.83646486 0.82562278 0.8302139  0.82206987 0.81169231 0.84207354\n",
      "  0.81818182 0.85811771 0.        ]]\n",
      "9 12 8\n",
      "tf_idf_nb\n",
      "[[0.61356322 0.61108566 0.61245596 0.62525412 0.62297073 0.64078808\n",
      "  0.62062017 0.61234319 0.64250507]\n",
      " [0.93702771 0.93194707 0.93813814 0.93717277 0.91056911 0.93819925\n",
      "  0.92845871 0.94590336 0.95736643]\n",
      " [0.31326316 0.31025802 0.32080509 0.33416304 0.34083993 0.37404418\n",
      "  0.35173376 0.34909866 0.42633982]\n",
      " [0.46954875 0.46553352 0.47811448 0.49266055 0.49601417 0.53485194\n",
      "  0.51018933 0.50998159 0.58995677]]\n",
      "tf_idf_rf\n",
      "[[0.94597701 0.94388456 0.94226617 0.9384459  0.93241303 0.93854814\n",
      "  0.93148998 0.94410842 0.92780516]\n",
      " [0.75692695 0.73093888 0.74594595 0.73240256 0.71490515 0.74427278\n",
      "  0.7243556  0.79254202 0.8019428 ]\n",
      " [0.93468118 0.94848733 0.93594574 0.93675595 0.93879004 0.96946565\n",
      "  0.93993174 0.93552387 0.91898578]\n",
      " [0.83646486 0.82562278 0.8302139  0.82206987 0.81169231 0.84207354\n",
      "  0.81818182 0.85811771 0.85648415]]\n"
     ]
    }
   ],
   "source": [
    "while end_month <13:\n",
    "    df_X_train, y_train, df_X_test, y_test = split_data(start_month, end_month) \n",
    "    X_train2, X_test2 = run_tf_idf_vec(df_X_train, df_X_test)\n",
    "    scores_tf_idf_nb = predict_tf_idf_nb(X_train2, y_train, X_test2, y_test)\n",
    "    scores_tf_idf_rf = predict_tf_idf_rf(X_train2, y_train, X_test2, y_test)\n",
    "    print(start_month, end_month, model_num)\n",
    "    model_num += 1\n",
    "    start_month += 1\n",
    "    end_month += 1\n",
    "    print('tf_idf_nb')\n",
    "    print(scores_tf_idf_nb)\n",
    "    print('tf_idf_rf')\n",
    "    print(scores_tf_idf_rf)"
   ]
  },
  {
   "cell_type": "code",
   "execution_count": 30,
   "metadata": {},
   "outputs": [
    {
     "name": "stdout",
     "output_type": "stream",
     "text": [
      "0.6223984688066541\n",
      "0.9360869500755025\n",
      "0.3467272958014258\n",
      "0.5052056786500755\n"
     ]
    }
   ],
   "source": [
    "accuracy_2017_tf_idf_nb = np.mean(scores_tf_idf_nb[0])\n",
    "recall_2017_tf_idf_nb = np.mean(scores_tf_idf_nb[1])\n",
    "precision_2017_tf_idf_nb = np.mean(scores_tf_idf_nb[2])\n",
    "f1_score_2017_tf_idf_nb = np.mean(scores_tf_idf_nb[3])\n",
    "print(accuracy_2017_tf_idf_nb)\n",
    "print(recall_2017_tf_idf_nb)\n",
    "print(precision_2017_tf_idf_nb)\n",
    "print(f1_score_2017_tf_idf_nb)"
   ]
  },
  {
   "cell_type": "code",
   "execution_count": 31,
   "metadata": {},
   "outputs": [
    {
     "name": "stdout",
     "output_type": "stream",
     "text": [
      "0.9383264864764923\n",
      "0.7493591861607887\n",
      "0.9398408080684738\n",
      "0.8334356589996533\n"
     ]
    }
   ],
   "source": [
    "accuracy_2017_tf_idf_rf = np.mean(scores_tf_idf_rf[0])\n",
    "recall_2017_tf_idf_rf = np.mean(scores_tf_idf_rf[1])\n",
    "precision_2017_tf_idf_rf = np.mean(scores_tf_idf_rf[2])\n",
    "f1_score_2017_tf_idf_rf = np.mean(scores_tf_idf_rf[3])\n",
    "print(accuracy_2017_tf_idf_rf)\n",
    "print(recall_2017_tf_idf_rf)\n",
    "print(precision_2017_tf_idf_rf)\n",
    "print(f1_score_2017_tf_idf_rf)"
   ]
  },
  {
   "cell_type": "code",
   "execution_count": null,
   "metadata": {},
   "outputs": [],
   "source": []
  },
  {
   "cell_type": "code",
   "execution_count": null,
   "metadata": {},
   "outputs": [],
   "source": []
  },
  {
   "cell_type": "markdown",
   "metadata": {},
   "source": [
    "## Kmeans"
   ]
  },
  {
   "cell_type": "code",
   "execution_count": 164,
   "metadata": {},
   "outputs": [],
   "source": [
    "from sklearn.cluster import KMeans\n",
    "from collections import Counter\n",
    "from scipy.spatial.distance import pdist, squareform\n",
    "import matplotlib.pyplot as plt\n",
    "from scipy.cluster.hierarchy import linkage, dendrogram"
   ]
  },
  {
   "cell_type": "code",
   "execution_count": null,
   "metadata": {},
   "outputs": [],
   "source": [
    "features = vectorizer.get_feature_names()\n",
    "kmeans = KMeans()\n",
    "kmeans.fit(X_train)"
   ]
  },
  {
   "cell_type": "code",
   "execution_count": null,
   "metadata": {},
   "outputs": [],
   "source": [
    "print(\"\\n2) cluster centers:\")\n",
    "print(kmeans.cluster_centers_)\n"
   ]
  },
  {
   "cell_type": "code",
   "execution_count": null,
   "metadata": {},
   "outputs": [],
   "source": [
    "top_centroids = kmeans.cluster_centers_.argsort()[:,-1:-11:-1]\n",
    "print(\"\\n3) top features (words) for each cluster:\")\n",
    "for num, centroid in enumerate(top_centroids):\n",
    "    print(\"%d: %s\" % (num, \", \".join(features[i] for i in centroid)))\n"
   ]
  }
 ],
 "metadata": {
  "kernelspec": {
   "display_name": "Python 3",
   "language": "python",
   "name": "python3"
  },
  "language_info": {
   "codemirror_mode": {
    "name": "ipython",
    "version": 3
   },
   "file_extension": ".py",
   "mimetype": "text/x-python",
   "name": "python",
   "nbconvert_exporter": "python",
   "pygments_lexer": "ipython3",
   "version": "3.6.4"
  }
 },
 "nbformat": 4,
 "nbformat_minor": 2
}

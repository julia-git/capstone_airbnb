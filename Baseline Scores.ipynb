{
 "cells": [
  {
   "cell_type": "code",
   "execution_count": 1,
   "metadata": {},
   "outputs": [],
   "source": [
    "import random\n",
    "import pandas as pd\n",
    "import numpy as np\n",
    "import pickle\n",
    "import matplotlib.pyplot as plt\n",
    "from datetime import datetime as dt\n",
    "\n",
    "pd.set_option(\"display.max_colwidth\",999)\n",
    "pd.set_option(\"display.max_rows\",999)\n",
    "pd.set_option(\"display.max_columns\",999)\n",
    "np.set_printoptions(suppress=True)"
   ]
  },
  {
   "cell_type": "code",
   "execution_count": 2,
   "metadata": {},
   "outputs": [],
   "source": [
    "df_sf_2017 = pd.read_json('df_sf_2017')"
   ]
  },
  {
   "cell_type": "markdown",
   "metadata": {},
   "source": [
    "## Scenario A - Guess that every listing is not popular"
   ]
  },
  {
   "cell_type": "markdown",
   "metadata": {},
   "source": [
    "### Accuracy = 80%"
   ]
  },
  {
   "cell_type": "markdown",
   "metadata": {},
   "source": [
    "## Senario B Baseline -  randomly guessing given that we know that 20% of the data is popular"
   ]
  },
  {
   "cell_type": "code",
   "execution_count": 244,
   "metadata": {},
   "outputs": [],
   "source": [
    "def randomly_guessing(n_simulations = 10):\n",
    "    \n",
    "    count = 0 #\n",
    "    #keep track of \n",
    "    accuracy_baseline = np.zeros(shape=(1,9*n_simulations)) #we have 9 test sets for 2017. Multiply by 9 for each simulation.  \n",
    "    recall_baseline = np.zeros(shape=(1,9*n_simulations))\n",
    "    precision_baseline = np.zeros(shape=(1,9*n_simulations))\n",
    "    f1_baseline = np.zeros(shape=(1,9*n_simulations))\n",
    "    \n",
    "    for i in range(n_simulations):\n",
    "        my_list = [True for x in range(2)] +  [False for x in range(8)]\n",
    "        start_month = 1\n",
    "        end_month = 4\n",
    "        while end_month <13:\n",
    "            y_test = df_sf_2017[df_sf_2017['month'] == end_month]['popular']\n",
    "            y_pred = pd.Series(random.choice(my_list) for x in range(y_test.size))\n",
    "            accuracy_baseline[0][count] = accuracy_score(y_test, y_pred)\n",
    "            recall_baseline[0][count] = recall_score(y_test, y_pred)\n",
    "            precision_baseline[0][count] = precision_score(y_test, y_pred)\n",
    "            f1_baseline[0][count] = f1_score(y_test, y_pred)\n",
    "            count+=1\n",
    "            start_month += 1\n",
    "            end_month += 1\n",
    "            \n",
    "    return accuracy_baseline, recall_baseline, precision_baseline, f1_baseline\n"
   ]
  },
  {
   "cell_type": "code",
   "execution_count": 235,
   "metadata": {},
   "outputs": [
    {
     "name": "stdout",
     "output_type": "stream",
     "text": [
      "0.6738568003192421\n",
      "0.19992382244534446\n",
      "0.2098987145097955\n",
      "0.20396154681655437\n"
     ]
    }
   ],
   "source": [
    "accuracy_baseline, recall_baseline, precision_baseline, f1_baseline = randomly_guessing(n_simulations = 1000)\n",
    "print(accuracy_baseline.mean())\n",
    "print(recall_baseline.mean()) \n",
    "print(precision_baseline.mean()) \n",
    "print(f1_baseline.mean())"
   ]
  },
  {
   "cell_type": "markdown",
   "metadata": {},
   "source": [
    "## Scenario C Baseline - everything that was popular before will be popular next month"
   ]
  },
  {
   "cell_type": "code",
   "execution_count": 69,
   "metadata": {},
   "outputs": [
    {
     "name": "stdout",
     "output_type": "stream",
     "text": [
      "round\n",
      "round\n",
      "round\n",
      "round\n",
      "round\n",
      "round\n",
      "round\n",
      "round\n",
      "[[0.9608849  0.96217545 0.96382866 0.95824678 0.9580182  0.9485442\n",
      "  0.96311855 0.96487046]\n",
      " [0.87884741 0.86542056 0.88295937 0.85087226 0.88636364 0.86368653\n",
      "  0.89997237 0.93271632]\n",
      " [0.88115561 0.90962672 0.90716511 0.91691935 0.89983118 0.86751663\n",
      "  0.93270332 0.92107936]\n",
      " [0.88       0.88       0.88       0.88       0.88       0.88\n",
      "  0.88       0.88      ]]\n"
     ]
    }
   ],
   "source": [
    "baseline_score = np.zeros(shape=(4,8))\n",
    "model_num = 0\n",
    "end_month = 4\n",
    "while end_month <12:\n",
    "    print('round')\n",
    "    month_1 = df_sf_2017[df_sf_2017['month']==end_month][['host_id', 'id', 'popular']]\n",
    "    month_2 = df_sf_2017[df_sf_2017['month']==(end_month+1)][['host_id', 'id', 'popular']]\n",
    "    new_df = pd.merge(month_1, month_2,  how='outer', left_on=['host_id','id'], right_on = ['host_id','id'])\n",
    "    new_df.popular_x.fillna(value=False, inplace=True)\n",
    "    new_df.popular_y.fillna(value=False, inplace=True)\n",
    "    TP = sum((new_df['popular_x']==True) & (new_df['popular_y']==True) )\n",
    "    FP = sum((new_df['popular_x']==True) & (new_df['popular_y']==False) )\n",
    "    FN = sum((new_df['popular_x']==False) & (new_df['popular_y']==True) )\n",
    "    TN = sum((new_df['popular_x']==False) & (new_df['popular_y']==False) )\n",
    "    baseline_score[0][model_num] = (TP + TN) / (TP+TN+FP+FN) #accuracy\n",
    "    baseline_score[1][model_num] = TP/(TP+FN) #recall\n",
    "    baseline_score[2][model_num] = TP/(TP+FP) #precision\n",
    "    baseline_score[3][model_num] = 2 * (precision * recall) / (precision + recall) #F1\n",
    "    end_month+=1\n",
    "    model_num+=1\n",
    "print(baseline_score)"
   ]
  },
  {
   "cell_type": "code",
   "execution_count": 70,
   "metadata": {},
   "outputs": [
    {
     "name": "stdout",
     "output_type": "stream",
     "text": [
      "0.9599608992257598\n",
      "0.8826048074968106\n",
      "0.904499658833364\n",
      "0.88\n"
     ]
    }
   ],
   "source": [
    "print(baseline_score[0].mean()) #accuracy\n",
    "print(baseline_score[1].mean()) #recal\n",
    "print(baseline_score[2].mean()) #precision\n",
    "print(baseline_score[3].mean()) #f1\n"
   ]
  },
  {
   "cell_type": "code",
   "execution_count": null,
   "metadata": {},
   "outputs": [],
   "source": []
  }
 ],
 "metadata": {
  "kernelspec": {
   "display_name": "Python 3",
   "language": "python",
   "name": "python3"
  },
  "language_info": {
   "codemirror_mode": {
    "name": "ipython",
    "version": 3
   },
   "file_extension": ".py",
   "mimetype": "text/x-python",
   "name": "python",
   "nbconvert_exporter": "python",
   "pygments_lexer": "ipython3",
   "version": "3.6.4"
  }
 },
 "nbformat": 4,
 "nbformat_minor": 2
}

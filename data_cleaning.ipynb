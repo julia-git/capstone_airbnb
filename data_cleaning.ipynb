{
 "cells": [
  {
   "cell_type": "code",
   "execution_count": 1,
   "metadata": {},
   "outputs": [],
   "source": [
    "import pandas as pd\n",
    "import numpy as np\n",
    "import pickle\n",
    "import os\n",
    "import glob\n",
    "from datetime import datetime as dt\n",
    "%matplotlib inline\n",
    "\n",
    "from sklearn.model_selection import train_test_split\n",
    "\n",
    "pd.set_option(\"display.max_colwidth\",999)\n",
    "pd.set_option(\"display.max_rows\",999)\n",
    "pd.set_option(\"display.max_columns\",999)"
   ]
  },
  {
   "cell_type": "markdown",
   "metadata": {},
   "source": [
    "## for all csv's in the SF folder, concatenate into one dataframe"
   ]
  },
  {
   "cell_type": "code",
   "execution_count": 2,
   "metadata": {},
   "outputs": [
    {
     "name": "stderr",
     "output_type": "stream",
     "text": [
      "/home/ubuntu/anaconda3/lib/python3.6/site-packages/IPython/core/interactiveshell.py:2903: DtypeWarning: Columns (43) have mixed types. Specify dtype option on import or set low_memory=False.\n",
      "  if self.run_code(code, result):\n"
     ]
    }
   ],
   "source": [
    "files = glob.glob('SF/*.gz')\n",
    "df_sf = pd.concat([pd.read_csv(fp, parse_dates = ['calendar_last_scraped','last_scraped', 'first_review', 'last_review']) for fp in files], ignore_index=True)"
   ]
  },
  {
   "cell_type": "code",
   "execution_count": 3,
   "metadata": {},
   "outputs": [
    {
     "data": {
      "text/plain": [
       "204559"
      ]
     },
     "execution_count": 3,
     "metadata": {},
     "output_type": "execute_result"
    }
   ],
   "source": [
    "len(df_sf)"
   ]
  },
  {
   "cell_type": "markdown",
   "metadata": {},
   "source": [
    "## Drop the rows where the number of reviews is greater than 0 and the reviews per month is zero"
   ]
  },
  {
   "cell_type": "code",
   "execution_count": 4,
   "metadata": {},
   "outputs": [],
   "source": [
    "df_sf = df_sf[(df_sf['reviews_per_month'].notnull()) | ((df_sf['number_of_reviews']== 0) & (df_sf['reviews_per_month'].isnull()))]"
   ]
  },
  {
   "cell_type": "markdown",
   "metadata": {},
   "source": [
    "## fill 0 in the reviews per month where total reviews = 0"
   ]
  },
  {
   "cell_type": "code",
   "execution_count": 5,
   "metadata": {},
   "outputs": [],
   "source": [
    "df_sf.reviews_per_month.fillna(value=0, inplace=True)"
   ]
  },
  {
   "cell_type": "markdown",
   "metadata": {},
   "source": [
    "## drop listings where price is 0"
   ]
  },
  {
   "cell_type": "code",
   "execution_count": 6,
   "metadata": {},
   "outputs": [],
   "source": [
    "df_sf['price'].replace('[\\$,]', '', regex=True, inplace=True)\n",
    "df_sf['price'] = df_sf.price.astype(float) ##\n",
    "df_sf.drop(df_sf[df_sf.price == 0].index, inplace=True)"
   ]
  },
  {
   "cell_type": "code",
   "execution_count": 7,
   "metadata": {},
   "outputs": [
    {
     "data": {
      "text/plain": [
       "204235"
      ]
     },
     "execution_count": 7,
     "metadata": {},
     "output_type": "execute_result"
    }
   ],
   "source": [
    "len(df_sf)"
   ]
  },
  {
   "cell_type": "markdown",
   "metadata": {},
   "source": [
    "## create year and month columns"
   ]
  },
  {
   "cell_type": "code",
   "execution_count": 8,
   "metadata": {},
   "outputs": [],
   "source": [
    "df_sf['year'] = df_sf.calendar_last_scraped.apply(lambda x: x.year)\n",
    "df_sf['month'] = df_sf.calendar_last_scraped.apply(lambda x: x.month)"
   ]
  },
  {
   "cell_type": "markdown",
   "metadata": {},
   "source": [
    "## Fill nulls"
   ]
  },
  {
   "cell_type": "code",
   "execution_count": 9,
   "metadata": {},
   "outputs": [],
   "source": [
    "df_sf.cancellation_policy.fillna(value='none', inplace=True)\n",
    "df_sf.cleaning_fee.fillna(value='$0.00', inplace=True)\n",
    "\n",
    "#do host fill out information?\n",
    "df_sf.loc[df_sf.host_about.notnull(), 'host_about_filled'] = True\n",
    "df_sf.loc[df_sf.host_about.isnull(), 'host_about_filled'] = False\n",
    "df_sf.loc[df_sf.host_picture_url.notnull(), 'host_picture_url_filled'] = True\n",
    "df_sf.loc[df_sf.host_picture_url.isnull(), 'host_picture_url_filled'] = False\n",
    "df_sf.loc[df_sf.access.notnull(), 'access_filled'] = True\n",
    "df_sf.loc[df_sf.access.isnull(), 'access_filled'] = False\n",
    "df_sf.loc[df_sf.house_rules.notnull(), 'house_rules_filled'] = True\n",
    "df_sf.loc[df_sf.house_rules.isnull(), 'house_rules_filled'] = False\n",
    "df_sf.loc[df_sf.space.notnull(), 'space_filled'] = True\n",
    "df_sf.loc[df_sf.space.isnull(), 'space_filled'] = False\n",
    "\n",
    "df_sf['extra_people'].replace('[\\$,]', '', regex=True, inplace=True)\n",
    "\n",
    "df_sf.property_type.fillna(value = 'Other', inplace=True) ##\n",
    "\n",
    "#bedroom average is 1. 83 nulls. \n",
    "df_sf.bedrooms.fillna(value = 1, inplace=True) ##\n",
    "df_sf.bedrooms.replace(0, 1, inplace=True) ##\n",
    "\n",
    "df_sf.beds.fillna(value = 1, inplace=True) ##\n",
    "\n",
    "df_sf['log_price'] = df_sf['price'].apply(np.log)\n",
    "\n",
    "#value of the place you are booking. take log to get \n",
    "df_sf['price_per_bedroom'] = df_sf['log_price']/df_sf['bedrooms'] ##\n",
    "\n",
    "#how much each person pays\n",
    "df_sf['price_per_guest'] = df_sf['log_price']/(df_sf['guests_included']+1) ##adding one to included booker\n",
    "\n",
    "#do you get your own bed?\n",
    "df_sf['guest_per_bed'] = df_sf['guests_included']/df_sf['beds'] ##\n",
    "\n",
    "#do you get your own bedroom?\n",
    "df_sf['guest_per_bedroom'] = df_sf['guests_included']/df_sf['bedrooms'] ##"
   ]
  },
  {
   "cell_type": "code",
   "execution_count": 20,
   "metadata": {},
   "outputs": [
    {
     "data": {
      "text/plain": [
       "Apartment             117960\n",
       "House                  59201\n",
       "Condominium            12083\n",
       "Loft                    3241\n",
       "Other                   2372\n",
       "Bed & Breakfast         1922\n",
       "Townhouse               1445\n",
       "Dorm                    1385\n",
       "Boutique hotel           825\n",
       "In-law                   639\n",
       "Guest suite              599\n",
       "Timeshare                560\n",
       "Guesthouse               388\n",
       "Camper/RV                282\n",
       "Bungalow                 267\n",
       "Hostel                   227\n",
       "Cabin                    214\n",
       "Boat                     141\n",
       "Entire Floor              90\n",
       "Villa                     60\n",
       "Treehouse                 58\n",
       "Castle                    46\n",
       "Yurt                      28\n",
       "Tent                      27\n",
       "Cave                      24\n",
       "Lighthouse                21\n",
       "Serviced apartment        21\n",
       "Floor                     20\n",
       "Earth House                8\n",
       "Hotel                      8\n",
       "Island                     3\n",
       "Pension (Korea)            3\n",
       "Casa particular            2\n",
       "Plane                      2\n",
       "Chalet                     2\n",
       "Vacation home              1\n",
       "Tipi                       1\n",
       "Name: property_type, dtype: int64"
      ]
     },
     "execution_count": 20,
     "metadata": {},
     "output_type": "execute_result"
    }
   ],
   "source": [
    "df_sf.property_type.value_counts()"
   ]
  },
  {
   "cell_type": "code",
   "execution_count": 10,
   "metadata": {},
   "outputs": [
    {
     "data": {
      "text/plain": [
       "0"
      ]
     },
     "execution_count": 10,
     "metadata": {},
     "output_type": "execute_result"
    }
   ],
   "source": [
    "df_sf['price_per_guest'].isnull().sum()"
   ]
  },
  {
   "cell_type": "markdown",
   "metadata": {},
   "source": [
    "## 2017 dataframe"
   ]
  },
  {
   "cell_type": "code",
   "execution_count": 11,
   "metadata": {},
   "outputs": [],
   "source": [
    "df_sf_2017 = df_sf[df_sf['year']==2017]"
   ]
  },
  {
   "cell_type": "markdown",
   "metadata": {},
   "source": [
    "## 2.57 is the cutoff reviews per month to be in the top 20% of listings for all of SF in 2017"
   ]
  },
  {
   "cell_type": "code",
   "execution_count": 10,
   "metadata": {},
   "outputs": [],
   "source": [
    "# df_sf.loc[df_sf.reviews_per_month >= 2.54, 'popular'] = True\n",
    "# df_sf.loc[df_sf.reviews_per_month < 2.54, 'popular'] = False"
   ]
  },
  {
   "cell_type": "code",
   "execution_count": 12,
   "metadata": {},
   "outputs": [
    {
     "name": "stderr",
     "output_type": "stream",
     "text": [
      "/home/ubuntu/anaconda3/lib/python3.6/site-packages/pandas/core/indexing.py:357: SettingWithCopyWarning: \n",
      "A value is trying to be set on a copy of a slice from a DataFrame.\n",
      "Try using .loc[row_indexer,col_indexer] = value instead\n",
      "\n",
      "See the caveats in the documentation: http://pandas.pydata.org/pandas-docs/stable/indexing.html#indexing-view-versus-copy\n",
      "  self.obj[key] = _infer_fill_value(value)\n",
      "/home/ubuntu/anaconda3/lib/python3.6/site-packages/pandas/core/indexing.py:537: SettingWithCopyWarning: \n",
      "A value is trying to be set on a copy of a slice from a DataFrame.\n",
      "Try using .loc[row_indexer,col_indexer] = value instead\n",
      "\n",
      "See the caveats in the documentation: http://pandas.pydata.org/pandas-docs/stable/indexing.html#indexing-view-versus-copy\n",
      "  self.obj[item] = s\n"
     ]
    }
   ],
   "source": [
    "df_sf_2017.loc[df_sf_2017.reviews_per_month >= 2.57, 'popular'] = True\n",
    "df_sf_2017.loc[df_sf_2017.reviews_per_month < 2.57, 'popular'] = False"
   ]
  },
  {
   "cell_type": "code",
   "execution_count": 11,
   "metadata": {},
   "outputs": [
    {
     "data": {
      "text/plain": [
       "False    0.792064\n",
       "True     0.207936\n",
       "Name: popular, dtype: float64"
      ]
     },
     "execution_count": 11,
     "metadata": {},
     "output_type": "execute_result"
    }
   ],
   "source": [
    "df_sf_2017.popular.value_counts(1)"
   ]
  },
  {
   "cell_type": "markdown",
   "metadata": {},
   "source": [
    "## pickle the two dataframes"
   ]
  },
  {
   "cell_type": "code",
   "execution_count": 71,
   "metadata": {},
   "outputs": [],
   "source": [
    "# df_sf.to_pickle('data_sf.p')\n",
    "# df_sf_2017.to_pickle('data_sf_2017.p')"
   ]
  },
  {
   "cell_type": "markdown",
   "metadata": {},
   "source": [
    "## Should instead save to json file instead of pickle flie"
   ]
  },
  {
   "cell_type": "code",
   "execution_count": 13,
   "metadata": {},
   "outputs": [],
   "source": [
    "df_sf_2017.to_json('df_sf_2017',orient='columns')"
   ]
  },
  {
   "cell_type": "code",
   "execution_count": 14,
   "metadata": {},
   "outputs": [
    {
     "name": "stdout",
     "output_type": "stream",
     "text": [
      "total 747768\r\n",
      "-rw-rw-r-- 1 ubuntu ubuntu     14960 Aug  2 20:18 data_cleaning.ipynb\r\n",
      "-rw-rw-r-- 1 ubuntu ubuntu 650806844 Aug  2 20:19 df_sf_2017\r\n",
      "-rw-rw-r-- 1 ubuntu ubuntu    363588 Aug  2 00:33 EDA_SF_2017.ipynb\r\n",
      "-rw-rw-r-- 1 ubuntu ubuntu   4797091 Aug  2 18:26 EDA_top_20.ipynb\r\n",
      "-rw-rw-r-- 1 ubuntu ubuntu    410364 Aug  2 19:08 nb_model0.p\r\n",
      "-rw-rw-r-- 1 ubuntu ubuntu    401756 Aug  2 19:11 nb_model1.p\r\n",
      "-rw-rw-r-- 1 ubuntu ubuntu    410364 Aug  1 20:24 nb_model_2.p\r\n",
      "-rw-rw-r-- 1 ubuntu ubuntu    403388 Aug  2 19:14 nb_model2.p\r\n",
      "-rw-rw-r-- 1 ubuntu ubuntu    401148 Aug  2 19:16 nb_model3.p\r\n",
      "-rw-rw-r-- 1 ubuntu ubuntu    406524 Aug  2 19:19 nb_model4.p\r\n",
      "-rw-rw-r-- 1 ubuntu ubuntu    410716 Aug  2 19:21 nb_model5.p\r\n",
      "-rw-rw-r-- 1 ubuntu ubuntu    404540 Aug  2 19:24 nb_model6.p\r\n",
      "-rw-rw-r-- 1 ubuntu ubuntu    409372 Aug  2 19:27 nb_model7.p\r\n",
      "-rw-rw-r-- 1 ubuntu ubuntu    410204 Aug  2 19:29 nb_model8.p\r\n",
      "-rw-rw-r-- 1 ubuntu ubuntu    410295 Aug  1 20:44 nb_model_guassian.p\r\n",
      "-rw-rw-r-- 1 ubuntu ubuntu    373628 Aug  1 19:53 nb_model.p\r\n",
      "-rw-rw-r-- 1 ubuntu ubuntu     13938 Aug  2 05:57 NLP_description2.ipynb\r\n",
      "-rw-rw-r-- 1 ubuntu ubuntu     35444 Aug  2 19:30 NLP_description_func.ipynb\r\n",
      "-rw-rw-r-- 1 ubuntu ubuntu     13937 Aug  2 00:33 NLP_description.ipynb\r\n",
      "-rw-rw-r-- 1 ubuntu ubuntu     14823 Aug  2 20:19 RandomForest.ipynb\r\n",
      "-rw-rw-r-- 1 ubuntu ubuntu    126479 Aug  2 20:01 RandomForest_test.ipynb\r\n",
      "-rw-rw-r-- 1 ubuntu ubuntu  52857212 Aug  2 00:25 rf_nlp_200.p\r\n",
      "-rw-rw-r-- 1 ubuntu ubuntu   3565531 Aug  2 19:09 rf_nlp_countvec_500.p\r\n",
      "-rw-rw-r-- 1 ubuntu ubuntu   3503323 Aug  2 19:11 rf_nlp_countvec_501.p\r\n",
      "-rw-rw-r-- 1 ubuntu ubuntu   3520027 Aug  2 19:14 rf_nlp_countvec_502.p\r\n",
      "-rw-rw-r-- 1 ubuntu ubuntu   3538603 Aug  2 19:16 rf_nlp_countvec_503.p\r\n",
      "-rw-rw-r-- 1 ubuntu ubuntu   3628891 Aug  2 19:19 rf_nlp_countvec_504.p\r\n",
      "-rw-rw-r-- 1 ubuntu ubuntu   3861307 Aug  2 19:21 rf_nlp_countvec_505.p\r\n",
      "-rw-rw-r-- 1 ubuntu ubuntu   3878731 Aug  2 19:24 rf_nlp_countvec_506.p\r\n",
      "-rw-rw-r-- 1 ubuntu ubuntu   3982843 Aug  2 19:27 rf_nlp_countvec_507.p\r\n",
      "-rw-rw-r-- 1 ubuntu ubuntu   4029931 Aug  2 19:29 rf_nlp_countvec_508.p\r\n",
      "-rw-rw-r-- 1 ubuntu ubuntu  17509112 Aug  2 01:55 rf_nlp_countvec_50.p\r\n",
      "-rw-rw-r-- 1 ubuntu ubuntu         0 Aug  2 00:33 sample.txt\r\n",
      "drwxr-xr-x 3 ubuntu ubuntu      4096 Aug  2 19:11 SF\r\n",
      "-rw-rw-r-- 1 ubuntu ubuntu    725468 Aug  2 00:25 word_cloud.ipynb\r\n"
     ]
    }
   ],
   "source": [
    "!ls -l"
   ]
  },
  {
   "cell_type": "code",
   "execution_count": 12,
   "metadata": {},
   "outputs": [],
   "source": [
    "df_sf_2017 = pd.read_json('df_sf_2017')"
   ]
  },
  {
   "cell_type": "code",
   "execution_count": 13,
   "metadata": {},
   "outputs": [
    {
     "data": {
      "text/plain": [
       "0"
      ]
     },
     "execution_count": 13,
     "metadata": {},
     "output_type": "execute_result"
    }
   ],
   "source": [
    "df_sf_2017.price_per_bedroom.isnull().sum()"
   ]
  },
  {
   "cell_type": "code",
   "execution_count": null,
   "metadata": {},
   "outputs": [],
   "source": []
  }
 ],
 "metadata": {
  "kernelspec": {
   "display_name": "Python 3",
   "language": "python",
   "name": "python3"
  },
  "language_info": {
   "codemirror_mode": {
    "name": "ipython",
    "version": 3
   },
   "file_extension": ".py",
   "mimetype": "text/x-python",
   "name": "python",
   "nbconvert_exporter": "python",
   "pygments_lexer": "ipython3",
   "version": "3.6.4"
  }
 },
 "nbformat": 4,
 "nbformat_minor": 2
}

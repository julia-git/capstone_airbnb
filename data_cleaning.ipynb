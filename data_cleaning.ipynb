{
 "cells": [
  {
   "cell_type": "code",
   "execution_count": 3,
   "metadata": {},
   "outputs": [],
   "source": [
    "import pandas as pd\n",
    "import numpy as np\n",
    "import pickle\n",
    "import os\n",
    "import glob\n",
    "from datetime import datetime as dt\n",
    "%matplotlib inline\n",
    "\n",
    "from sklearn.model_selection import train_test_split\n",
    "\n",
    "pd.set_option(\"display.max_colwidth\",999)\n",
    "pd.set_option(\"display.max_rows\",999)\n",
    "pd.set_option(\"display.max_columns\",999)"
   ]
  },
  {
   "cell_type": "markdown",
   "metadata": {},
   "source": [
    "## for all csv's in the SF folder, concatenate into one dataframe"
   ]
  },
  {
   "cell_type": "code",
   "execution_count": 53,
   "metadata": {},
   "outputs": [],
   "source": [
    "files = glob.glob('SF/*.gz')\n"
   ]
  },
  {
   "cell_type": "code",
   "execution_count": null,
   "metadata": {},
   "outputs": [],
   "source": []
  },
  {
   "cell_type": "code",
   "execution_count": 54,
   "metadata": {},
   "outputs": [
    {
     "name": "stderr",
     "output_type": "stream",
     "text": [
      "/home/ubuntu/anaconda3/lib/python3.6/site-packages/IPython/core/interactiveshell.py:2903: DtypeWarning: Columns (43) have mixed types. Specify dtype option on import or set low_memory=False.\n",
      "  if self.run_code(code, result):\n"
     ]
    },
    {
     "ename": "KeyboardInterrupt",
     "evalue": "",
     "output_type": "error",
     "traceback": [
      "\u001b[0;31m---------------------------------------------------------------------------\u001b[0m",
      "\u001b[0;31mKeyboardInterrupt\u001b[0m                         Traceback (most recent call last)",
      "\u001b[0;32m<ipython-input-54-d2a3bf3f4163>\u001b[0m in \u001b[0;36m<module>\u001b[0;34m()\u001b[0m\n\u001b[0;32m----> 1\u001b[0;31m \u001b[0mdf_sf\u001b[0m \u001b[0;34m=\u001b[0m \u001b[0mpd\u001b[0m\u001b[0;34m.\u001b[0m\u001b[0mconcat\u001b[0m\u001b[0;34m(\u001b[0m\u001b[0;34m[\u001b[0m\u001b[0mpd\u001b[0m\u001b[0;34m.\u001b[0m\u001b[0mread_csv\u001b[0m\u001b[0;34m(\u001b[0m\u001b[0mfp\u001b[0m\u001b[0;34m,\u001b[0m \u001b[0mparse_dates\u001b[0m \u001b[0;34m=\u001b[0m \u001b[0;34m[\u001b[0m\u001b[0;34m'calendar_last_scraped'\u001b[0m\u001b[0;34m,\u001b[0m\u001b[0;34m'last_scraped'\u001b[0m\u001b[0;34m,\u001b[0m \u001b[0;34m'first_review'\u001b[0m\u001b[0;34m,\u001b[0m \u001b[0;34m'last_review'\u001b[0m\u001b[0;34m,\u001b[0m \u001b[0;34m'host_since'\u001b[0m\u001b[0;34m]\u001b[0m\u001b[0;34m)\u001b[0m \u001b[0;32mfor\u001b[0m \u001b[0mfp\u001b[0m \u001b[0;32min\u001b[0m \u001b[0mfiles\u001b[0m\u001b[0;34m]\u001b[0m\u001b[0;34m,\u001b[0m \u001b[0mignore_index\u001b[0m\u001b[0;34m=\u001b[0m\u001b[0;32mTrue\u001b[0m\u001b[0;34m)\u001b[0m\u001b[0;34m\u001b[0m\u001b[0m\n\u001b[0m",
      "\u001b[0;32m<ipython-input-54-d2a3bf3f4163>\u001b[0m in \u001b[0;36m<listcomp>\u001b[0;34m(.0)\u001b[0m\n\u001b[0;32m----> 1\u001b[0;31m \u001b[0mdf_sf\u001b[0m \u001b[0;34m=\u001b[0m \u001b[0mpd\u001b[0m\u001b[0;34m.\u001b[0m\u001b[0mconcat\u001b[0m\u001b[0;34m(\u001b[0m\u001b[0;34m[\u001b[0m\u001b[0mpd\u001b[0m\u001b[0;34m.\u001b[0m\u001b[0mread_csv\u001b[0m\u001b[0;34m(\u001b[0m\u001b[0mfp\u001b[0m\u001b[0;34m,\u001b[0m \u001b[0mparse_dates\u001b[0m \u001b[0;34m=\u001b[0m \u001b[0;34m[\u001b[0m\u001b[0;34m'calendar_last_scraped'\u001b[0m\u001b[0;34m,\u001b[0m\u001b[0;34m'last_scraped'\u001b[0m\u001b[0;34m,\u001b[0m \u001b[0;34m'first_review'\u001b[0m\u001b[0;34m,\u001b[0m \u001b[0;34m'last_review'\u001b[0m\u001b[0;34m,\u001b[0m \u001b[0;34m'host_since'\u001b[0m\u001b[0;34m]\u001b[0m\u001b[0;34m)\u001b[0m \u001b[0;32mfor\u001b[0m \u001b[0mfp\u001b[0m \u001b[0;32min\u001b[0m \u001b[0mfiles\u001b[0m\u001b[0;34m]\u001b[0m\u001b[0;34m,\u001b[0m \u001b[0mignore_index\u001b[0m\u001b[0;34m=\u001b[0m\u001b[0;32mTrue\u001b[0m\u001b[0;34m)\u001b[0m\u001b[0;34m\u001b[0m\u001b[0m\n\u001b[0m",
      "\u001b[0;32m~/anaconda3/lib/python3.6/site-packages/pandas/io/parsers.py\u001b[0m in \u001b[0;36mparser_f\u001b[0;34m(filepath_or_buffer, sep, delimiter, header, names, index_col, usecols, squeeze, prefix, mangle_dupe_cols, dtype, engine, converters, true_values, false_values, skipinitialspace, skiprows, nrows, na_values, keep_default_na, na_filter, verbose, skip_blank_lines, parse_dates, infer_datetime_format, keep_date_col, date_parser, dayfirst, iterator, chunksize, compression, thousands, decimal, lineterminator, quotechar, quoting, escapechar, comment, encoding, dialect, tupleize_cols, error_bad_lines, warn_bad_lines, skipfooter, skip_footer, doublequote, delim_whitespace, as_recarray, compact_ints, use_unsigned, low_memory, buffer_lines, memory_map, float_precision)\u001b[0m\n\u001b[1;32m    707\u001b[0m                     skip_blank_lines=skip_blank_lines)\n\u001b[1;32m    708\u001b[0m \u001b[0;34m\u001b[0m\u001b[0m\n\u001b[0;32m--> 709\u001b[0;31m         \u001b[0;32mreturn\u001b[0m \u001b[0m_read\u001b[0m\u001b[0;34m(\u001b[0m\u001b[0mfilepath_or_buffer\u001b[0m\u001b[0;34m,\u001b[0m \u001b[0mkwds\u001b[0m\u001b[0;34m)\u001b[0m\u001b[0;34m\u001b[0m\u001b[0m\n\u001b[0m\u001b[1;32m    710\u001b[0m \u001b[0;34m\u001b[0m\u001b[0m\n\u001b[1;32m    711\u001b[0m     \u001b[0mparser_f\u001b[0m\u001b[0;34m.\u001b[0m\u001b[0m__name__\u001b[0m \u001b[0;34m=\u001b[0m \u001b[0mname\u001b[0m\u001b[0;34m\u001b[0m\u001b[0m\n",
      "\u001b[0;32m~/anaconda3/lib/python3.6/site-packages/pandas/io/parsers.py\u001b[0m in \u001b[0;36m_read\u001b[0;34m(filepath_or_buffer, kwds)\u001b[0m\n\u001b[1;32m    453\u001b[0m \u001b[0;34m\u001b[0m\u001b[0m\n\u001b[1;32m    454\u001b[0m     \u001b[0;32mtry\u001b[0m\u001b[0;34m:\u001b[0m\u001b[0;34m\u001b[0m\u001b[0m\n\u001b[0;32m--> 455\u001b[0;31m         \u001b[0mdata\u001b[0m \u001b[0;34m=\u001b[0m \u001b[0mparser\u001b[0m\u001b[0;34m.\u001b[0m\u001b[0mread\u001b[0m\u001b[0;34m(\u001b[0m\u001b[0mnrows\u001b[0m\u001b[0;34m)\u001b[0m\u001b[0;34m\u001b[0m\u001b[0m\n\u001b[0m\u001b[1;32m    456\u001b[0m     \u001b[0;32mfinally\u001b[0m\u001b[0;34m:\u001b[0m\u001b[0;34m\u001b[0m\u001b[0m\n\u001b[1;32m    457\u001b[0m         \u001b[0mparser\u001b[0m\u001b[0;34m.\u001b[0m\u001b[0mclose\u001b[0m\u001b[0;34m(\u001b[0m\u001b[0;34m)\u001b[0m\u001b[0;34m\u001b[0m\u001b[0m\n",
      "\u001b[0;32m~/anaconda3/lib/python3.6/site-packages/pandas/io/parsers.py\u001b[0m in \u001b[0;36mread\u001b[0;34m(self, nrows)\u001b[0m\n\u001b[1;32m   1067\u001b[0m                 \u001b[0;32mraise\u001b[0m \u001b[0mValueError\u001b[0m\u001b[0;34m(\u001b[0m\u001b[0;34m'skipfooter not supported for iteration'\u001b[0m\u001b[0;34m)\u001b[0m\u001b[0;34m\u001b[0m\u001b[0m\n\u001b[1;32m   1068\u001b[0m \u001b[0;34m\u001b[0m\u001b[0m\n\u001b[0;32m-> 1069\u001b[0;31m         \u001b[0mret\u001b[0m \u001b[0;34m=\u001b[0m \u001b[0mself\u001b[0m\u001b[0;34m.\u001b[0m\u001b[0m_engine\u001b[0m\u001b[0;34m.\u001b[0m\u001b[0mread\u001b[0m\u001b[0;34m(\u001b[0m\u001b[0mnrows\u001b[0m\u001b[0;34m)\u001b[0m\u001b[0;34m\u001b[0m\u001b[0m\n\u001b[0m\u001b[1;32m   1070\u001b[0m \u001b[0;34m\u001b[0m\u001b[0m\n\u001b[1;32m   1071\u001b[0m         \u001b[0;32mif\u001b[0m \u001b[0mself\u001b[0m\u001b[0;34m.\u001b[0m\u001b[0moptions\u001b[0m\u001b[0;34m.\u001b[0m\u001b[0mget\u001b[0m\u001b[0;34m(\u001b[0m\u001b[0;34m'as_recarray'\u001b[0m\u001b[0;34m)\u001b[0m\u001b[0;34m:\u001b[0m\u001b[0;34m\u001b[0m\u001b[0m\n",
      "\u001b[0;32m~/anaconda3/lib/python3.6/site-packages/pandas/io/parsers.py\u001b[0m in \u001b[0;36mread\u001b[0;34m(self, nrows)\u001b[0m\n\u001b[1;32m   1837\u001b[0m     \u001b[0;32mdef\u001b[0m \u001b[0mread\u001b[0m\u001b[0;34m(\u001b[0m\u001b[0mself\u001b[0m\u001b[0;34m,\u001b[0m \u001b[0mnrows\u001b[0m\u001b[0;34m=\u001b[0m\u001b[0;32mNone\u001b[0m\u001b[0;34m)\u001b[0m\u001b[0;34m:\u001b[0m\u001b[0;34m\u001b[0m\u001b[0m\n\u001b[1;32m   1838\u001b[0m         \u001b[0;32mtry\u001b[0m\u001b[0;34m:\u001b[0m\u001b[0;34m\u001b[0m\u001b[0m\n\u001b[0;32m-> 1839\u001b[0;31m             \u001b[0mdata\u001b[0m \u001b[0;34m=\u001b[0m \u001b[0mself\u001b[0m\u001b[0;34m.\u001b[0m\u001b[0m_reader\u001b[0m\u001b[0;34m.\u001b[0m\u001b[0mread\u001b[0m\u001b[0;34m(\u001b[0m\u001b[0mnrows\u001b[0m\u001b[0;34m)\u001b[0m\u001b[0;34m\u001b[0m\u001b[0m\n\u001b[0m\u001b[1;32m   1840\u001b[0m         \u001b[0;32mexcept\u001b[0m \u001b[0mStopIteration\u001b[0m\u001b[0;34m:\u001b[0m\u001b[0;34m\u001b[0m\u001b[0m\n\u001b[1;32m   1841\u001b[0m             \u001b[0;32mif\u001b[0m \u001b[0mself\u001b[0m\u001b[0;34m.\u001b[0m\u001b[0m_first_chunk\u001b[0m\u001b[0;34m:\u001b[0m\u001b[0;34m\u001b[0m\u001b[0m\n",
      "\u001b[0;32mpandas/_libs/parsers.pyx\u001b[0m in \u001b[0;36mpandas._libs.parsers.TextReader.read\u001b[0;34m()\u001b[0m\n",
      "\u001b[0;32mpandas/_libs/parsers.pyx\u001b[0m in \u001b[0;36mpandas._libs.parsers.TextReader._read_low_memory\u001b[0;34m()\u001b[0m\n",
      "\u001b[0;32mpandas/_libs/parsers.pyx\u001b[0m in \u001b[0;36mpandas._libs.parsers.TextReader._read_rows\u001b[0;34m()\u001b[0m\n",
      "\u001b[0;32mpandas/_libs/parsers.pyx\u001b[0m in \u001b[0;36mpandas._libs.parsers.TextReader._convert_column_data\u001b[0;34m()\u001b[0m\n",
      "\u001b[0;32mpandas/_libs/parsers.pyx\u001b[0m in \u001b[0;36mpandas._libs.parsers.TextReader._convert_tokens\u001b[0;34m()\u001b[0m\n",
      "\u001b[0;32mpandas/_libs/parsers.pyx\u001b[0m in \u001b[0;36mpandas._libs.parsers.TextReader._convert_with_dtype\u001b[0;34m()\u001b[0m\n",
      "\u001b[0;32m~/anaconda3/lib/python3.6/site-packages/pandas/core/dtypes/common.py\u001b[0m in \u001b[0;36mis_integer_dtype\u001b[0;34m(arr_or_dtype)\u001b[0m\n\u001b[1;32m    775\u001b[0m \u001b[0;34m\u001b[0m\u001b[0m\n\u001b[1;32m    776\u001b[0m \u001b[0;34m\u001b[0m\u001b[0m\n\u001b[0;32m--> 777\u001b[0;31m \u001b[0;32mdef\u001b[0m \u001b[0mis_integer_dtype\u001b[0m\u001b[0;34m(\u001b[0m\u001b[0marr_or_dtype\u001b[0m\u001b[0;34m)\u001b[0m\u001b[0;34m:\u001b[0m\u001b[0;34m\u001b[0m\u001b[0m\n\u001b[0m\u001b[1;32m    778\u001b[0m     \"\"\"\n\u001b[1;32m    779\u001b[0m     \u001b[0mCheck\u001b[0m \u001b[0mwhether\u001b[0m \u001b[0mthe\u001b[0m \u001b[0mprovided\u001b[0m \u001b[0marray\u001b[0m \u001b[0;32mor\u001b[0m \u001b[0mdtype\u001b[0m \u001b[0;32mis\u001b[0m \u001b[0mof\u001b[0m \u001b[0man\u001b[0m \u001b[0minteger\u001b[0m \u001b[0mdtype\u001b[0m\u001b[0;34m.\u001b[0m\u001b[0;34m\u001b[0m\u001b[0m\n",
      "\u001b[0;31mKeyboardInterrupt\u001b[0m: "
     ]
    }
   ],
   "source": [
    "df_sf = pd.concat([pd.read_csv(fp, parse_dates = ['calendar_last_scraped','last_scraped', 'first_review', 'last_review', 'host_since']) for fp in files], ignore_index=True)"
   ]
  },
  {
   "cell_type": "code",
   "execution_count": 9,
   "metadata": {},
   "outputs": [
    {
     "data": {
      "text/plain": [
       "204559"
      ]
     },
     "execution_count": 9,
     "metadata": {},
     "output_type": "execute_result"
    }
   ],
   "source": [
    "len(df_sf)"
   ]
  },
  {
   "cell_type": "code",
   "execution_count": null,
   "metadata": {},
   "outputs": [],
   "source": []
  },
  {
   "cell_type": "markdown",
   "metadata": {},
   "source": [
    "## Drop the rows where the number of reviews is greater than 0 and the reviews per month is zero"
   ]
  },
  {
   "cell_type": "code",
   "execution_count": 40,
   "metadata": {},
   "outputs": [],
   "source": [
    "df_sf = df_sf[(df_sf['reviews_per_month'].notnull()) | ((df_sf['number_of_reviews']== 0) & (df_sf['reviews_per_month'].isnull()))]"
   ]
  },
  {
   "cell_type": "markdown",
   "metadata": {},
   "source": [
    "## fill 0 in the reviews per month where total reviews = 0"
   ]
  },
  {
   "cell_type": "code",
   "execution_count": 41,
   "metadata": {},
   "outputs": [],
   "source": [
    "df_sf.reviews_per_month.fillna(value=0, inplace=True)"
   ]
  },
  {
   "cell_type": "markdown",
   "metadata": {},
   "source": [
    "## drop listings where price is 0"
   ]
  },
  {
   "cell_type": "code",
   "execution_count": 42,
   "metadata": {},
   "outputs": [],
   "source": [
    "df_sf['price'].replace('[\\$,]', '', regex=True, inplace=True)\n",
    "df_sf['price'] = df_sf.price.astype(float) ##\n",
    "df_sf.drop(df_sf[df_sf.price == 0].index, inplace=True)\n",
    "df_sf.drop(df_sf[df_sf.price > 20000].index, inplace=True)"
   ]
  },
  {
   "cell_type": "code",
   "execution_count": 13,
   "metadata": {},
   "outputs": [
    {
     "data": {
      "text/plain": [
       "204233"
      ]
     },
     "execution_count": 13,
     "metadata": {},
     "output_type": "execute_result"
    }
   ],
   "source": [
    "len(df_sf)"
   ]
  },
  {
   "cell_type": "code",
   "execution_count": 43,
   "metadata": {},
   "outputs": [],
   "source": [
    "df_sf.cleaning_fee.fillna(value='$0.00', inplace=True)\n",
    "df_sf['cleaning_fee'].replace('[\\$,]', '', regex=True, inplace=True)\n",
    "df_sf['cleaning_fee'] = df_sf.cleaning_fee.astype(float) ##"
   ]
  },
  {
   "cell_type": "code",
   "execution_count": 44,
   "metadata": {},
   "outputs": [],
   "source": [
    "df_sf['price_actual'] = df_sf['price'].add(df_sf['cleaning_fee'], fill_value=0)"
   ]
  },
  {
   "cell_type": "code",
   "execution_count": 16,
   "metadata": {},
   "outputs": [],
   "source": [
    "# df_sf[df_sf['cleaning_fee'].notnull()][['price_new', 'price', 'cleaning_fee']].head(20)"
   ]
  },
  {
   "cell_type": "markdown",
   "metadata": {},
   "source": [
    "## create year and month columns"
   ]
  },
  {
   "cell_type": "code",
   "execution_count": 56,
   "metadata": {},
   "outputs": [],
   "source": [
    "df_sf['year'] = df_sf.calendar_last_scraped.apply(lambda x: x.year)\n",
    "df_sf['month'] = df_sf.calendar_last_scraped.apply(lambda x: x.month)"
   ]
  },
  {
   "cell_type": "code",
   "execution_count": 18,
   "metadata": {},
   "outputs": [
    {
     "data": {
      "text/plain": [
       "204233"
      ]
     },
     "execution_count": 18,
     "metadata": {},
     "output_type": "execute_result"
    }
   ],
   "source": [
    "len(df_sf)"
   ]
  },
  {
   "cell_type": "code",
   "execution_count": 78,
   "metadata": {},
   "outputs": [],
   "source": [
    "# df_sf_2017[df_sf_2017['review_scores_rating'].notnull()]['review_scores_rating'].mean() MEAN IS 94.76"
   ]
  },
  {
   "cell_type": "markdown",
   "metadata": {},
   "source": [
    "## Asking for at least 3 months minimum is not a realistic listing"
   ]
  },
  {
   "cell_type": "code",
   "execution_count": 46,
   "metadata": {},
   "outputs": [],
   "source": [
    "df_sf.drop(df_sf[df_sf.minimum_nights>90].index, inplace=True)"
   ]
  },
  {
   "cell_type": "markdown",
   "metadata": {},
   "source": [
    "## Fill nulls"
   ]
  },
  {
   "cell_type": "code",
   "execution_count": 47,
   "metadata": {},
   "outputs": [],
   "source": [
    "df_sf.cancellation_policy.fillna(value='none', inplace=True)\n",
    "\n",
    "#those who aren't rated are grouped together\n",
    "df_sf.review_scores_rating.fillna(value=0, inplace=True)\n",
    "\n",
    "#do host fill out information or not\n",
    "df_sf.loc[df_sf.host_about.notnull(), 'host_about_filled'] = True\n",
    "df_sf.loc[df_sf.host_about.isnull(), 'host_about_filled'] = False\n",
    "df_sf.loc[df_sf.host_picture_url.notnull(), 'host_picture_url_filled'] = True\n",
    "df_sf.loc[df_sf.host_picture_url.isnull(), 'host_picture_url_filled'] = False\n",
    "df_sf.loc[df_sf.access.notnull(), 'access_filled'] = True\n",
    "df_sf.loc[df_sf.access.isnull(), 'access_filled'] = False\n",
    "df_sf.loc[df_sf.house_rules.notnull(), 'house_rules_filled'] = True\n",
    "df_sf.loc[df_sf.house_rules.isnull(), 'house_rules_filled'] = False\n",
    "df_sf.loc[df_sf.space.notnull(), 'space_filled'] = True\n",
    "df_sf.loc[df_sf.space.isnull(), 'space_filled'] = False\n",
    "\n",
    "df_sf['extra_people'].replace('[\\$,]', '', regex=True, inplace=True)\n",
    "\n",
    "df_sf.property_type.fillna(value = 'Other', inplace=True) ##\n",
    "\n",
    "#bedroom average is 1. 83 nulls. \n",
    "df_sf.bedrooms.fillna(value = 1, inplace=True) ##\n",
    "df_sf.bedrooms.replace(0, 1, inplace=True) ##\n",
    "\n",
    "df_sf.beds.fillna(value = 1, inplace=True) ##\n",
    "\n",
    "df_sf['log_price'] = df_sf['price_actual'].apply(np.log)\n",
    "\n",
    "#value of the place you are booking. take log to get \n",
    "df_sf['price_per_bedroom'] = df_sf['log_price']/df_sf['bedrooms'] ##\n",
    "\n",
    "#how much each person pays\n",
    "df_sf['price_per_guest'] = df_sf['log_price']/(df_sf['guests_included']+1) ##adding one to included booker\n",
    "\n",
    "#do you get your own bed?\n",
    "df_sf['guest_per_bed'] = df_sf['guests_included']/df_sf['beds'] ##\n",
    "\n",
    "#do you get your own bedroom?\n",
    "df_sf['guest_per_bedroom'] = df_sf['guests_included']/df_sf['bedrooms'] ##"
   ]
  },
  {
   "cell_type": "code",
   "execution_count": null,
   "metadata": {},
   "outputs": [],
   "source": []
  },
  {
   "cell_type": "code",
   "execution_count": 81,
   "metadata": {},
   "outputs": [
    {
     "data": {
      "text/plain": [
       "<bound method Series.sort_index of $3,000.00     1659\n",
       "$4,000.00     1647\n",
       "$2,500.00     1601\n",
       "$3,500.00     1554\n",
       "$5,000.00     1448\n",
       "$4,500.00     1371\n",
       "$6,000.00      951\n",
       "$2,000.00      863\n",
       "$1,800.00      760\n",
       "$1,500.00      725\n",
       "$3,200.00      725\n",
       "$2,800.00      671\n",
       "$5,500.00      657\n",
       "$3,600.00      641\n",
       "$3,800.00      567\n",
       "$8,000.00      507\n",
       "$2,400.00      489\n",
       "$2,200.00      479\n",
       "$6,500.00      459\n",
       "$7,000.00      435\n",
       "$4,200.00      433\n",
       "$10,000.00     405\n",
       "$2,600.00      392\n",
       "$3,300.00      382\n",
       "$1,300.00      366\n",
       "$1,700.00      361\n",
       "$1,400.00      360\n",
       "$4,800.00      332\n",
       "$1,900.00      332\n",
       "$1,600.00      331\n",
       "$1,650.00      329\n",
       "$2,100.00      314\n",
       "$7,500.00      297\n",
       "$2,300.00      294\n",
       "$2,900.00      284\n",
       "$3,900.00      279\n",
       "$3,400.00      268\n",
       "$3,700.00      266\n",
       "$4,250.00      259\n",
       "$1,100.00      248\n",
       "$5,400.00      248\n",
       "$4,300.00      241\n",
       "$2,750.00      239\n",
       "$8,500.00      239\n",
       "$5,600.00      231\n",
       "$4,900.00      221\n",
       "$2,700.00      220\n",
       "$2,350.00      218\n",
       "$1,450.00      211\n",
       "$2,250.00      204\n",
       "$9,000.00      201\n",
       "$1,200.00      198\n",
       "$1,950.00      196\n",
       "$1,350.00      194\n",
       "$2,950.00      189\n",
       "$2,850.00      187\n",
       "$5,200.00      180\n",
       "$4,100.00      177\n",
       "$4,950.00      176\n",
       "$3,750.00      168\n",
       "$3,100.00      157\n",
       "$2,499.00      157\n",
       "$1,750.00      157\n",
       "$4,600.00      156\n",
       "$1,850.00      154\n",
       "$880.00        148\n",
       "$4,400.00      137\n",
       "$15,000.00     136\n",
       "$6,200.00      136\n",
       "$1,000.00      134\n",
       "$4,700.00      133\n",
       "$3,950.00      131\n",
       "$7,200.00      131\n",
       "$6,900.00      130\n",
       "$6,300.00      128\n",
       "$1,250.00      124\n",
       "$2,150.00      121\n",
       "$12,000.00     119\n",
       "$2,650.00      118\n",
       "$5,900.00      116\n",
       "$2,999.00      114\n",
       "$6,800.00      113\n",
       "$1,550.00      113\n",
       "$7,800.00      112\n",
       "$1,685.00      111\n",
       "$13,000.00     103\n",
       "$3,650.00      102\n",
       "$3,250.00      102\n",
       "$9,500.00      101\n",
       "$5,999.00      101\n",
       "$5,040.00       98\n",
       "$900.00         97\n",
       "$1,470.00       95\n",
       "$5,700.00       90\n",
       "$1,995.00       88\n",
       "$8,900.00       88\n",
       "$999.00         87\n",
       "$25,000.00      83\n",
       "$1,299.00       82\n",
       "$4,750.00       81\n",
       "$3,995.00       80\n",
       "$10,500.00      80\n",
       "$3,990.00       77\n",
       "$4,650.00       75\n",
       "$2,520.00       75\n",
       "$4,350.00       74\n",
       "$3,350.00       74\n",
       "$3,024.00       72\n",
       "$5,100.00       70\n",
       "$2,980.00       70\n",
       "$3,895.00       68\n",
       "$1,770.00       68\n",
       "$2,875.00       67\n",
       "$6,950.00       66\n",
       "$3,150.00       66\n",
       "$11,000.00      66\n",
       "$1,533.00       65\n",
       "$5,250.00       64\n",
       "$3,550.00       63\n",
       "$8,800.00       62\n",
       "$4,050.00       60\n",
       "$2,450.00       60\n",
       "$3,192.00       60\n",
       "$1,890.00       58\n",
       "$60,000.00      57\n",
       "$2,199.00       56\n",
       "$9,999.00       54\n",
       "$2,699.00       53\n",
       "$4,850.00       51\n",
       "$3,999.00       51\n",
       "$1,125.00       50\n",
       "$7,999.00       50\n",
       "$2,016.00       50\n",
       "$5,800.00       50\n",
       "$2,670.00       50\n",
       "$15,500.00      50\n",
       "$4,999.00       50\n",
       "$3,780.00       50\n",
       "$5,950.00       49\n",
       "$1,175.00       48\n",
       "$1,848.00       47\n",
       "$3,336.00       47\n",
       "$2,247.00       46\n",
       "$2,478.00       46\n",
       "$6,450.00       46\n",
       "$1,932.00       45\n",
       "$20,000.00      44\n",
       "$4,450.00       44\n",
       "$12,500.00      44\n",
       "$898.00         44\n",
       "$3,499.00       44\n",
       "$1,785.00       44\n",
       "$17,500.00      43\n",
       "$4,995.00       43\n",
       "$11,500.00      43\n",
       "$1,764.00       42\n",
       "$3,787.00       42\n",
       "$14,500.00      42\n",
       "$2,969.00       42\n",
       "$1,999.00       41\n",
       "$3,169.00       41\n",
       "$5,523.00       41\n",
       "$800.00         40\n",
       "$1,150.00       39\n",
       "$3,360.00       39\n",
       "$3,850.00       39\n",
       "$6,250.00       38\n",
       "$5,750.00       37\n",
       "$2,142.00       36\n",
       "$1,596.00       36\n",
       "$10,999.00      35\n",
       "$5,300.00       35\n",
       "$2,990.00       34\n",
       "$2,940.00       34\n",
       "$6,600.00       33\n",
       "$1,180.00       33\n",
       "$4,890.00       32\n",
       "$3,450.00       31\n",
       "$2,226.00       31\n",
       "$1,775.00       31\n",
       "$6,750.00       31\n",
       "$3,080.00       31\n",
       "$2,425.00       30\n",
       "$850.00         30\n",
       "$1,980.00       30\n",
       "$3,108.00       30\n",
       "$3,265.00       30\n",
       "$1,385.00       30\n",
       "$8,200.00       30\n",
       "$4,456.00       30\n",
       "$3,495.00       30\n",
       "$2,985.00       29\n",
       "$3,905.00       29\n",
       "$8,995.00       29\n",
       "$1,749.00       29\n",
       "$4,499.00       29\n",
       "$1,475.00       28\n",
       "$3,320.00       28\n",
       "$14,000.00      28\n",
       "$3,799.00       27\n",
       "$1,344.00       27\n",
       "$1,425.00       27\n",
       "$4,411.00       26\n",
       "$7,850.00       26\n",
       "$3,194.00       26\n",
       "$958.00         26\n",
       "$7,995.00       26\n",
       "$7,300.00       26\n",
       "$9,300.00       26\n",
       "$7,600.00       26\n",
       "$1,575.00       26\n",
       "$18,500.00      25\n",
       "$1,325.00       25\n",
       "$6,650.00       25\n",
       "$7,267.00       25\n",
       "$2,580.00       25\n",
       "$5,825.00       25\n",
       "$2,998.00       25\n",
       "$1,375.00       25\n",
       "$4,245.00       25\n",
       "$3,675.00       25\n",
       "$1,050.00       25\n",
       "$1,395.00       25\n",
       "$8,100.00       25\n",
       "$899.00         25\n",
       "$2,574.00       25\n",
       "$2,751.00       25\n",
       "$6,495.00       25\n",
       "$1,795.00       25\n",
       "$4,620.00       25\n",
       "$3,339.00       25\n",
       "$8,375.00       25\n",
       "$2,205.00       25\n",
       "$8,999.00       25\n",
       "$4,252.00       25\n",
       "$2,949.00       25\n",
       "$6,182.00       25\n",
       "$9,800.00       25\n",
       "$2,890.00       25\n",
       "$2,995.00       25\n",
       "$3,276.00       25\n",
       "$4,406.00       25\n",
       "$3,584.00       25\n",
       "$1,560.00       25\n",
       "$5,145.00       24\n",
       "$3,580.00       24\n",
       "$4,875.00       24\n",
       "$5,061.00       24\n",
       "$6,850.00       24\n",
       "$3,640.00       24\n",
       "$7,140.00       24\n",
       "$2,439.00       24\n",
       "$6,995.00       24\n",
       "$6,325.00       24\n",
       "$5,850.00       24\n",
       "$2,158.00       24\n",
       "$4,075.00       24\n",
       "$17,550.00      24\n",
       "$3,875.00       24\n",
       "$4,704.00       24\n",
       "$1,670.00       24\n",
       "$4,305.00       24\n",
       "$2,394.00       24\n",
       "$18,900.00      24\n",
       "$10,080.00      24\n",
       "$2,075.00       24\n",
       "$4,830.00       24\n",
       "$2,961.00       24\n",
       "$2,570.00       24\n",
       "$4,431.00       24\n",
       "$14,995.00      24\n",
       "$4,323.00       24\n",
       "$13,734.00      24\n",
       "$8,820.00       24\n",
       "$3,180.00       24\n",
       "$6,253.00       24\n",
       "$3,975.00       24\n",
       "$3,480.00       24\n",
       "$5,855.00       24\n",
       "$3,120.00       24\n",
       "$3,528.00       24\n",
       "$1,745.00       24\n",
       "$2,290.00       24\n",
       "$4,110.00       24\n",
       "$3,899.00       23\n",
       "$3,486.00       23\n",
       "$5,350.00       23\n",
       "$11,067.00      23\n",
       "$3,927.00       23\n",
       "$4,321.00       23\n",
       "$4,567.00       23\n",
       "$3,984.00       23\n",
       "$3,220.00       23\n",
       "$9,900.00       23\n",
       "$2,262.00       23\n",
       "$3,402.00       23\n",
       "$3,625.00       23\n",
       "$4,280.00       23\n",
       "$8,295.00       23\n",
       "$2,779.00       23\n",
       "$3,751.00       23\n",
       "$4,419.00       23\n",
       "$1,599.00       23\n",
       "$2,588.00       23\n",
       "$13,500.00      23\n",
       "$2,468.00       23\n",
       "$3,885.00       23\n",
       "$2,895.00       23\n",
       "$9,995.00       22\n",
       "$4,725.00       22\n",
       "$2,929.00       22\n",
       "$9,282.00       22\n",
       "$2,820.00       22\n",
       "$950.00         22\n",
       "$7,560.00       22\n",
       "$2,245.00       22\n",
       "$6,550.00       22\n",
       "$9,250.00       22\n",
       "$3,922.00       22\n",
       "$2,606.00       22\n",
       "$4,080.00       22\n",
       "$4,440.00       22\n",
       "$3,570.00       22\n",
       "$4,944.00       22\n",
       "$13,100.00      22\n",
       "$6,510.00       22\n",
       "$10,250.00      22\n",
       "$4,025.00       21\n",
       "$6,912.00       21\n",
       "$987.00         21\n",
       "$3,959.00       21\n",
       "$1,990.00       21\n",
       "$4,683.00       21\n",
       "$3,906.00       21\n",
       "$1,722.00       21\n",
       "$40,000.00      21\n",
       "$19,500.00      21\n",
       "$4,299.00       21\n",
       "$4,469.00       21\n",
       "$1,390.00       21\n",
       "$2,489.00       21\n",
       "$4,770.00       21\n",
       "$3,319.00       21\n",
       "$5,775.00       21\n",
       "$2,240.00       21\n",
       "$1,440.00       21\n",
       "$4,880.00       21\n",
       "$8,400.00       21\n",
       "$1,698.00       21\n",
       "$12,970.00      21\n",
       "$15,200.00      21\n",
       "$4,515.00       20\n",
       "$2,562.00       20\n",
       "$1,997.00       20\n",
       "$3,968.00       20\n",
       "$350.00         20\n",
       "$2,050.00       20\n",
       "$3,449.00       20\n",
       "$5,859.00       20\n",
       "$7,539.00       20\n",
       "$2,583.00       20\n",
       "$3,960.00       19\n",
       "$8,274.00       19\n",
       "$1,675.00       19\n",
       "$7,750.00       19\n",
       "$1,630.00       19\n",
       "$2,925.00       19\n",
       "$1,554.00       19\n",
       "$2,036.00       19\n",
       "$3,760.00       19\n",
       "$1,975.00       19\n",
       "$4,730.00       19\n",
       "$8,824.00       19\n",
       "$1,729.00       18\n",
       "$3,125.00       18\n",
       "$3,864.00       18\n",
       "$2,550.00       18\n",
       "$1,949.00       18\n",
       "$9,750.00       18\n",
       "$9,450.00       18\n",
       "$1,260.00       18\n",
       "$6,820.00       18\n",
       "$670.00         17\n",
       "$3,562.00       17\n",
       "$1,290.00       17\n",
       "$960.00         17\n",
       "$2,688.00       17\n",
       "$4,137.00       17\n",
       "$3,490.00       17\n",
       "$1,415.00       17\n",
       "$8,750.00       17\n",
       "$4,195.00       17\n",
       "$1,295.00       17\n",
       "$1,788.00       16\n",
       "$5,050.00       16\n",
       "$2,299.00       16\n",
       "$7,900.00       16\n",
       "$4,111.00       16\n",
       "$8,220.00       16\n",
       "$3,792.00       16\n",
       "$2,015.00       15\n",
       "$3,654.00       15\n",
       "$5,376.00       15\n",
       "$16,860.00      14\n",
       "$2,495.00       14\n",
       "$895.00         14\n",
       "$2,970.00       14\n",
       "$4,662.00       14\n",
       "$4,851.00       14\n",
       "$1,965.00       14\n",
       "$1,092.00       14\n",
       "$2,872.00       13\n",
       "$2,689.00       13\n",
       "$10,850.00      13\n",
       "$2,037.00       13\n",
       "$11,830.00      13\n",
       "$3,537.00       13\n",
       "$4,550.00       13\n",
       "$3,888.00       13\n",
       "$5,995.00       13\n",
       "$7,770.00       13\n",
       "$3,444.00       12\n",
       "$9,599.00       12\n",
       "$10,900.00      12\n",
       "$6,590.00       12\n",
       "$2,919.00       12\n",
       "$7,700.00       12\n",
       "$6,292.00       12\n",
       "$8,724.00       12\n",
       "$5,481.00       12\n",
       "$8,700.00       12\n",
       "$22,000.00      12\n",
       "$3,170.00       12\n",
       "$5,960.00       11\n",
       "$4,495.00       11\n",
       "$4,990.00       11\n",
       "$3,778.00       11\n",
       "$5,439.00       11\n",
       "$3,375.00       11\n",
       "$2,572.00       11\n",
       "$990.00         11\n",
       "$3,801.00       11\n",
       "$2,898.00       11\n",
       "$1,725.00       11\n",
       "$21,000.00      10\n",
       "$2,399.00       10\n",
       "$1,025.00       10\n",
       "$16,500.00      10\n",
       "$1,190.00        9\n",
       "$3,183.00        9\n",
       "$4,150.00        9\n",
       "$3,399.00        9\n",
       "$998.00          9\n",
       "$2,058.00        9\n",
       "$17,000.00       9\n",
       "$3,333.00        9\n",
       "$3,147.00        9\n",
       "$7,450.00        9\n",
       "$18,000.00       9\n",
       "$1,479.00        9\n",
       "$5,397.00        9\n",
       "$5,355.00        8\n",
       "$1,953.00        8\n",
       "$10,700.00       8\n",
       "$3,825.00        8\n",
       "$7,950.00        8\n",
       "$3,475.00        8\n",
       "$1,490.00        8\n",
       "$1,699.00        8\n",
       "$6,150.00        8\n",
       "$5,555.00        8\n",
       "$4,716.00        8\n",
       "$2,422.00        8\n",
       "$2,880.00        8\n",
       "$5,599.00        8\n",
       "$625.00          8\n",
       "$1,920.00        8\n",
       "$1,875.00        7\n",
       "$2,695.00        7\n",
       "$1,071.00        7\n",
       "$924.00          7\n",
       "$3,087.00        7\n",
       "$6,999.00        7\n",
       "$640.00          7\n",
       "$8,690.00        7\n",
       "$5,550.00        7\n",
       "$1,197.00        7\n",
       "$945.00          7\n",
       "$3,188.00        7\n",
       "$8,203.00        7\n",
       "$3,381.00        7\n",
       "$4,399.00        7\n",
       "$4,410.00        7\n",
       "$23,009.00       7\n",
       "$775.00          6\n",
       "$7,250.00        6\n",
       "$9,990.00        6\n",
       "$2,790.00        6\n",
       "$3,295.00        6\n",
       "$840.00          6\n",
       "$2,360.00        6\n",
       "$16,000.00       6\n",
       "$2,652.00        6\n",
       "$3,612.00        6\n",
       "$1,439.00        6\n",
       "$1,297.00        6\n",
       "$9,145.00        6\n",
       "$2,099.00        6\n",
       "$8,250.00        6\n",
       "$6,375.00        6\n",
       "$3,195.00        5\n",
       "$1,899.00        5\n",
       "$3,648.00        5\n",
       "$1,799.00        5\n",
       "$8,190.00        5\n",
       "$17,995.00       5\n",
       "$3,130.00        5\n",
       "$1,590.00        5\n",
       "$1,985.00        5\n",
       "$3,376.00        5\n",
       "$7,499.00        5\n",
       "$1,939.00        5\n",
       "$4,975.00        5\n",
       "$1,407.00        5\n",
       "$2,856.00        5\n",
       "$4,684.00        5\n",
       "$2,599.00        5\n",
       "$4,081.00        5\n",
       "$6,100.00        5\n",
       "$2,195.00        5\n",
       "$2,184.00        5\n",
       "$3,349.00        5\n",
       "$4,538.00        5\n",
       "$5,499.00        4\n",
       "$3,988.00        4\n",
       "$3,699.00        4\n",
       "$9,954.00        4\n",
       "$35,000.00       4\n",
       "$2,772.00        4\n",
       "$2,490.00        4\n",
       "$4,578.00        4\n",
       "$5,733.00        4\n",
       "$2,488.00        4\n",
       "$3,420.00        4\n",
       "$5,724.00        4\n",
       "$7,990.00        4\n",
       "$3,613.00        4\n",
       "$1,765.00        4\n",
       "$11,250.00       4\n",
       "$4,783.00        4\n",
       "$4,220.00        4\n",
       "$3,199.00        4\n",
       "$34,000.00       4\n",
       "$3,585.00        4\n",
       "$3,228.00        4\n",
       "$3,091.00        4\n",
       "$6,925.00        4\n",
       "$2,988.00        4\n",
       "$10,995.00       4\n",
       "$4,190.00        4\n",
       "$4,893.00        3\n",
       "$1,895.00        3\n",
       "$3,563.00        3\n",
       "$1,549.00        3\n",
       "$9,200.00        3\n",
       "$6,575.00        3\n",
       "$4,275.00        3\n",
       "$10,750.00       3\n",
       "$8,300.00        3\n",
       "$1,517.00        3\n",
       "$7,888.00        3\n",
       "$3,552.00        3\n",
       "$1,585.00        3\n",
       "$5,895.00        3\n",
       "$7,650.00        3\n",
       "$1,680.00        3\n",
       "$2,640.00        3\n",
       "$3,540.00        3\n",
       "$3,795.00        3\n",
       "$4,199.00        3\n",
       "$7,890.00        3\n",
       "$1,998.00        3\n",
       "$10,895.00       3\n",
       "$1,832.00        3\n",
       "$3,555.00        3\n",
       "$3,099.00        3\n",
       "$11,995.00       3\n",
       "$2,675.00        3\n",
       "$5,417.00        3\n",
       "$7,550.00        3\n",
       "$2,849.00        2\n",
       "$9,400.00        2\n",
       "$30,000.00       2\n",
       "$19,000.00       2\n",
       "$2,795.00        2\n",
       "$1,970.00        2\n",
       "$50,000.00       2\n",
       "$995.00          2\n",
       "$3,109.00        2\n",
       "$858.00          2\n",
       "$5,650.00        2\n",
       "$7,400.00        2\n",
       "$3,352.00        2\n",
       "$6,990.00        2\n",
       "$13,800.00       2\n",
       "$8,799.00        2\n",
       "$580.00          2\n",
       "$5,399.00        2\n",
       "$2,865.00        2\n",
       "$1,829.00        2\n",
       "$11,795.00       2\n",
       "$7,350.00        2\n",
       "$7,100.00        2\n",
       "$11,200.00       2\n",
       "$4,290.00        2\n",
       "$5,899.00        2\n",
       "$2,981.00        2\n",
       "$3,638.00        2\n",
       "$2,799.00        2\n",
       "$1,085.00        2\n",
       "$2,935.00        2\n",
       "$5,280.00        2\n",
       "$36,000.00       2\n",
       "$5,165.00        2\n",
       "$3,003.00        2\n",
       "$8,950.00        2\n",
       "$4,053.00        2\n",
       "$2,655.00        2\n",
       "$3,299.00        2\n",
       "$5,495.00        2\n",
       "$1,610.00        2\n",
       "$1,281.00        2\n",
       "$5,320.00        2\n",
       "$3,454.00        2\n",
       "$5,095.00        2\n",
       "$3,949.00        2\n",
       "$1,595.00        2\n",
       "$17,999.00       2\n",
       "$7,495.00        2\n",
       "$1,860.00        2\n",
       "$6,499.00        2\n",
       "$2,625.00        2\n",
       "$861.00          2\n",
       "$2,268.00        2\n",
       "$2,545.00        2\n",
       "$13,300.00       2\n",
       "$4,032.00        2\n",
       "$798.00          2\n",
       "$23,000.00       2\n",
       "$4,340.00        2\n",
       "$5,390.00        2\n",
       "$3,820.00        2\n",
       "$2,295.00        2\n",
       "$12,950.00       2\n",
       "$4,001.00        2\n",
       "$4,980.00        2\n",
       "$2,380.00        2\n",
       "$2,798.00        2\n",
       "$2,766.00        2\n",
       "$2,676.00        2\n",
       "$4,130.00        2\n",
       "$2,225.00        2\n",
       "$3,090.00        2\n",
       "$1,885.00        2\n",
       "$3,488.00        2\n",
       "$2,121.00        2\n",
       "$6,675.00        2\n",
       "$1,701.00        1\n",
       "$2,685.00        1\n",
       "$9,100.00        1\n",
       "$3,530.00        1\n",
       "$5,490.00        1\n",
       "$1,830.00        1\n",
       "$2,590.00        1\n",
       "$6,760.00        1\n",
       "$26,758.00       1\n",
       "$500.00          1\n",
       "$845.00          1\n",
       "$5,092.00        1\n",
       "$2,479.00        1\n",
       "$3,389.00        1\n",
       "$2,385.00        1\n",
       "$2,025.00        1\n",
       "$3,040.00        1\n",
       "$3,487.00        1\n",
       "$4,149.00        1\n",
       "$7,287.00        1\n",
       "$3,439.00        1\n",
       "$3,782.00        1\n",
       "$3,598.00        1\n",
       "$2,275.00        1\n",
       "$10,650.00       1\n",
       "$6,280.00        1\n",
       "$5,998.00        1\n",
       "$8,380.00        1\n",
       "$5,695.00        1\n",
       "$3,438.00        1\n",
       "$1,495.00        1\n",
       "$2,190.00        1\n",
       "$2,749.00        1\n",
       "$2,680.00        1\n",
       "$1,302.00        1\n",
       "$4,809.00        1\n",
       "$6,531.00        1\n",
       "$1,239.00        1\n",
       "$9,319.00        1\n",
       "$2,175.00        1\n",
       "$12,995.00       1\n",
       "$3,806.00        1\n",
       "$4,115.00        1\n",
       "$3,942.00        1\n",
       "$3,759.00        1\n",
       "$3,749.00        1\n",
       "$4,675.00        1\n",
       "$7,994.00        1\n",
       "$9,299.00        1\n",
       "$1,638.00        1\n",
       "$1,428.00        1\n",
       "$3,050.00        1\n",
       "$7,440.00        1\n",
       "$1,955.00        1\n",
       "$1,925.00        1\n",
       "$2,289.00        1\n",
       "$1,690.00        1\n",
       "$6,700.00        1\n",
       "$5,295.00        1\n",
       "$6,460.00        1\n",
       "$3,655.00        1\n",
       "$3,278.00        1\n",
       "$3,865.00        1\n",
       "$10,875.00       1\n",
       "$1,760.00        1\n",
       "$2,941.00        1\n",
       "$6,490.00        1\n",
       "$1,099.00        1\n",
       "$2,860.00        1\n",
       "$1,743.00        1\n",
       "$1,038.00        1\n",
       "$1,465.00        1\n",
       "$6,875.00        1\n",
       "$2,965.00        1\n",
       "$4,265.00        1\n",
       "$3,848.00        1\n",
       "$2,924.00        1\n",
       "$2,480.00        1\n",
       "$1,337.00        1\n",
       "$2,270.00        1\n",
       "$3,695.00        1\n",
       "$3,690.00        1\n",
       "$2,049.00        1\n",
       "$2,665.00        1\n",
       "$4,698.00        1\n",
       "$3,111.00        1\n",
       "$5,460.00        1\n",
       "$2,975.00        1\n",
       "$10,950.00       1\n",
       "$2,475.00        1\n",
       "$4,165.00        1\n",
       "$2,607.00        1\n",
       "$9,408.00        1\n",
       "$3,482.00        1\n",
       "$1,339.00        1\n",
       "$5,590.00        1\n",
       "$5,374.00        1\n",
       "$3,980.00        1\n",
       "$2,997.00        1\n",
       "$1,740.00        1\n",
       "$1,315.00        1\n",
       "$4,254.00        1\n",
       "$7,080.00        1\n",
       "$1,308.00        1\n",
       "$4,326.00        1\n",
       "$3,025.00        1\n",
       "$2,854.00        1\n",
       "$6,909.00        1\n",
       "$3,591.00        1\n",
       "$1,416.00        1\n",
       "$1,049.00        1\n",
       "$3,175.00        1\n",
       "$2,415.00        1\n",
       "$6,299.00        1\n",
       "$3,878.00        1\n",
       "$1,825.00        1\n",
       "$3,948.00        1\n",
       "$4,060.00        1\n",
       "$5,195.00        1\n",
       "$4,175.00        1\n",
       "$8,550.00        1\n",
       "$4,163.00        1\n",
       "$7,476.00        1\n",
       "$5,418.00        1\n",
       "$21,500.00       1\n",
       "$1,849.00        1\n",
       "$3,633.00        1\n",
       "$8,555.00        1\n",
       "$1,617.00        1\n",
       "$1,806.00        1\n",
       "$2,814.00        1\n",
       "$4,840.00        1\n",
       "$8,850.00        1\n",
       "$2,210.00        1\n",
       "$5,990.00        1\n",
       "$4,501.00        1\n",
       "$7,284.00        1\n",
       "$2,320.00        1\n",
       "$7,150.00        1\n",
       "$27,999.00       1\n",
       "$7,455.00        1\n",
       "$17,499.00       1\n",
       "$3,289.00        1\n",
       "$3,894.00        1\n",
       "$2,390.00        1\n",
       "$10,038.00       1\n",
       "$4,375.00        1\n",
       "$6,678.00        1\n",
       "$655.00          1\n",
       "$8,975.00        1\n",
       "$2,775.00        1\n",
       "$3,193.00        1\n",
       "$9,499.00        1\n",
       "$3,132.00        1\n",
       "$4,095.00        1\n",
       "$3,356.00        1\n",
       "$3,599.00        1\n",
       "$4,888.00        1\n",
       "$8,480.00        1\n",
       "$13,995.00       1\n",
       "$2,645.00        1\n",
       "$2,894.00        1\n",
       "$5,144.00        1\n",
       "$4,985.00        1\n",
       "$4,074.00        1\n",
       "$2,373.00        1\n",
       "$4,333.00        1\n",
       "$1,580.00        1\n",
       "$665.00          1\n",
       "$2,887.00        1\n",
       "$1,815.00        1\n",
       "$2,370.00        1\n",
       "$3,494.00        1\n",
       "$300.00          1\n",
       "$4,560.00        1\n",
       "$4,799.00        1\n",
       "$12,600.00       1\n",
       "$1,460.00        1\n",
       "$3,234.00        1\n",
       "$4,453.00        1\n",
       "$2,523.00        1\n",
       "$2,530.00        1\n",
       "$8,369.00        1\n",
       "$3,890.00        1\n",
       "$32,000.00       1\n",
       "$5,613.00        1\n",
       "$4,219.00        1\n",
       "$3,920.00        1\n",
       "$5,289.00        1\n",
       "$3,656.00        1\n",
       "$2,780.00        1\n",
       "$5,838.00        1\n",
       "$4,988.00        1\n",
       "$3,805.00        1\n",
       "$2,660.00        1\n",
       "$4,631.00        1\n",
       "$3,985.00        1\n",
       "$29,000.00       1\n",
       "$3,860.00        1\n",
       "$3,969.00        1\n",
       "$3,148.00        1\n",
       "$4,982.00        1\n",
       "$4,355.00        1\n",
       "$2,760.00        1\n",
       "$8,600.00        1\n",
       "$6,400.00        1\n",
       "$820.00          1\n",
       "$4,895.00        1\n",
       "$8,549.00        1\n",
       "$1,988.00        1\n",
       "$2,785.00        1\n",
       "$5,880.00        1\n",
       "$2,793.00        1\n",
       "$4,817.00        1\n",
       "$3,593.00        1\n",
       "$4,606.00        1\n",
       "$10,400.00       1\n",
       "$5,098.00        1\n",
       "$3,225.00        1\n",
       "$7,875.00        1\n",
       "$2,249.00        1\n",
       "$3,989.00        1\n",
       "$5,497.00        1\n",
       "$4,158.00        1\n",
       "$5,150.00        1\n",
       "$8,437.00        1\n",
       "$7,050.00        1\n",
       "$4,180.00        1\n",
       "$15,916.00       1\n",
       "$3,380.00        1\n",
       "$5,450.00        1\n",
       "$4,998.00        1\n",
       "$5,075.00        1\n",
       "$4,369.00        1\n",
       "Name: monthly_price, dtype: int64>"
      ]
     },
     "execution_count": 81,
     "metadata": {},
     "output_type": "execute_result"
    }
   ],
   "source": [
    "df_sf.monthly_price.value_counts().sort_index"
   ]
  },
  {
   "cell_type": "code",
   "execution_count": null,
   "metadata": {},
   "outputs": [],
   "source": []
  },
  {
   "cell_type": "code",
   "execution_count": 48,
   "metadata": {},
   "outputs": [],
   "source": [
    "df_sf['host_since_year'] = df_sf.host_since.apply(lambda x: x.year)\n",
    "df_sf['host_since_year'].fillna(value=2017, inplace=True)\n",
    "df_sf['host_length'] = 2017 -df_sf['host_since_year']"
   ]
  },
  {
   "cell_type": "code",
   "execution_count": 22,
   "metadata": {},
   "outputs": [
    {
     "data": {
      "text/html": [
       "<div>\n",
       "<style scoped>\n",
       "    .dataframe tbody tr th:only-of-type {\n",
       "        vertical-align: middle;\n",
       "    }\n",
       "\n",
       "    .dataframe tbody tr th {\n",
       "        vertical-align: top;\n",
       "    }\n",
       "\n",
       "    .dataframe thead th {\n",
       "        text-align: right;\n",
       "    }\n",
       "</style>\n",
       "<table border=\"1\" class=\"dataframe\">\n",
       "  <thead>\n",
       "    <tr style=\"text-align: right;\">\n",
       "      <th></th>\n",
       "      <th>review_scores_accuracy</th>\n",
       "      <th>review_scores_checkin</th>\n",
       "      <th>review_scores_cleanliness</th>\n",
       "      <th>review_scores_communication</th>\n",
       "      <th>review_scores_location</th>\n",
       "      <th>review_scores_rating</th>\n",
       "      <th>review_scores_value</th>\n",
       "      <th>reviews_per_month</th>\n",
       "    </tr>\n",
       "  </thead>\n",
       "  <tbody>\n",
       "  </tbody>\n",
       "</table>\n",
       "</div>"
      ],
      "text/plain": [
       "Empty DataFrame\n",
       "Columns: [review_scores_accuracy, review_scores_checkin, review_scores_cleanliness, review_scores_communication, review_scores_location, review_scores_rating, review_scores_value, reviews_per_month]\n",
       "Index: []"
      ]
     },
     "execution_count": 22,
     "metadata": {},
     "output_type": "execute_result"
    }
   ],
   "source": [
    "df_sf[df_sf['review_scores_rating'].isnull()][['review_scores_accuracy', 'review_scores_checkin', 'review_scores_cleanliness', 'review_scores_communication','review_scores_location', 'review_scores_rating' , 'review_scores_value', 'reviews_per_month']].head(300)\n",
    "\n",
    "\n",
    "\n"
   ]
  },
  {
   "cell_type": "code",
   "execution_count": 64,
   "metadata": {},
   "outputs": [],
   "source": [
    "# df_sf_2017[df_sf_2017['host_response_rate'].notnull()]['host_response_rate']."
   ]
  },
  {
   "cell_type": "code",
   "execution_count": 26,
   "metadata": {},
   "outputs": [
    {
     "data": {
      "text/plain": [
       "95.90738384554297"
      ]
     },
     "execution_count": 26,
     "metadata": {},
     "output_type": "execute_result"
    }
   ],
   "source": [
    "#find the mean response rate\n",
    "\n",
    "x = df_sf_2017[df_sf_2017['host_response_rate'].notnull()]['host_response_rate']\n",
    "x.replace('[\\%,]', '', regex=True, inplace=True)\n",
    "x.astype('int64',errors='ignore')\n",
    "mean_response_rate = x.real.astype('int64').mean()\n",
    "mean_response_rate"
   ]
  },
  {
   "cell_type": "code",
   "execution_count": 49,
   "metadata": {},
   "outputs": [],
   "source": [
    "df_sf.host_response_rate.fillna(value='96%', inplace=True) ##96% is the mean\n",
    "df_sf['host_response_rate'].replace('[\\%,]', '', regex=True, inplace=True)\n",
    "df_sf['host_response_rate'] = df_sf.host_response_rate.astype(int) ##"
   ]
  },
  {
   "cell_type": "code",
   "execution_count": null,
   "metadata": {},
   "outputs": [],
   "source": []
  },
  {
   "cell_type": "markdown",
   "metadata": {},
   "source": [
    "## 2017 dataframe"
   ]
  },
  {
   "cell_type": "code",
   "execution_count": null,
   "metadata": {},
   "outputs": [],
   "source": [
    "df_sf_2017 = df_sf[df_sf['year']==2017]\n",
    "df_sf_2017.loc[df_sf_2017.cancellation_policy == 'flexible_new', 'cancellation_policy'] = \"flexible\""
   ]
  },
  {
   "cell_type": "markdown",
   "metadata": {},
   "source": [
    "## 2.57 is the cutoff reviews per month to be in the top 20% of listings for all of SF in 2017"
   ]
  },
  {
   "cell_type": "code",
   "execution_count": 57,
   "metadata": {},
   "outputs": [
    {
     "data": {
      "text/plain": [
       "20743.600000000002"
      ]
     },
     "execution_count": 57,
     "metadata": {},
     "output_type": "execute_result"
    }
   ],
   "source": [
    "top_twenty = len(df_sf_2017)*.2\n",
    "top_twenty"
   ]
  },
  {
   "cell_type": "code",
   "execution_count": 52,
   "metadata": {},
   "outputs": [
    {
     "data": {
      "text/plain": [
       "access                                                                                                                                                                                                                                                                                                                                                                                                                                                                                                                                                                                                                                                      The studio is on the ground floor of our home, we live upstairs. The bottom floor basement/art studio/exercise room leads out to a large backyard. Although the studio is private, and separate from our living area, you’ll have access to the following shared amenities: backyard, deck and sitting area. Washer/Dryer, exercise machine (in basement/art studio). The entrance to the home is also shared.\n",
       "accommodates                                                                                                                                                                                                                                                                                                                                                                                                                                                                                                                                                                                                                                                                                                                                                                                                                                                                                                                                                                                                                                                             2\n",
       "amenities                                                                                                                                                                                                                                                                                                                                                                                                                                                                                                                                                                                                                             {TV,Internet,\"Wireless Internet\",Kitchen,\"Free parking on premises\",\"Pets live on this property\",Cat(s),Heating,Washer,Dryer,\"Smoke detector\",\"Carbon monoxide detector\",\"Fire extinguisher\",Essentials,Shampoo,\"Lock on bedroom door\",\"24-hour check-in\",Hangers,\"Hair dryer\",Iron,\"Laptop friendly workspace\",\"translation missing: en.hosting_amenity_49\",\"translation missing: en.hosting_amenity_50\",\"Self Check-In\",Smartlock}\n",
       "availability_30                                                                                                                                                                                                                                                                                                                                                                                                                                                                                                                                                                                                                                                                                                                                                                                                                                                                                                                                                                                                                                                         15\n",
       "availability_365                                                                                                                                                                                                                                                                                                                                                                                                                                                                                                                                                                                                                                                                                                                                                                                                                                                                                                                                                                                                                                                       335\n",
       "availability_60                                                                                                                                                                                                                                                                                                                                                                                                                                                                                                                                                                                                                                                                                                                                                                                                                                                                                                                                                                                                                                                         37\n",
       "availability_90                                                                                                                                                                                                                                                                                                                                                                                                                                                                                                                                                                                                                                                                                                                                                                                                                                                                                                                                                                                                                                                         67\n",
       "bathrooms                                                                                                                                                                                                                                                                                                                                                                                                                                                                                                                                                                                                                                                                                                                                                                                                                                                                                                                                                                                                                                                                1\n",
       "bed_type                                                                                                                                                                                                                                                                                                                                                                                                                                                                                                                                                                                                                                                                                                                                                                                                                                                                                                                                                                                                                                                          Real Bed\n",
       "bedrooms                                                                                                                                                                                                                                                                                                                                                                                                                                                                                                                                                                                                                                                                                                                                                                                                                                                                                                                                                                                                                                                                 1\n",
       "beds                                                                                                                                                                                                                                                                                                                                                                                                                                                                                                                                                                                                                                                                                                                                                                                                                                                                                                                                                                                                                                                                     1\n",
       "calculated_host_listings_count                                                                                                                                                                                                                                                                                                                                                                                                                                                                                                                                                                                                                                                                                                                                                                                                                                                                                                                                                                                                                                           1\n",
       "calendar_last_scraped                                                                                                                                                                                                                                                                                                                                                                                                                                                                                                                                                                                                                                                                                                                                                                                                                                                                                                                                                                                                                                  2017-04-02 00:00:00\n",
       "calendar_updated                                                                                                                                                                                                                                                                                                                                                                                                                                                                                                                                                                                                                                                                                                                                                                                                                                                                                                                                                                                                                                                 yesterday\n",
       "cancellation_policy                                                                                                                                                                                                                                                                                                                                                                                                                                                                                                                                                                                                                                                                                                                                                                                                                                                                                                                                                                                                                                                 strict\n",
       "city                                                                                                                                                                                                                                                                                                                                                                                                                                                                                                                                                                                                                                                                                                                                                                                                                                                                                                                                                                                                                                                         San Francisco\n",
       "cleaning_fee                                                                                                                                                                                                                                                                                                                                                                                                                                                                                                                                                                                                                                                                                                                                                                                                                                                                                                                                                                                                                                                            50\n",
       "country                                                                                                                                                                                                                                                                                                                                                                                                                                                                                                                                                                                                                                                                                                                                                                                                                                                                                                                                                                                                                                                      United States\n",
       "country_code                                                                                                                                                                                                                                                                                                                                                                                                                                                                                                                                                                                                                                                                                                                                                                                                                                                                                                                                                                                                                                                            US\n",
       "description                         Private self contained studio with queen size bed, kitchenette, couch, flat screen Smart TV, private bathroom (with full shower/tub) and partial view of San Francisco Bay. ******* Please note:  The following description answers most questions our guests have asked over the last 5 years we've been Airbnb hosts. Please read before you contact us. That said, we're happy to clarify or answer questions if they are not covered below.  We feel our rates are fair, and believe our reviews reflect that!  Our calendar is always up to date - if you see open dates, feel free to go ahead and book a reservation with us.  Thank you! ******* The studio is on the ground floor of our home, we live upstairs. The bottom floor basement/art studio/exercise room leads out to a large backyard. Although the studio is private, and separate from our living area, you’ll have access to the following shared amenities: backyard, deck and sitting area. Washer/Dryer, exercise machine (in basement/art studio). The ...\n",
       "experiences_offered                                                                                                                                                                                                                                                                                                                                                                                                                                                                                                                                                                                                                                                                                                                                                                                                                                                                                                                                                                                                                                                   none\n",
       "extra_people                                                                                                                                                                                                                                                                                                                                                                                                                                                                                                                                                                                                                                                                                                                                                                                                                                                                                                                                                                                                                                                          0.00\n",
       "first_review                                                                                                                                                                                                                                                                                                                                                                                                                                                                                                                                                                                                                                                                                                                                                                                                                                                                                                                                                                                                                                           2011-04-01 00:00:00\n",
       "guests_included                                                                                                                                                                                                                                                                                                                                                                                                                                                                                                                                                                                                                                                                                                                                                                                                                                                                                                                                                                                                                                                          2\n",
       "has_availability                                                                                                                                                                                                                                                                                                                                                                                                                                                                                                                                                                                                                                                                                                                                                                                                                                                                                                                                                                                                                                                       NaN\n",
       "host_about                                                                                                                                                                                                                                                                                                                                                    Hello! We enjoy exploring world and are happy to open our home to other travelers. We are an inclusive home and welcome guests who are open to all people, colors and faiths. We enjoy hiking, biking, urban walks, good restaurants, parks & museums, trips to the wine country as well as quiet weekends enjoying our backyard and home. We are both professionals in the Software/Technology industry. Tyler enjoys everything outdoors. Shoreh explores her creative side through painting and jewelry making.\\r\\n\\r\\nWe have one cat – Moochie (named after the cat in the Mutts comic).\\r\\n\\r\\nWe look forward to hosting you in our home and will do all we can to ensure you have a wonderful stay. \n",
       "host_acceptance_rate                                                                                                                                                                                                                                                                                                                                                                                                                                                                                                                                                                                                                                                                                                                                                                                                                                                                                                                                                                                                                                                   NaN\n",
       "host_has_profile_pic                                                                                                                                                                                                                                                                                                                                                                                                                                                                                                                                                                                                                                                                                                                                                                                                                                                                                                                                                                                                                                                     t\n",
       "host_id                                                                                                                                                                                                                                                                                                                                                                                                                                                                                                                                                                                                                                                                                                                                                                                                                                                                                                                                                                                                                                                             395569\n",
       "host_identity_verified                                                                                                                                                                                                                                                                                                                                                                                                                                                                                                                                                                                                                                                                                                                                                                                                                                                                                                                                                                                                                                                   t\n",
       "host_is_superhost                                                                                                                                                                                                                                                                                                                                                                                                                                                                                                                                                                                                                                                                                                                                                                                                                                                                                                                                                                                                                                                        t\n",
       "host_listings_count                                                                                                                                                                                                                                                                                                                                                                                                                                                                                                                                                                                                                                                                                                                                                                                                                                                                                                                                                                                                                                                      1\n",
       "host_location                                                                                                                                                                                                                                                                                                                                                                                                                                                                                                                                                                                                                                                                                                                                                                                                                                                                                                                                                                                                                     San Francisco, California, United States\n",
       "host_name                                                                                                                                                                                                                                                                                                                                                                                                                                                                                                                                                                                                                                                                                                                                                                                                                                                                                                                                                                                                                                                            Tyler\n",
       "host_neighbourhood                                                                                                                                                                                                                                                                                                                                                                                                                                                                                                                                                                                                                                                                                                                                                                                                                                                                                                                                                                                                                                               Glen Park\n",
       "host_picture_url                                                                                                                                                                                                                                                                                                                                                                                                                                                                                                                                                                                                                                                                                                                                                                                                                                                                                                                                                   https://a0.muscache.com/im/users/395569/profile_pic/1440467910/original.jpg?aki_policy=profile_x_medium\n",
       "host_response_rate                                                                                                                                                                                                                                                                                                                                                                                                                                                                                                                                                                                                                                                                                                                                                                                                                                                                                                                                                                                                                                                     100\n",
       "host_response_time                                                                                                                                                                                                                                                                                                                                                                                                                                                                                                                                                                                                                                                                                                                                                                                                                                                                                                                                                                                                                                      within a few hours\n",
       "host_since                                                                                                                                                                                                                                                                                                                                                                                                                                                                                                                                                                                                                                                                                                                                                                                                                                                                                                                                                                                                                                             2011-02-16 00:00:00\n",
       "host_thumbnail_url                                                                                                                                                                                                                                                                                                                                                                                                                                                                                                                                                                                                                                                                                                                                                                                                                                                                                                                                                    https://a0.muscache.com/im/users/395569/profile_pic/1440467910/original.jpg?aki_policy=profile_small\n",
       "host_total_listings_count                                                                                                                                                                                                                                                                                                                                                                                                                                                                                                                                                                                                                                                                                                                                                                                                                                                                                                                                                                                                                                                1\n",
       "host_url                                                                                                                                                                                                                                                                                                                                                                                                                                                                                                                                                                                                                                                                                                                                                                                                                                                                                                                                                                                                                          https://www.airbnb.com/users/show/395569\n",
       "host_verifications                                                                                                                                                                                                                                                                                                                                                                                                                                                                                                                                                                                                                                                                                                                                                                                                                                                                                                                                                                                                                    ['email', 'phone', 'reviews', 'kba']\n",
       "house_rules                                                                                                                                                                                                                                                                                                                                                                                                                                                                                                                                                                                          Quiet time is 10:30pm – 6:00am. Please don't do laundry during quite time! We will respect your privacy at all times, but reserve the right to enter the studio at anytime.  No cigarette smoking, please! When coming and going, please close the front (iron) gate, front door and door to the studio quietly (we do our best to be quiet when coming in going as well). Additional overnight guests are forbidden! General respect is always a good guideline :-) \n",
       "id                                                                                                                                                                                                                                                                                                                                                                                                                                                                                                                                                                                                                                                                                                                                                                                                                                                                                                                                                                                                                                                                   77175\n",
       "instant_bookable                                                                                                                                                                                                                                                                                                                                                                                                                                                                                                                                                                                                                                                                                                                                                                                                                                                                                                                                                                                                                                                         f\n",
       "interaction                                                                                                                                                                                                                                                                                                                                                                                                                                                                                                                                                                           We'll do our best to be home when you arrive to check you in. We're always happy to give recommendations on local spots (check out our guidebook!), and we are open to being your tour guide one day if you're into biking around the city and over the Golden Gate Bridge (the best way to spend a day in the city!) - schedules permitting - just ask.  Otherwise, we don't usually see our guests much. The studio is on a separate floor than our living area and very private. \n",
       "is_business_travel_ready                                                                                                                                                                                                                                                                                                                                                                                                                                                                                                                                                                                                                                                                                                                                                                                                                                                                                                                                                                                                                                               NaN\n",
       "is_location_exact                                                                                                                                                                                                                                                                                                                                                                                                                                                                                                                                                                                                                                                                                                                                                                                                                                                                                                                                                                                                                                                        t\n",
       "jurisdiction_names                                                                                                                                                                                                                                                                                                                                                                                                                                                                                                                                                                                                                                                                                                                                                                                                                                                                                                                                                                                                                                           SAN FRANCISCO\n",
       "last_review                                                                                                                                                                                                                                                                                                                                                                                                                                                                                                                                                                                                                                                                                                                                                                                                                                                                                                                                                                                                                                            2017-03-26 00:00:00\n",
       "last_scraped                                                                                                                                                                                                                                                                                                                                                                                                                                                                                                                                                                                                                                                                                                                                                                                                                                                                                                                                                                                                                                           2017-04-02 00:00:00\n",
       "latitude                                                                                                                                                                                                                                                                                                                                                                                                                                                                                                                                                                                                                                                                                                                                                                                                                                                                                                                                                                                                                                                           37.7384\n",
       "license                                                                                                                                                                                                                                                                                                                                                                                                                                                                                                                                                                                                                                                                                                                                                                                                                                                                                                                                                                                                                                                        STR-0000227\n",
       "listing_url                                                                                                                                                                                                                                                                                                                                                                                                                                                                                                                                                                                                                                                                                                                                                                                                                                                                                                                                                                                                                             https://www.airbnb.com/rooms/77175\n",
       "longitude                                                                                                                                                                                                                                                                                                                                                                                                                                                                                                                                                                                                                                                                                                                                                                                                                                                                                                                                                                                                                                                         -122.434\n",
       "market                                                                                                                                                                                                                                                                                                                                                                                                                                                                                                                                                                                                                                                                                                                                                                                                                                                                                                                                                                                                                                                       San Francisco\n",
       "maximum_nights                                                                                                                                                                                                                                                                                                                                                                                                                                                                                                                                                                                                                                                                                                                                                                                                                                                                                                                                                                                                                                                         365\n",
       "medium_url                                                                                                                                                                                                                                                                                                                                                                                                                                                                                                                                                                                                                                                                                                                                                                                                                                                                                                                                                                            https://a0.muscache.com/im/pictures/94319510/5a3539e2_original.jpg?aki_policy=medium\n",
       "minimum_nights                                                                                                                                                                                                                                                                                                                                                                                                                                                                                                                                                                                                                                                                                                                                                                                                                                                                                                                                                                                                                                                           3\n",
       "monthly_price                                                                                                                                                                                                                                                                                                                                                                                                                                                                                                                                                                                                                                                                                                                                                                                                                                                                                                                                                                                                                                                          NaN\n",
       "name                                                                                                                                                                                                                                                                                                                                                                                                                                                                                                                                                                                                                                                                                                                                                                                                                                                                                                                                                                                                                                   Private Studio w/ Kitchenette &Bath\n",
       "neighborhood_overview                                                                                                                                                                                                                                                                                                                                                                                                            We live in the Glen Park neighborhood of San Francisco, the location is ideally situated for access to both downtown San Francisco and points south such as Silicon Valley. Our neighborhood has little traffic, is quiet with charming alleyways and a nice park (Glen Park) a few blocks away. We say it is like living in the suburbs but still has all the benefits of living in a city. The neighborhood is hilly (this is San Francisco after all) but very walking friendly with Glen Park, food markets, shops and restaurants all within walking distance. We often have sunny days when other parts of the city are fogged in. \n",
       "neighbourhood                                                                                                                                                                                                                                                                                                                                                                                                                                                                                                                                                                                                                                                                                                                                                                                                                                                                                                                                                                                                                                                    Glen Park\n",
       "neighbourhood_cleansed                                                                                                                                                                                                                                                                                                                                                                                                                                                                                                                                                                                                                                                                                                                                                                                                                                                                                                                                                                                                                                           Glen Park\n",
       "neighbourhood_group_cleansed                                                                                                                                                                                                                                                                                                                                                                                                                                                                                                                                                                                                                                                                                                                                                                                                                                                                                                                                                                                                                                           NaN\n",
       "notes                                                                                                                                                                                                                                                                                                                                   Kitchenette amenities include: small refrigerator with freezer, large toaster over (convection and broil), hot plate, coffee pot, microwave, tea kettle, silverware, plates, bowls and cups. Although the kitchenette does not have a sink, our guests use the bathroom sink to wash dishes. All bedding, towels, cleaning supplies and laundry detergent are included as well as an iron, ironing board and hair dryer.  We have two cats but they never access the studio. We have had other guests that were allergic to cats therefore we ensure they never access the studio so allergies are not an issue. The cats do, however, access the shared hallway to the studio, basement and back yard.  STR-(PHONE NUMBER HIDDEN)\n",
       "number_of_reviews                                                                                                                                                                                                                                                                                                                                                                                                                                                                                                                                                                                                                                                                                                                                                                                                                                                                                                                                                                                                                                                      188\n",
       "picture_url                                                                                                                                                                                                                                                                                                                                                                                                                                                                                                                                                                                                                                                                                                                                                                                                                                                                                                                                                                            https://a0.muscache.com/im/pictures/94319510/5a3539e2_original.jpg?aki_policy=large\n",
       "price                                                                                                                                                                                                                                                                                                                                                                                                                                                                                                                                                                                                                                                                                                                                                                                                                                                                                                                                                                                                                                                                  135\n",
       "property_type                                                                                                                                                                                                                                                                                                                                                                                                                                                                                                                                                                                                                                                                                                                                                                                                                                                                                                                                                                                                                                                        House\n",
       "require_guest_phone_verification                                                                                                                                                                                                                                                                                                                                                                                                                                                                                                                                                                                                                                                                                                                                                                                                                                                                                                                                                                                                                                         t\n",
       "require_guest_profile_picture                                                                                                                                                                                                                                                                                                                                                                                                                                                                                                                                                                                                                                                                                                                                                                                                                                                                                                                                                                                                                                            t\n",
       "requires_license                                                                                                                                                                                                                                                                                                                                                                                                                                                                                                                                                                                                                                                                                                                                                                                                                                                                                                                                                                                                                                                         f\n",
       "review_scores_accuracy                                                                                                                                                                                                                                                                                                                                                                                                                                                                                                                                                                                                                                                                                                                                                                                                                                                                                                                                                                                                                                                  10\n",
       "review_scores_checkin                                                                                                                                                                                                                                                                                                                                                                                                                                                                                                                                                                                                                                                                                                                                                                                                                                                                                                                                                                                                                                                   10\n",
       "review_scores_cleanliness                                                                                                                                                                                                                                                                                                                                                                                                                                                                                                                                                                                                                                                                                                                                                                                                                                                                                                                                                                                                                                               10\n",
       "review_scores_communication                                                                                                                                                                                                                                                                                                                                                                                                                                                                                                                                                                                                                                                                                                                                                                                                                                                                                                                                                                                                                                             10\n",
       "review_scores_location                                                                                                                                                                                                                                                                                                                                                                                                                                                                                                                                                                                                                                                                                                                                                                                                                                                                                                                                                                                                                                                   9\n",
       "review_scores_rating                                                                                                                                                                                                                                                                                                                                                                                                                                                                                                                                                                                                                                                                                                                                                                                                                                                                                                                                                                                                                                                    97\n",
       "review_scores_value                                                                                                                                                                                                                                                                                                                                                                                                                                                                                                                                                                                                                                                                                                                                                                                                                                                                                                                                                                                                                                                     10\n",
       "reviews_per_month                                                                                                                                                                                                                                                                                                                                                                                                                                                                                                                                                                                                                                                                                                                                                                                                                                                                                                                                                                                                                                                     2.57\n",
       "room_type                                                                                                                                                                                                                                                                                                                                                                                                                                                                                                                                                                                                                                                                                                                                                                                                                                                                                                                                                                                                                                                  Entire home/apt\n",
       "scrape_id                                                                                                                                                                                                                                                                                                                                                                                                                                                                                                                                                                                                                                                                                                                                                                                                                                                                                                                                                                                                                                                   20170401232214\n",
       "security_deposit                                                                                                                                                                                                                                                                                                                                                                                                                                                                                                                                                                                                                                                                                                                                                                                                                                                                                                                                                                                                                                                       NaN\n",
       "smart_location                                                                                                                                                                                                                                                                                                                                                                                                                                                                                                                                                                                                                                                                                                                                                                                                                                                                                                                                                                                                                                           San Francisco, CA\n",
       "space                                                                                                                                                                                                                                                                                                                                                                                                                                                                                                                                                                                         ******* Please note:  The following description answers most questions our guests have asked over the last 5 years we've been Airbnb hosts. Please read before you contact us. That said, we're happy to clarify or answer questions if they are not covered below.  We feel our rates are fair, and believe our reviews reflect that!  Our calendar is always up to date - if you see open dates, feel free to go ahead and book a reservation with us.  Thank you! *******\n",
       "square_feet                                                                                                                                                                                                                                                                                                                                                                                                                                                                                                                                                                                                                                                                                                                                                                                                                                                                                                                                                                                                                                                            NaN\n",
       "state                                                                                                                                                                                                                                                                                                                                                                                                                                                                                                                                                                                                                                                                                                                                                                                                                                                                                                                                                                                                                                                                   CA\n",
       "street                                                                                                                                                                                                                                                                                                                                                                                                                                                                                                                                                                                                                                                                                                                                                                                                                                                                                                                                                                                                                   Glen Park, San Francisco, CA 94131, United States\n",
       "summary                                                                                                                                                                                                                                                                                                                                                                                                                                                                                                                                                                                                                                                                                                                                                                                                                                                                                        Private self contained studio with queen size bed, kitchenette, couch, flat screen Smart TV, private bathroom (with full shower/tub) and partial view of San Francisco Bay.\n",
       "thumbnail_url                                                                                                                                                                                                                                                                                                                                                                                                                                                                                                                                                                                                                                                                                                                                                                                                                                                                                                                                                                          https://a0.muscache.com/im/pictures/94319510/5a3539e2_original.jpg?aki_policy=small\n",
       "transit                                                                                                                                                                                                                                                                                                                                                                                                                                                                                  Public transportation - BART (Bay Area Rapid Transit) is .5 mile from our home. There are also many (MUNI) buses going to and from our neighborhood, but we prefer the BART subway trains because they are much faster.  There is always free street parking available right in front of our home, and a parking sticker is NOT required (a rare thing in San Francisco). The only parking restrictions are the 2nd & 4th Tuesday & Friday 9 – 11am for street cleaning. Tuesday’s, the East side of the street, Friday’s the West. There is signage on the street to remind you.\n",
       "weekly_price                                                                                                                                                                                                                                                                                                                                                                                                                                                                                                                                                                                                                                                                                                                                                                                                                                                                                                                                                                                                                                                           NaN\n",
       "xl_picture_url                                                                                                                                                                                                                                                                                                                                                                                                                                                                                                                                                                                                                                                                                                                                                                                                                                                                                                                                                                       https://a0.muscache.com/im/pictures/94319510/5a3539e2_original.jpg?aki_policy=x_large\n",
       "zipcode                                                                                                                                                                                                                                                                                                                                                                                                                                                                                                                                                                                                                                                                                                                                                                                                                                                                                                                                                                                                                                                              94131\n",
       "price_actual                                                                                                                                                                                                                                                                                                                                                                                                                                                                                                                                                                                                                                                                                                                                                                                                                                                                                                                                                                                                                                                           185\n",
       "year                                                                                                                                                                                                                                                                                                                                                                                                                                                                                                                                                                                                                                                                                                                                                                                                                                                                                                                                                                                                                                                                  2017\n",
       "month                                                                                                                                                                                                                                                                                                                                                                                                                                                                                                                                                                                                                                                                                                                                                                                                                                                                                                                                                                                                                                                                    4\n",
       "host_about_filled                                                                                                                                                                                                                                                                                                                                                                                                                                                                                                                                                                                                                                                                                                                                                                                                                                                                                                                                                                                                                                                     True\n",
       "host_picture_url_filled                                                                                                                                                                                                                                                                                                                                                                                                                                                                                                                                                                                                                                                                                                                                                                                                                                                                                                                                                                                                                                               True\n",
       "access_filled                                                                                                                                                                                                                                                                                                                                                                                                                                                                                                                                                                                                                                                                                                                                                                                                                                                                                                                                                                                                                                                         True\n",
       "house_rules_filled                                                                                                                                                                                                                                                                                                                                                                                                                                                                                                                                                                                                                                                                                                                                                                                                                                                                                                                                                                                                                                                    True\n",
       "space_filled                                                                                                                                                                                                                                                                                                                                                                                                                                                                                                                                                                                                                                                                                                                                                                                                                                                                                                                                                                                                                                                          True\n",
       "log_price                                                                                                                                                                                                                                                                                                                                                                                                                                                                                                                                                                                                                                                                                                                                                                                                                                                                                                                                                                                                                                                          5.22036\n",
       "price_per_bedroom                                                                                                                                                                                                                                                                                                                                                                                                                                                                                                                                                                                                                                                                                                                                                                                                                                                                                                                                                                                                                                                  5.22036\n",
       "price_per_guest                                                                                                                                                                                                                                                                                                                                                                                                                                                                                                                                                                                                                                                                                                                                                                                                                                                                                                                                                                                                                                                    1.74012\n",
       "guest_per_bed                                                                                                                                                                                                                                                                                                                                                                                                                                                                                                                                                                                                                                                                                                                                                                                                                                                                                                                                                                                                                                                            2\n",
       "guest_per_bedroom                                                                                                                                                                                                                                                                                                                                                                                                                                                                                                                                                                                                                                                                                                                                                                                                                                                                                                                                                                                                                                                        2\n",
       "host_since_year                                                                                                                                                                                                                                                                                                                                                                                                                                                                                                                                                                                                                                                                                                                                                                                                                                                                                                                                                                                                                                                       2011\n",
       "host_length                                                                                                                                                                                                                                                                                                                                                                                                                                                                                                                                                                                                                                                                                                                                                                                                                                                                                                                                                                                                                                                              6\n",
       "Name: 176140, dtype: object"
      ]
     },
     "execution_count": 52,
     "metadata": {},
     "output_type": "execute_result"
    }
   ],
   "source": [
    "df_sf_2017.sort_values(by='reviews_per_month', ascending=False).iloc[20743,:]"
   ]
  },
  {
   "cell_type": "code",
   "execution_count": null,
   "metadata": {},
   "outputs": [],
   "source": []
  },
  {
   "cell_type": "code",
   "execution_count": null,
   "metadata": {},
   "outputs": [],
   "source": []
  },
  {
   "cell_type": "code",
   "execution_count": 70,
   "metadata": {},
   "outputs": [],
   "source": [
    "# df_sf.loc[df_sf.reviews_per_month >= 2.54, 'popular'] = True\n",
    "# df_sf.loc[df_sf.reviews_per_month < 2.54, 'popular'] = False"
   ]
  },
  {
   "cell_type": "code",
   "execution_count": 28,
   "metadata": {},
   "outputs": [
    {
     "name": "stderr",
     "output_type": "stream",
     "text": [
      "/home/ubuntu/anaconda3/lib/python3.6/site-packages/pandas/core/indexing.py:357: SettingWithCopyWarning: \n",
      "A value is trying to be set on a copy of a slice from a DataFrame.\n",
      "Try using .loc[row_indexer,col_indexer] = value instead\n",
      "\n",
      "See the caveats in the documentation: http://pandas.pydata.org/pandas-docs/stable/indexing.html#indexing-view-versus-copy\n",
      "  self.obj[key] = _infer_fill_value(value)\n",
      "/home/ubuntu/anaconda3/lib/python3.6/site-packages/pandas/core/indexing.py:537: SettingWithCopyWarning: \n",
      "A value is trying to be set on a copy of a slice from a DataFrame.\n",
      "Try using .loc[row_indexer,col_indexer] = value instead\n",
      "\n",
      "See the caveats in the documentation: http://pandas.pydata.org/pandas-docs/stable/indexing.html#indexing-view-versus-copy\n",
      "  self.obj[item] = s\n"
     ]
    }
   ],
   "source": [
    "df_sf_2017.loc[df_sf_2017.reviews_per_month >= 2.66, 'popular'] = True\n",
    "df_sf_2017.loc[df_sf_2017.reviews_per_month < 2.66, 'popular'] = False"
   ]
  },
  {
   "cell_type": "code",
   "execution_count": 6,
   "metadata": {},
   "outputs": [],
   "source": [
    "notpopular = df_sf_2017[df_sf_2017['popular']==False]"
   ]
  },
  {
   "cell_type": "code",
   "execution_count": 7,
   "metadata": {},
   "outputs": [],
   "source": [
    "popular = df_sf_2017[df_sf_2017['popular']==True]"
   ]
  },
  {
   "cell_type": "code",
   "execution_count": 8,
   "metadata": {},
   "outputs": [],
   "source": [
    "def turn_to_set(host_id, list_id):\n",
    "    newSet = set()\n",
    "    for i,v in enumerate(host_id):\n",
    "        newSet.add((host_id[i], list_id[i]))\n",
    "    return newSet"
   ]
  },
  {
   "cell_type": "code",
   "execution_count": 9,
   "metadata": {},
   "outputs": [],
   "source": [
    "#create dictionaries that contain the unique listings for each month\n",
    "\n",
    "def unique_listings_per_month():\n",
    "    pop_dict = {}\n",
    "    for i in range(4,13):\n",
    "        host_id = popular[(popular['month']==i)]['host_id']\n",
    "        list_id = popular[(popular['month']==i)]['id']\n",
    "\n",
    "        host_id = np.array(host_id)\n",
    "        list_id = np.array(list_id)\n",
    "\n",
    "        mySet = turn_to_set(host_id, list_id)\n",
    "\n",
    "        pop_dict[\"month_\" + str(i)] = mySet\n",
    "\n",
    "\n",
    "    notpop_dict = {}\n",
    "    for i in range(4,13):\n",
    "        host_id_notpop = notpopular[(notpopular['month']==i)]['host_id']\n",
    "        list_id_notpop = notpopular[(notpopular['month']==i)]['id']\n",
    "\n",
    "        host_id_notpop = np.array(host_id_notpop)\n",
    "        list_id_notpop = np.array(list_id_notpop)\n",
    "\n",
    "        mySet = turn_to_set(host_id_notpop, list_id_notpop)\n",
    "\n",
    "        notpop_dict[\"month_\" + str(i) + \"_notpop\"] = mySet\n",
    "    \n",
    "    return pop_dict, notpop_dict\n"
   ]
  },
  {
   "cell_type": "code",
   "execution_count": 58,
   "metadata": {},
   "outputs": [],
   "source": [
    "pop_dict, notpop_dict = unique_listings_per_month()"
   ]
  },
  {
   "cell_type": "code",
   "execution_count": 63,
   "metadata": {},
   "outputs": [
    {
     "data": {
      "text/plain": [
       "array([[ 181.,  138.,  149.,  137.,  178.,  239.,  152.,  198.],\n",
       "       [ 185.,  216.,  193.,  265.,  205.,  247.,  212.,  173.],\n",
       "       [1342., 1389., 1456., 1512., 1599., 1565., 1660., 1674.],\n",
       "       [  46.,   66.,   60.,   62.,   78.,   76.,   71.,  108.],\n",
       "       [ 135.,   72.,   89.,   75.,  100.,  163.,   81.,   90.],\n",
       "       [ 142.,  141.,  139.,  216.,  179.,   78.,  152.,  118.],\n",
       "       [  43.,   75.,   54.,   49.,   26.,  169.,   60.,   55.]])"
      ]
     },
     "execution_count": 63,
     "metadata": {},
     "output_type": "execute_result"
    }
   ],
   "source": [
    "month_to_month_change = np.zeros(shape = (7, 8))\n",
    "count = 0\n",
    "for i in range(4,12):\n",
    "    diff_first_month = pop_dict['month_'+str(i)].difference(pop_dict['month_'+str(i+1)]) #elements popular in first month but not popular in second month. Did they become unpopular or did the listing disappear?\n",
    "    month_to_month_change[0][count] = len(diff_first_month)\n",
    "    \n",
    "    diff_second_month = pop_dict['month_'+str(i+1)].difference(pop_dict['month_'+str(i)]) #elements that were popular in second month but not popular in first month. Were they an unpopular listing in the first month?\n",
    "    month_to_month_change[1][count] = len(diff_second_month) \n",
    "\n",
    "    month_to_month_change[2][count] = len(pop_dict['month_'+str(i)].intersection(pop_dict['month_'+str(i+1)])) #continued to be popular in both first and second month\n",
    "\n",
    "    month_to_month_change[3][count] = len(diff_first_month.intersection(notpop_dict['month_'+str(i+1)+'_notpop'])) #popular elements in first month and not popular in second month. They are no longer popular, but still a listing\n",
    "\n",
    "    month_to_month_change[4][count] = len(diff_first_month.difference(notpop_dict['month_'+str(i+1)+'_notpop'])) #popular elements in first month and not in second month but because it no longer a listing in second month\n",
    "\n",
    "    month_to_month_change[5][count] = len(diff_second_month.intersection(notpop_dict['month_'+str(i)+'_notpop'])) #elements that were popular in second month and was unpopular in first month\n",
    "\n",
    "    month_to_month_change[6][count] = len(diff_second_month.difference(notpop_dict['month_'+str(i)+'_notpop'])) #elements that were popular in second month but not listed in first month\n",
    "    \n",
    "    count +=1\n",
    "\n",
    "month_to_month_change"
   ]
  },
  {
   "cell_type": "code",
   "execution_count": 61,
   "metadata": {},
   "outputs": [
    {
     "name": "stdout",
     "output_type": "stream",
     "text": [
      "4 1523\n",
      "5 1527\n",
      "6 1605\n",
      "7 1649\n",
      "8 1777\n",
      "9 1804\n",
      "10 1812\n",
      "11 1872\n",
      "12 1847\n"
     ]
    }
   ],
   "source": [
    "# the total number of popular listings per month\n",
    "\n",
    "for i in range (4, 13):\n",
    "    print(i, len(pop_dict['month_' +str(i)]))"
   ]
  },
  {
   "cell_type": "code",
   "execution_count": 64,
   "metadata": {},
   "outputs": [
    {
     "data": {
      "text/plain": [
       "array([0.88115561, 0.90962672, 0.90716511, 0.91691935, 0.89983118,\n",
       "       0.86751663, 0.91611479, 0.89423077])"
      ]
     },
     "execution_count": 64,
     "metadata": {},
     "output_type": "execute_result"
    }
   ],
   "source": [
    "#percentage of listings that remain popular\n",
    "\n",
    "month_to_month_change[2] / (month_to_month_change[0] + month_to_month_change[2])"
   ]
  },
  {
   "cell_type": "code",
   "execution_count": 65,
   "metadata": {},
   "outputs": [
    {
     "data": {
      "text/plain": [
       "0.8990700190547257"
      ]
     },
     "execution_count": 65,
     "metadata": {},
     "output_type": "execute_result"
    }
   ],
   "source": [
    "#average percentage of listings that remain popular\n",
    "(month_to_month_change[2] / (month_to_month_change[0] + month_to_month_change[2])).mean()"
   ]
  },
  {
   "cell_type": "code",
   "execution_count": 35,
   "metadata": {},
   "outputs": [
    {
     "data": {
      "text/plain": [
       "array([75., 52., 60., 55., 56., 68., 53., 45.])"
      ]
     },
     "execution_count": 35,
     "metadata": {},
     "output_type": "execute_result"
    }
   ],
   "source": [
    "#percentage that is no longer a listing in the next month (they dropped out the next month)\n",
    "np.round((month_to_month_change[4]/month_to_month_change[0])*100,0) "
   ]
  },
  {
   "cell_type": "code",
   "execution_count": 36,
   "metadata": {},
   "outputs": [
    {
     "data": {
      "text/plain": [
       "58.0"
      ]
     },
     "execution_count": 36,
     "metadata": {},
     "output_type": "execute_result"
    }
   ],
   "source": [
    "#average dropout\n",
    "np.round((month_to_month_change[4]/month_to_month_change[0])*100,0).mean()"
   ]
  },
  {
   "cell_type": "code",
   "execution_count": 37,
   "metadata": {},
   "outputs": [
    {
     "data": {
      "text/plain": [
       "array([25., 48., 40., 45., 44., 32., 47., 55.])"
      ]
     },
     "execution_count": 37,
     "metadata": {},
     "output_type": "execute_result"
    }
   ],
   "source": [
    "#percentage that were popular in first month but then became unpopular the second month\n",
    "np.round((month_to_month_change[3]/month_to_month_change[0])*100,0) "
   ]
  },
  {
   "cell_type": "code",
   "execution_count": 38,
   "metadata": {},
   "outputs": [
    {
     "data": {
      "text/plain": [
       "42.0"
      ]
     },
     "execution_count": 38,
     "metadata": {},
     "output_type": "execute_result"
    }
   ],
   "source": [
    "#average that became unpopular in one month\n",
    "np.round((month_to_month_change[3]/month_to_month_change[0])*100,0).mean()"
   ]
  },
  {
   "cell_type": "code",
   "execution_count": 39,
   "metadata": {},
   "outputs": [
    {
     "data": {
      "text/plain": [
       "array([77., 65., 72., 82., 87., 32., 72., 68.])"
      ]
     },
     "execution_count": 39,
     "metadata": {},
     "output_type": "execute_result"
    }
   ],
   "source": [
    "#percentage that were not popular in the first month but became popular in the second month\n",
    "np.round(month_to_month_change[5]/month_to_month_change[1]*100,0) "
   ]
  },
  {
   "cell_type": "code",
   "execution_count": 40,
   "metadata": {},
   "outputs": [
    {
     "data": {
      "text/plain": [
       "69.375"
      ]
     },
     "execution_count": 40,
     "metadata": {},
     "output_type": "execute_result"
    }
   ],
   "source": [
    "#average that became popular in one month\n",
    "np.round(month_to_month_change[5]/month_to_month_change[1]*100,0).mean()"
   ]
  },
  {
   "cell_type": "code",
   "execution_count": null,
   "metadata": {},
   "outputs": [],
   "source": []
  },
  {
   "cell_type": "code",
   "execution_count": null,
   "metadata": {},
   "outputs": [],
   "source": []
  },
  {
   "cell_type": "markdown",
   "metadata": {},
   "source": [
    "## pickle the two dataframes"
   ]
  },
  {
   "cell_type": "code",
   "execution_count": 71,
   "metadata": {},
   "outputs": [],
   "source": [
    "# df_sf.to_pickle('data_sf.p')\n",
    "# df_sf_2017.to_pickle('data_sf_2017.p')"
   ]
  },
  {
   "cell_type": "markdown",
   "metadata": {},
   "source": [
    "## Should instead save to json file instead of pickle flie"
   ]
  },
  {
   "cell_type": "code",
   "execution_count": 33,
   "metadata": {},
   "outputs": [],
   "source": [
    "df_sf_2017.to_json('df_sf_2017',orient='columns')"
   ]
  },
  {
   "cell_type": "code",
   "execution_count": 34,
   "metadata": {},
   "outputs": [
    {
     "name": "stdout",
     "output_type": "stream",
     "text": [
      "total 1390084\r\n",
      "-rw-rw-r-- 1 ubuntu ubuntu    164857 Aug  7 19:22 data_cleaning.ipynb\r\n",
      "-rw-rw-r-- 1 ubuntu ubuntu 654289300 Aug  7 19:24 df_sf_2017\r\n",
      "-rw-rw-r-- 1 ubuntu ubuntu 651191533 Aug  4 01:22 df_sf_2017_old\r\n",
      "-rw-rw-r-- 1 ubuntu ubuntu   1036920 Aug  6 23:27 EDA_SF_2017.ipynb\r\n",
      "-rw-rw-r-- 1 ubuntu ubuntu   4797091 Aug  2 18:26 EDA_top_20.ipynb\r\n",
      "-rw-rw-r-- 1 ubuntu ubuntu    398602 Aug  6 22:46 Ensemble Model Test.ipynb\r\n",
      "-rw-rw-r-- 1 ubuntu ubuntu    207836 Aug  7 18:32 nb_model0.p\r\n",
      "-rw-rw-r-- 1 ubuntu ubuntu    206492 Aug  7 18:33 nb_model1.p\r\n",
      "-rw-rw-r-- 1 ubuntu ubuntu    410364 Aug  1 20:24 nb_model_2.p\r\n",
      "-rw-rw-r-- 1 ubuntu ubuntu    208124 Aug  7 18:33 nb_model2.p\r\n",
      "-rw-rw-r-- 1 ubuntu ubuntu    336700 Aug  7 17:01 nb_model3.p\r\n",
      "-rw-rw-r-- 1 ubuntu ubuntu    335228 Aug  7 17:02 nb_model4.p\r\n",
      "-rw-rw-r-- 1 ubuntu ubuntu    338844 Aug  7 17:02 nb_model5.p\r\n",
      "-rw-rw-r-- 1 ubuntu ubuntu    334524 Aug  7 17:03 nb_model6.p\r\n",
      "-rw-rw-r-- 1 ubuntu ubuntu    339868 Aug  7 17:03 nb_model7.p\r\n",
      "-rw-rw-r-- 1 ubuntu ubuntu    344572 Aug  7 17:04 nb_model8.p\r\n",
      "-rw-rw-r-- 1 ubuntu ubuntu    410295 Aug  1 20:44 nb_model_guassian.p\r\n",
      "-rw-rw-r-- 1 ubuntu ubuntu    373628 Aug  1 19:53 nb_model.p\r\n",
      "-rw-rw-r-- 1 ubuntu ubuntu     13938 Aug  2 05:57 NLP_description2.ipynb\r\n",
      "-rw-rw-r-- 1 ubuntu ubuntu     78565 Aug  7 17:29 NLP_description_func.ipynb\r\n",
      "-rw-rw-r-- 1 ubuntu ubuntu     13937 Aug  2 00:33 NLP_description.ipynb\r\n",
      "-rw-rw-r-- 1 ubuntu ubuntu    185998 Aug  7 18:11 NLP_neighborhood_overview.ipynb\r\n",
      "-rw-rw-r-- 1 ubuntu ubuntu     52379 Aug  7 17:06 NLP_space_func.ipynb\r\n",
      "-rw-rw-r-- 1 ubuntu ubuntu    183437 Aug  7 18:46 NLP_transit.ipynb\r\n",
      "-rw-rw-r-- 1 ubuntu ubuntu    128516 Aug  6 21:22 RandomForest-Copy1-Test.ipynb\r\n",
      "-rw-rw-r-- 1 ubuntu ubuntu     89501 Aug  7 19:17 RandomForest.ipynb\r\n",
      "-rw-rw-r-- 1 ubuntu ubuntu     45156 Aug  7 16:55 RandomForest_test.ipynb\r\n",
      "-rw-rw-r-- 1 ubuntu ubuntu    345861 Aug  7 16:36 RandomForest with SMOTE.ipynb\r\n",
      "-rw-rw-r-- 1 ubuntu ubuntu  52857212 Aug  2 00:25 rf_nlp_200.p\r\n",
      "-rw-rw-r-- 1 ubuntu ubuntu   3751291 Aug  4 01:20 rf_nlp_countvec_500.p\r\n",
      "-rw-rw-r-- 1 ubuntu ubuntu   3652795 Aug  4 01:21 rf_nlp_countvec_501.p\r\n",
      "-rw-rw-r-- 1 ubuntu ubuntu   3673819 Aug  4 01:23 rf_nlp_countvec_502.p\r\n",
      "-rw-rw-r-- 1 ubuntu ubuntu   3710251 Aug  4 01:24 rf_nlp_countvec_503.p\r\n",
      "-rw-rw-r-- 1 ubuntu ubuntu   3792331 Aug  4 01:26 rf_nlp_countvec_504.p\r\n",
      "-rw-rw-r-- 1 ubuntu ubuntu   4010779 Aug  4 01:27 rf_nlp_countvec_505.p\r\n",
      "-rw-rw-r-- 1 ubuntu ubuntu   4046059 Aug  4 01:29 rf_nlp_countvec_506.p\r\n",
      "-rw-rw-r-- 1 ubuntu ubuntu   4182283 Aug  4 01:31 rf_nlp_countvec_507.p\r\n",
      "-rw-rw-r-- 1 ubuntu ubuntu   4571947 Aug  4 01:33 rf_nlp_countvec_508.p\r\n",
      "-rw-rw-r-- 1 ubuntu ubuntu  17509112 Aug  2 01:55 rf_nlp_countvec_50.p\r\n",
      "-rw-rw-r-- 1 ubuntu ubuntu         0 Aug  2 00:33 sample.txt\r\n",
      "drwxr-xr-x 3 ubuntu ubuntu      4096 Aug  2 19:11 SF\r\n",
      "-rw-rw-r-- 1 ubuntu ubuntu      3229 Aug  6 20:57 Untitled.ipynb\r\n",
      "-rw-rw-r-- 1 ubuntu ubuntu    725468 Aug  2 00:25 word_cloud.ipynb\r\n"
     ]
    }
   ],
   "source": [
    "!ls -l"
   ]
  },
  {
   "cell_type": "code",
   "execution_count": 5,
   "metadata": {},
   "outputs": [],
   "source": [
    "df_sf_2017 = pd.read_json('df_sf_2017')"
   ]
  },
  {
   "cell_type": "code",
   "execution_count": 4,
   "metadata": {},
   "outputs": [
    {
     "ename": "NameError",
     "evalue": "name 'df_sf_2017' is not defined",
     "output_type": "error",
     "traceback": [
      "\u001b[0;31m---------------------------------------------------------------------------\u001b[0m",
      "\u001b[0;31mNameError\u001b[0m                                 Traceback (most recent call last)",
      "\u001b[0;32m<ipython-input-4-7fc34471eb4d>\u001b[0m in \u001b[0;36m<module>\u001b[0;34m()\u001b[0m\n\u001b[0;32m----> 1\u001b[0;31m \u001b[0mdf_sf_2017\u001b[0m\u001b[0;34m.\u001b[0m\u001b[0mprice_per_bedroom\u001b[0m\u001b[0;34m.\u001b[0m\u001b[0misnull\u001b[0m\u001b[0;34m(\u001b[0m\u001b[0;34m)\u001b[0m\u001b[0;34m.\u001b[0m\u001b[0msum\u001b[0m\u001b[0;34m(\u001b[0m\u001b[0;34m)\u001b[0m\u001b[0;34m\u001b[0m\u001b[0m\n\u001b[0m",
      "\u001b[0;31mNameError\u001b[0m: name 'df_sf_2017' is not defined"
     ]
    }
   ],
   "source": [
    "df_sf_2017.price_per_bedroom.isnull().sum()"
   ]
  },
  {
   "cell_type": "code",
   "execution_count": null,
   "metadata": {},
   "outputs": [],
   "source": []
  }
 ],
 "metadata": {
  "kernelspec": {
   "display_name": "Python 3",
   "language": "python",
   "name": "python3"
  },
  "language_info": {
   "codemirror_mode": {
    "name": "ipython",
    "version": 3
   },
   "file_extension": ".py",
   "mimetype": "text/x-python",
   "name": "python",
   "nbconvert_exporter": "python",
   "pygments_lexer": "ipython3",
   "version": "3.6.4"
  }
 },
 "nbformat": 4,
 "nbformat_minor": 2
}

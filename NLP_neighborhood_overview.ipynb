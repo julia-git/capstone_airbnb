{
 "cells": [
  {
   "cell_type": "markdown",
   "metadata": {},
   "source": [
    "# NLP on neighborhood overview"
   ]
  },
  {
   "cell_type": "code",
   "execution_count": 4,
   "metadata": {},
   "outputs": [],
   "source": [
    "import nltk\n",
    "from nltk.tokenize import RegexpTokenizer\n",
    "from nltk.corpus import stopwords\n",
    "from nltk.stem import WordNetLemmatizer\n",
    "from nltk import word_tokenize          \n",
    "from nltk.stem.snowball import SnowballStemmer\n",
    "from sklearn.feature_extraction.text import TfidfVectorizer, CountVectorizer\n",
    "import time\n",
    "from sklearn.metrics import accuracy_score, confusion_matrix, recall_score, precision_score, f1_score"
   ]
  },
  {
   "cell_type": "markdown",
   "metadata": {},
   "source": [
    "# Load data"
   ]
  },
  {
   "cell_type": "code",
   "execution_count": 2,
   "metadata": {},
   "outputs": [],
   "source": [
    "df_sf_2017 = pd.read_json('df_sf_2017')"
   ]
  },
  {
   "cell_type": "code",
   "execution_count": 17,
   "metadata": {},
   "outputs": [],
   "source": [
    "df_sf_2017.neighborhood_overview.fillna(value='None', inplace=True)"
   ]
  },
  {
   "cell_type": "code",
   "execution_count": 18,
   "metadata": {},
   "outputs": [],
   "source": [
    "df_sf_2017[\"neighborhood_overview_new\"] = df_sf_2017['neighborhood_overview'].str.replace('[^\\w\\s]','')"
   ]
  },
  {
   "cell_type": "markdown",
   "metadata": {},
   "source": [
    "## LemmaTokenizer"
   ]
  },
  {
   "cell_type": "code",
   "execution_count": 20,
   "metadata": {},
   "outputs": [],
   "source": [
    "class LemmaTokenizer(object):\n",
    "    def __init__(self):\n",
    "        self.wnl = WordNetLemmatizer()\n",
    "    def __call__(self, articles):\n",
    "        return [self.wnl.lemmatize(t) for t in word_tokenize(articles)]"
   ]
  },
  {
   "cell_type": "markdown",
   "metadata": {},
   "source": [
    "## split data - running NLP on neighborhood overview column"
   ]
  },
  {
   "cell_type": "code",
   "execution_count": 21,
   "metadata": {},
   "outputs": [],
   "source": [
    "def split_data(start_month, end_month):\n",
    "    df_X_train = df_sf_2017[(df_sf_2017['month'] >= start_month) & (df_sf_2017['month'] < end_month)]['neighborhood_overview_new']\n",
    "    y_train = df_sf_2017[(df_sf_2017['month'] >= start_month) & (df_sf_2017['month'] < end_month)]['popular']\n",
    "\n",
    "    df_X_test = df_sf_2017[df_sf_2017['month'] == end_month]['neighborhood_overview_new']\n",
    "    y_test = df_sf_2017[df_sf_2017['month'] == end_month]['popular']\n",
    "    \n",
    "    return df_X_train, y_train, df_X_test, y_test"
   ]
  },
  {
   "cell_type": "markdown",
   "metadata": {},
   "source": [
    "## Run CountVectorizer"
   ]
  },
  {
   "cell_type": "code",
   "execution_count": 22,
   "metadata": {},
   "outputs": [
    {
     "name": "stdout",
     "output_type": "stream",
     "text": [
      "CPU times: user 0 ns, sys: 0 ns, total: 0 ns\n",
      "Wall time: 7.63 µs\n"
     ]
    }
   ],
   "source": [
    "def run_tf_vec(df_X_train, df_X_test):\n",
    "    tf_vectorizer_train = CountVectorizer(tokenizer=LemmaTokenizer(), stop_words='english').fit(df_X_train)\n",
    "    X_train = tf_vectorizer_train.transform(df_X_train)\n",
    "    tf_vectorizer_test = CountVectorizer(tokenizer=LemmaTokenizer(), stop_words='english', vocabulary = tf_vectorizer_train.vocabulary_).fit(df_X_test)\n",
    "    X_test = tf_vectorizer_test.transform(df_X_test)\n",
    "    return X_train, X_test, tf_vectorizer_train"
   ]
  },
  {
   "cell_type": "code",
   "execution_count": 24,
   "metadata": {},
   "outputs": [],
   "source": [
    "def predict_tf_nb(X_train, y_train, X_test, y_test):\n",
    "    from sklearn.naive_bayes import MultinomialNB\n",
    "    nb = MultinomialNB()\n",
    "    nb.fit(X_train, y_train)\n",
    "    pickle.dump(nb, open('nb_model'+ str(model_num) + '.p', 'wb'))\n",
    "    preds = nb.predict(X_test)\n",
    "    scores_tf_nb[0][model_num] = accuracy_score(y_test, preds)\n",
    "    scores_tf_nb[1][model_num] = recall_score(y_test, nb.predict(X_test))\n",
    "    scores_tf_nb[2][model_num] = precision_score(y_test, nb.predict(X_test))\n",
    "    scores_tf_nb[3][model_num] = f1_score(y_test, nb.predict(X_test))\n",
    "    return scores_tf_nb"
   ]
  },
  {
   "cell_type": "code",
   "execution_count": 25,
   "metadata": {},
   "outputs": [],
   "source": [
    "def grid_searching (param_grid, model):\n",
    "\n",
    "    grid_search = GridSearchCV(model, \n",
    "                               param_grid=param_grid, cv=5, \n",
    "                               n_jobs=-1, scoring=make_scorer(f1_score))\n",
    "    fit = grid_search.fit(X_train, y_train)\n",
    "    predicted = fit.predict(X_test)\n",
    "    return grid_search.best_params_\n"
   ]
  },
  {
   "cell_type": "markdown",
   "metadata": {},
   "source": [
    "## With the CountVectorizer, run with RandomForest "
   ]
  },
  {
   "cell_type": "code",
   "execution_count": 33,
   "metadata": {},
   "outputs": [],
   "source": [
    "def predict_tf_rf(X_train, y_train, X_test, y_test):\n",
    "#     param_grid = {'n_estimators': [500, 1000, 1500], \n",
    "#                   'max_features': ['auto'], \n",
    "#                   'max_depth': [None, 10, 5],\n",
    "#                   'class_weight': [None, 'balanced']}\n",
    "\n",
    "#     model = RandomForestClassifier()\n",
    "    \n",
    "#     best_parameters = grid_searching(param_grid, model)\n",
    "#     rf = RandomForestClassifier(n_estimators = best_parameters['n_estimators'], \n",
    "#                                 n_jobs = -1, \n",
    "#                                 random_state = 0, \n",
    "#                                 max_features = ['auto'], \n",
    "#                                 max_depth = best_parameters['max_depth'], \n",
    "#                                 class_weight = best_parameters['class_weight'])\n",
    "    \n",
    "    rf = RandomForestClassifier(n_estimators = 500, \n",
    "                                n_jobs = -1, \n",
    "                                random_state = 0, \n",
    "                                max_depth = 10)\n",
    "    rf.fit(X_train, y_train)\n",
    "    predicted = rf.predict(X_test)\n",
    "#     pickle.dump(rf, open('rf_nlp_countvec_50' + str(model_num) + '.p', 'wb'))\n",
    "    scores_tf_rf[0][model_num] = accuracy_score(y_test, predicted)\n",
    "    scores_tf_rf[1][model_num] = recall_score(y_test, predicted)\n",
    "    scores_tf_rf[2][model_num] = precision_score(y_test, predicted)\n",
    "    scores_tf_rf[3][model_num] = f1_score(y_test, predicted)\n",
    "    return scores_tf_rf"
   ]
  },
  {
   "cell_type": "code",
   "execution_count": 27,
   "metadata": {},
   "outputs": [],
   "source": [
    "scores_tf_nb = np.zeros(shape=(4,9))\n",
    "scores_tf_rf = np.zeros(shape=(4,9))\n",
    "\n",
    "model_num = 0\n",
    "start_month = 1\n",
    "end_month = 4"
   ]
  },
  {
   "cell_type": "code",
   "execution_count": 34,
   "metadata": {},
   "outputs": [
    {
     "name": "stdout",
     "output_type": "stream",
     "text": [
      "1 4 0\n",
      "tf_nb\n",
      "[[0.86396593 0.         0.         0.         0.         0.\n",
      "  0.         0.         0.        ]\n",
      " [0.40428212 0.         0.         0.         0.         0.\n",
      "  0.         0.         0.        ]\n",
      " [0.73120729 0.         0.         0.         0.         0.\n",
      "  0.         0.         0.        ]\n",
      " [0.52068127 0.         0.         0.         0.         0.\n",
      "  0.         0.         0.        ]]\n",
      "tf_rf\n",
      "[[0.8190816  0.         0.         0.         0.         0.\n",
      "  0.         0.         0.        ]\n",
      " [0.01070529 0.         0.         0.         0.         0.\n",
      "  0.         0.         0.        ]\n",
      " [0.94444444 0.         0.         0.         0.         0.\n",
      "  0.         0.         0.        ]\n",
      " [0.02117061 0.         0.         0.         0.         0.\n",
      "  0.         0.         0.        ]]\n",
      "2 5 1\n",
      "tf_nb\n",
      "[[0.86396593 0.86616972 0.         0.         0.         0.\n",
      "  0.         0.         0.        ]\n",
      " [0.40428212 0.4057971  0.         0.         0.         0.\n",
      "  0.         0.         0.        ]\n",
      " [0.73120729 0.74193548 0.         0.         0.         0.\n",
      "  0.         0.         0.        ]\n",
      " [0.52068127 0.52464358 0.         0.         0.         0.\n",
      "  0.         0.         0.        ]]\n",
      "tf_rf\n",
      "[[0.8190816  0.81983945 0.         0.         0.         0.\n",
      "  0.         0.         0.        ]\n",
      " [0.01070529 0.01008192 0.         0.         0.         0.\n",
      "  0.         0.         0.        ]\n",
      " [0.94444444 1.         0.         0.         0.         0.\n",
      "  0.         0.         0.        ]\n",
      " [0.02117061 0.01996257 0.         0.         0.         0.\n",
      "  0.         0.         0.        ]]\n",
      "3 6 2\n",
      "tf_nb\n",
      "[[0.86396593 0.86616972 0.85846049 0.         0.         0.\n",
      "  0.         0.         0.        ]\n",
      " [0.40428212 0.4057971  0.39410349 0.         0.         0.\n",
      "  0.         0.         0.        ]\n",
      " [0.73120729 0.74193548 0.73512907 0.         0.         0.\n",
      "  0.         0.         0.        ]\n",
      " [0.52068127 0.52464358 0.51312182 0.         0.         0.\n",
      "  0.         0.         0.        ]]\n",
      "tf_rf\n",
      "[[0.8190816  0.81983945 0.81188795 0.         0.         0.\n",
      "  0.         0.         0.        ]\n",
      " [0.01070529 0.01008192 0.00842359 0.         0.         0.\n",
      "  0.         0.         0.        ]\n",
      " [0.94444444 1.         0.77777778 0.         0.         0.\n",
      "  0.         0.         0.        ]\n",
      " [0.02117061 0.01996257 0.01666667 0.         0.         0.\n",
      "  0.         0.         0.        ]]\n",
      "4 7 3\n",
      "tf_nb\n",
      "[[0.86396593 0.86616972 0.85846049 0.85201946 0.         0.\n",
      "  0.         0.         0.        ]\n",
      " [0.40428212 0.4057971  0.39410349 0.37601863 0.         0.\n",
      "  0.         0.         0.        ]\n",
      " [0.73120729 0.74193548 0.73512907 0.7324263  0.         0.\n",
      "  0.         0.         0.        ]\n",
      " [0.52068127 0.52464358 0.51312182 0.49692308 0.         0.\n",
      "  0.         0.         0.        ]]\n",
      "tf_rf\n",
      "[[0.8190816  0.81983945 0.81188795 0.80812309 0.         0.\n",
      "  0.         0.         0.        ]\n",
      " [0.01070529 0.01008192 0.00842359 0.01280559 0.         0.\n",
      "  0.         0.         0.        ]\n",
      " [0.94444444 1.         0.77777778 1.         0.         0.\n",
      "  0.         0.         0.        ]\n",
      " [0.02117061 0.01996257 0.01666667 0.02528736 0.         0.\n",
      "  0.         0.         0.        ]]\n",
      "5 8 4\n",
      "tf_nb\n",
      "[[0.86396593 0.86616972 0.85846049 0.85201946 0.84565169 0.\n",
      "  0.         0.         0.        ]\n",
      " [0.40428212 0.4057971  0.39410349 0.37601863 0.37655996 0.\n",
      "  0.         0.         0.        ]\n",
      " [0.73120729 0.74193548 0.73512907 0.7324263  0.73829787 0.\n",
      "  0.         0.         0.        ]\n",
      " [0.52068127 0.52464358 0.51312182 0.49692308 0.49874236 0.\n",
      "  0.         0.         0.        ]]\n",
      "tf_rf\n",
      "[[0.8190816  0.81983945 0.81188795 0.80812309 0.79818544 0.\n",
      "  0.         0.         0.        ]\n",
      " [0.01070529 0.01008192 0.00842359 0.01280559 0.01085187 0.\n",
      "  0.         0.         0.        ]\n",
      " [0.94444444 1.         0.77777778 1.         0.95238095 0.\n",
      "  0.         0.         0.        ]\n",
      " [0.02117061 0.01996257 0.01666667 0.02528736 0.02145923 0.\n",
      "  0.         0.         0.        ]]\n",
      "6 9 5\n",
      "tf_nb\n",
      "[[0.86396593 0.86616972 0.85846049 0.85201946 0.84565169 0.83844437\n",
      "  0.         0.         0.        ]\n",
      " [0.40428212 0.4057971  0.39410349 0.37601863 0.37655996 0.38613333\n",
      "  0.         0.         0.        ]\n",
      " [0.73120729 0.74193548 0.73512907 0.7324263  0.73829787 0.76371308\n",
      "  0.         0.         0.        ]\n",
      " [0.52068127 0.52464358 0.51312182 0.49692308 0.49874236 0.51292951\n",
      "  0.         0.         0.        ]]\n",
      "tf_rf\n",
      "[[0.8190816  0.81983945 0.81188795 0.80812309 0.79818544 0.78216426\n",
      "  0.         0.         0.        ]\n",
      " [0.01070529 0.01008192 0.00842359 0.01280559 0.01085187 0.0112\n",
      "  0.         0.         0.        ]\n",
      " [0.94444444 1.         0.77777778 1.         0.95238095 1.\n",
      "  0.         0.         0.        ]\n",
      " [0.02117061 0.01996257 0.01666667 0.02528736 0.02145923 0.0221519\n",
      "  0.         0.         0.        ]]\n",
      "7 10 6\n",
      "tf_nb\n",
      "[[0.86396593 0.86616972 0.85846049 0.85201946 0.84565169 0.83844437\n",
      "  0.84495165 0.         0.        ]\n",
      " [0.40428212 0.4057971  0.39410349 0.37601863 0.37655996 0.38613333\n",
      "  0.41415742 0.         0.        ]\n",
      " [0.73120729 0.74193548 0.73512907 0.7324263  0.73829787 0.76371308\n",
      "  0.74383302 0.         0.        ]\n",
      " [0.52068127 0.52464358 0.51312182 0.49692308 0.49874236 0.51292951\n",
      "  0.53206651 0.         0.        ]]\n",
      "tf_rf\n",
      "[[0.8190816  0.81983945 0.81188795 0.80812309 0.79818544 0.78216426\n",
      "  0.79098268 0.         0.        ]\n",
      " [0.01070529 0.01008192 0.00842359 0.01280559 0.01085187 0.0112\n",
      "  0.01796091 0.         0.        ]\n",
      " [0.94444444 1.         0.77777778 1.         0.95238095 1.\n",
      "  1.         0.         0.        ]\n",
      " [0.02117061 0.01996257 0.01666667 0.02528736 0.02145923 0.0221519\n",
      "  0.03528801 0.         0.        ]]\n",
      "8 11 7\n",
      "tf_nb\n",
      "[[0.86396593 0.86616972 0.85846049 0.85201946 0.84565169 0.83844437\n",
      "  0.84495165 0.82457368 0.        ]\n",
      " [0.40428212 0.4057971  0.39410349 0.37601863 0.37655996 0.38613333\n",
      "  0.41415742 0.42312816 0.        ]\n",
      " [0.73120729 0.74193548 0.73512907 0.7324263  0.73829787 0.76371308\n",
      "  0.74383302 0.72844037 0.        ]\n",
      " [0.52068127 0.52464358 0.51312182 0.49692308 0.49874236 0.51292951\n",
      "  0.53206651 0.53531097 0.        ]]\n",
      "tf_rf\n",
      "[[0.8190816  0.81983945 0.81188795 0.80812309 0.79818544 0.78216426\n",
      "  0.79098268 0.76552558 0.        ]\n",
      " [0.01070529 0.01008192 0.00842359 0.01280559 0.01085187 0.0112\n",
      "  0.01796091 0.01865175 0.        ]\n",
      " [0.94444444 1.         0.77777778 1.         0.95238095 1.\n",
      "  1.         0.97222222 0.        ]\n",
      " [0.02117061 0.01996257 0.01666667 0.02528736 0.02145923 0.0221519\n",
      "  0.03528801 0.03660131 0.        ]]\n",
      "9 12 8\n",
      "tf_nb\n",
      "[[0.86396593 0.86616972 0.85846049 0.85201946 0.84565169 0.83844437\n",
      "  0.84495165 0.82457368 0.80707899]\n",
      " [0.40428212 0.4057971  0.39410349 0.37601863 0.37655996 0.38613333\n",
      "  0.41415742 0.42312816 0.46753607]\n",
      " [0.73120729 0.74193548 0.73512907 0.7324263  0.73829787 0.76371308\n",
      "  0.74383302 0.72844037 0.71549894]\n",
      " [0.52068127 0.52464358 0.51312182 0.49692308 0.49874236 0.51292951\n",
      "  0.53206651 0.53531097 0.56553113]]\n",
      "tf_rf\n",
      "[[0.8190816  0.81983945 0.81188795 0.80812309 0.79818544 0.78216426\n",
      "  0.79098268 0.76552558 0.73792846]\n",
      " [0.01070529 0.01008192 0.00842359 0.01280559 0.01085187 0.0112\n",
      "  0.01796091 0.01865175 0.02580466]\n",
      " [0.94444444 1.         0.77777778 1.         0.95238095 1.\n",
      "  1.         0.97222222 0.93939394]\n",
      " [0.02117061 0.01996257 0.01666667 0.02528736 0.02145923 0.0221519\n",
      "  0.03528801 0.03660131 0.05022954]]\n",
      "CPU times: user 6min 18s, sys: 544 ms, total: 6min 18s\n",
      "Wall time: 5min 18s\n"
     ]
    }
   ],
   "source": [
    "%%time\n",
    "while end_month <13:\n",
    "    df_X_train, y_train, df_X_test, y_test = split_data(start_month, end_month)\n",
    "    X_train, X_test, tf_vectorizer_train = run_tf_vec(df_X_train, df_X_test)\n",
    "    scores_tf_nb = predict_tf_nb(X_train, y_train, X_test, y_test)\n",
    "    scores_tf_rf = predict_tf_rf(X_train, y_train, X_test, y_test)\n",
    "    print(start_month, end_month, model_num)\n",
    "    model_num += 1\n",
    "    start_month += 1\n",
    "    end_month += 1\n",
    "    print('tf_nb')\n",
    "    print(scores_tf_nb)\n",
    "    print('tf_rf')\n",
    "    print(scores_tf_rf)"
   ]
  },
  {
   "cell_type": "markdown",
   "metadata": {},
   "source": [
    "## COUNT VECTORIZER NAIVE BAYES SCORE"
   ]
  },
  {
   "cell_type": "code",
   "execution_count": 35,
   "metadata": {},
   "outputs": [
    {
     "name": "stdout",
     "output_type": "stream",
     "text": [
      "0.844590665167787\n",
      "0.4053018089526731\n",
      "0.7367201578300496\n",
      "0.5222166918129059\n"
     ]
    }
   ],
   "source": [
    "accuracy_2017_tf_nb = np.mean(scores_tf_nb[0])\n",
    "recall_2017_tf_nb = np.mean(scores_tf_nb[1])\n",
    "precision_2017_tf_nb = np.mean(scores_tf_nb[2])\n",
    "f1_score_2017_tf_nb = np.mean(scores_tf_nb[3])\n",
    "print(accuracy_2017_tf_nb)\n",
    "print(recall_2017_tf_nb)\n",
    "print(precision_2017_tf_nb)\n",
    "print(f1_score_2017_tf_nb)"
   ]
  },
  {
   "cell_type": "markdown",
   "metadata": {},
   "source": [
    "## COUNT VECTORIZER RANDOM FOREST SCORE"
   ]
  },
  {
   "cell_type": "code",
   "execution_count": 36,
   "metadata": {},
   "outputs": [
    {
     "name": "stdout",
     "output_type": "stream",
     "text": [
      "0.7926353907420132\n",
      "0.014053951831842569\n",
      "0.9540243706910374\n",
      "0.02764635476005918\n"
     ]
    }
   ],
   "source": [
    "accuracy_2017_tf_rf = np.mean(scores_tf_rf[0])\n",
    "recall_2017_tf_rf = np.mean(scores_tf_rf[1])\n",
    "precision_2017_tf_rf = np.mean(scores_tf_rf[2])\n",
    "f1_score_2017_tf_rf = np.mean(scores_tf_rf[3])\n",
    "print(accuracy_2017_tf_rf)\n",
    "print(recall_2017_tf_rf)\n",
    "print(precision_2017_tf_rf)\n",
    "print(f1_score_2017_tf_rf)"
   ]
  },
  {
   "cell_type": "markdown",
   "metadata": {},
   "source": [
    "## Try running with TF-IDF"
   ]
  },
  {
   "cell_type": "code",
   "execution_count": 37,
   "metadata": {},
   "outputs": [],
   "source": [
    "def run_tf_idf_vec(df_X_train, df_X_test):\n",
    "    tf_idf_vectorizer_train = TfidfVectorizer(tokenizer=LemmaTokenizer(), stop_words='english')\n",
    "    X_train2 = tf_idf_vectorizer_train.fit_transform(df_X_train).toarray()\n",
    "    tf_idf_vectorizer_test = TfidfVectorizer(tokenizer=LemmaTokenizer(), stop_words='english', vocabulary = tf_idf_vectorizer_train.vocabulary_)\n",
    "    X_test2 = tf_idf_vectorizer_test.fit_transform(df_X_test).toarray()\n",
    "    return X_train2, X_test2, tf_idf_vectorizer_train"
   ]
  },
  {
   "cell_type": "code",
   "execution_count": 38,
   "metadata": {},
   "outputs": [],
   "source": [
    "def predict_tf_idf_nb(X_train2, y_train, X_test2, y_test):\n",
    "    from sklearn.naive_bayes import GaussianNB\n",
    "    nb = GaussianNB()\n",
    "    nb.fit(X_train2, y_train)\n",
    "    # pickle.dump(nb, open('nb_model_guassian.p', 'wb'))\n",
    "    preds = nb.predict(X_test2)\n",
    "    scores_tf_idf_nb[0][model_num] = accuracy_score(y_test, preds)\n",
    "    scores_tf_idf_nb[1][model_num] = recall_score(y_test, preds)\n",
    "    scores_tf_idf_nb[2][model_num] = precision_score(y_test, preds)\n",
    "    scores_tf_idf_nb[3][model_num] = f1_score(y_test, preds)\n",
    "    return scores_tf_idf_nb"
   ]
  },
  {
   "cell_type": "markdown",
   "metadata": {},
   "source": [
    "## With the TF-IDF, run with RandomForest "
   ]
  },
  {
   "cell_type": "code",
   "execution_count": 39,
   "metadata": {},
   "outputs": [],
   "source": [
    "def predict_tf_idf_rf(X_train2, y_train, X_test2, y_test):\n",
    "    rf = RandomForestClassifier(n_estimators = 10, n_jobs=-1, random_state=0, class_weight = {0:.95, 1:.05})\n",
    "    rf.fit(X_train2, y_train)\n",
    "    predicted = rf.predict(X_test2)\n",
    "#     pickle.dump(rf, open('rf_nlp_50.p', 'wb'))\n",
    "    scores_tf_idf_rf[0][model_num] = accuracy_score(y_test, predicted)\n",
    "    scores_tf_idf_rf[1][model_num] = recall_score(y_test, predicted)\n",
    "    scores_tf_idf_rf[2][model_num] = precision_score(y_test, predicted)\n",
    "    scores_tf_idf_rf[3][model_num] = f1_score(y_test, predicted)\n",
    "    return scores_tf_idf_rf"
   ]
  },
  {
   "cell_type": "code",
   "execution_count": 40,
   "metadata": {},
   "outputs": [],
   "source": [
    "scores_tf_idf_nb = np.zeros(shape=(4,9))\n",
    "scores_tf_idf_rf = np.zeros(shape=(4,9))\n",
    "\n",
    "model_num = 0\n",
    "start_month = 1\n",
    "end_month = 4"
   ]
  },
  {
   "cell_type": "code",
   "execution_count": 41,
   "metadata": {},
   "outputs": [
    {
     "name": "stdout",
     "output_type": "stream",
     "text": [
      "1 4 0\n",
      "tf_idf_nb\n",
      "[[0.41213028 0.         0.         0.         0.         0.\n",
      "  0.         0.         0.        ]\n",
      " [0.96284635 0.         0.         0.         0.         0.\n",
      "  0.         0.         0.        ]\n",
      " [0.23244147 0.         0.         0.         0.         0.\n",
      "  0.         0.         0.        ]\n",
      " [0.37447955 0.         0.         0.         0.         0.\n",
      "  0.         0.         0.        ]]\n",
      "tf_idf_rf\n",
      "[[0.9143745  0.         0.         0.         0.         0.\n",
      "  0.         0.         0.        ]\n",
      " [0.57241814 0.         0.         0.         0.         0.\n",
      "  0.         0.         0.        ]\n",
      " [0.93326489 0.         0.         0.         0.         0.\n",
      "  0.         0.         0.        ]\n",
      " [0.70960187 0.         0.         0.         0.         0.\n",
      "  0.         0.         0.        ]]\n",
      "2 5 1\n",
      "tf_idf_nb\n",
      "[[0.41213028 0.40630734 0.         0.         0.         0.\n",
      "  0.         0.         0.        ]\n",
      " [0.96284635 0.96408318 0.         0.         0.         0.\n",
      "  0.         0.         0.        ]\n",
      " [0.23244147 0.23007519 0.         0.         0.         0.\n",
      "  0.         0.         0.        ]\n",
      " [0.37447955 0.37149448 0.         0.         0.         0.\n",
      "  0.         0.         0.        ]]\n",
      "tf_idf_rf\n",
      "[[0.9143745  0.91181193 0.         0.         0.         0.\n",
      "  0.         0.         0.        ]\n",
      " [0.57241814 0.5494644  0.         0.         0.         0.\n",
      "  0.         0.         0.        ]\n",
      " [0.93326489 0.94168467 0.         0.         0.         0.\n",
      "  0.         0.         0.        ]\n",
      " [0.70960187 0.69399125 0.         0.         0.         0.\n",
      "  0.         0.         0.        ]]\n",
      "3 6 2\n",
      "tf_idf_nb\n",
      "[[0.41213028 0.40630734 0.41209292 0.         0.         0.\n",
      "  0.         0.         0.        ]\n",
      " [0.96284635 0.96408318 0.96329723 0.         0.         0.\n",
      "  0.         0.         0.        ]\n",
      " [0.23244147 0.23007519 0.23884828 0.         0.         0.\n",
      "  0.         0.         0.        ]\n",
      " [0.37447955 0.37149448 0.38278542 0.         0.         0.\n",
      "  0.         0.         0.        ]]\n",
      "tf_idf_rf\n",
      "[[0.9143745  0.91181193 0.90742428 0.         0.         0.\n",
      "  0.         0.         0.        ]\n",
      " [0.57241814 0.5494644  0.55535499 0.         0.         0.\n",
      "  0.         0.         0.        ]\n",
      " [0.93326489 0.94168467 0.92577733 0.         0.         0.\n",
      "  0.         0.         0.        ]\n",
      " [0.70960187 0.69399125 0.69424596 0.         0.         0.\n",
      "  0.         0.         0.        ]]\n",
      "4 7 3\n",
      "tf_idf_nb\n",
      "[[0.41213028 0.40630734 0.41209292 0.41814685 0.         0.\n",
      "  0.         0.         0.        ]\n",
      " [0.96284635 0.96408318 0.96329723 0.96973225 0.         0.\n",
      "  0.         0.         0.        ]\n",
      " [0.23244147 0.23007519 0.23884828 0.24655912 0.         0.\n",
      "  0.         0.         0.        ]\n",
      " [0.37447955 0.37149448 0.38278542 0.39315634 0.         0.\n",
      "  0.         0.         0.        ]]\n",
      "tf_idf_rf\n",
      "[[0.9143745  0.91181193 0.90742428 0.9032696  0.         0.\n",
      "  0.         0.         0.        ]\n",
      " [0.57241814 0.5494644  0.55535499 0.54249127 0.         0.\n",
      "  0.         0.         0.        ]\n",
      " [0.93326489 0.94168467 0.92577733 0.93106893 0.         0.\n",
      "  0.         0.         0.        ]\n",
      " [0.70960187 0.69399125 0.69424596 0.68554616 0.         0.\n",
      "  0.         0.         0.        ]]\n",
      "5 8 4\n",
      "tf_idf_nb\n",
      "[[0.41213028 0.40630734 0.41209292 0.41814685 0.42310246 0.\n",
      "  0.         0.         0.        ]\n",
      " [0.96284635 0.96408318 0.96329723 0.96973225 0.96039067 0.\n",
      "  0.         0.         0.        ]\n",
      " [0.23244147 0.23007519 0.23884828 0.24655912 0.25611344 0.\n",
      "  0.         0.         0.        ]\n",
      " [0.37447955 0.37149448 0.38278542 0.39315634 0.40438657 0.\n",
      "  0.         0.         0.        ]]\n",
      "tf_idf_rf\n",
      "[[0.9143745  0.91181193 0.90742428 0.9032696  0.89544147 0.\n",
      "  0.         0.         0.        ]\n",
      " [0.57241814 0.5494644  0.55535499 0.54249127 0.52306023 0.\n",
      "  0.         0.         0.        ]\n",
      " [0.93326489 0.94168467 0.92577733 0.93106893 0.93592233 0.\n",
      "  0.         0.         0.        ]\n",
      " [0.70960187 0.69399125 0.69424596 0.68554616 0.67107553 0.\n",
      "  0.         0.         0.        ]]\n",
      "6 9 5\n",
      "tf_idf_nb\n",
      "[[0.41213028 0.40630734 0.41209292 0.41814685 0.42310246 0.43872635\n",
      "  0.         0.         0.        ]\n",
      " [0.96284635 0.96408318 0.96329723 0.96973225 0.96039067 0.9664\n",
      "  0.         0.         0.        ]\n",
      " [0.23244147 0.23007519 0.23884828 0.24655912 0.25611344 0.2776586\n",
      "  0.         0.         0.        ]\n",
      " [0.37447955 0.37149448 0.38278542 0.39315634 0.40438657 0.43137722\n",
      "  0.         0.         0.        ]]\n",
      "tf_idf_rf\n",
      "[[0.9143745  0.91181193 0.90742428 0.9032696  0.89544147 0.8940195\n",
      "  0.         0.         0.        ]\n",
      " [0.57241814 0.5494644  0.55535499 0.54249127 0.52306023 0.53866667\n",
      "  0.         0.         0.        ]\n",
      " [0.93326489 0.94168467 0.92577733 0.93106893 0.93592233 0.96466094\n",
      "  0.         0.         0.        ]\n",
      " [0.70960187 0.69399125 0.69424596 0.68554616 0.67107553 0.69130732\n",
      "  0.         0.         0.        ]]\n",
      "7 10 6\n",
      "tf_idf_nb\n",
      "[[0.41213028 0.40630734 0.41209292 0.41814685 0.42310246 0.43872635\n",
      "  0.42129526 0.         0.        ]\n",
      " [0.96284635 0.96408318 0.96329723 0.96973225 0.96039067 0.9664\n",
      "  0.95932382 0.         0.        ]\n",
      " [0.23244147 0.23007519 0.23884828 0.24655912 0.25611344 0.2776586\n",
      "  0.2637235  0.         0.        ]\n",
      " [0.37447955 0.37149448 0.38278542 0.39315634 0.40438657 0.43137722\n",
      "  0.41371455 0.         0.        ]]\n",
      "tf_idf_rf\n",
      "[[0.9143745  0.91181193 0.90742428 0.9032696  0.89544147 0.8940195\n",
      "  0.89689678 0.         0.        ]\n",
      " [0.57241814 0.5494644  0.55535499 0.54249127 0.52306023 0.53866667\n",
      "  0.55890122 0.         0.        ]\n",
      " [0.93326489 0.94168467 0.92577733 0.93106893 0.93592233 0.96466094\n",
      "  0.92807018 0.         0.        ]\n",
      " [0.70960187 0.69399125 0.69424596 0.68554616 0.67107553 0.69130732\n",
      "  0.69765908 0.         0.        ]]\n",
      "8 11 7\n",
      "tf_idf_nb\n",
      "[[0.41213028 0.40630734 0.41209292 0.41814685 0.42310246 0.43872635\n",
      "  0.42129526 0.45641385 0.        ]\n",
      " [0.96284635 0.96408318 0.96329723 0.96973225 0.96039067 0.9664\n",
      "  0.95932382 0.96935785 0.        ]\n",
      " [0.23244147 0.23007519 0.23884828 0.24655912 0.25611344 0.2776586\n",
      "  0.2637235  0.30150837 0.        ]\n",
      " [0.37447955 0.37149448 0.38278542 0.39315634 0.40438657 0.43137722\n",
      "  0.41371455 0.45995322 0.        ]]\n",
      "tf_idf_rf\n",
      "[[0.9143745  0.91181193 0.90742428 0.9032696  0.89544147 0.8940195\n",
      "  0.89689678 0.89297531 0.        ]\n",
      " [0.57241814 0.5494644  0.55535499 0.54249127 0.52306023 0.53866667\n",
      "  0.55890122 0.60085265 0.        ]\n",
      " [0.93326489 0.94168467 0.92577733 0.93106893 0.93592233 0.96466094\n",
      "  0.92807018 0.92455925 0.        ]\n",
      " [0.70960187 0.69399125 0.69424596 0.68554616 0.67107553 0.69130732\n",
      "  0.69765908 0.72835917 0.        ]]\n",
      "9 12 8\n",
      "tf_idf_nb\n",
      "[[0.41213028 0.40630734 0.41209292 0.41814685 0.42310246 0.43872635\n",
      "  0.42129526 0.45641385 0.49180328]\n",
      " [0.96284635 0.96408318 0.96329723 0.96973225 0.96039067 0.9664\n",
      "  0.95932382 0.96935785 0.97558269]\n",
      " [0.23244147 0.23007519 0.23884828 0.24655912 0.25611344 0.2776586\n",
      "  0.2637235  0.30150837 0.34309133]\n",
      " [0.37447955 0.37149448 0.38278542 0.39315634 0.40438657 0.43137722\n",
      "  0.41371455 0.45995322 0.50765232]]\n",
      "tf_idf_rf\n",
      "[[0.9143745  0.91181193 0.90742428 0.9032696  0.89544147 0.8940195\n",
      "  0.89689678 0.89297531 0.88368107]\n",
      " [0.57241814 0.5494644  0.55535499 0.54249127 0.52306023 0.53866667\n",
      "  0.55890122 0.60085265 0.61875694]\n",
      " [0.93326489 0.94168467 0.92577733 0.93106893 0.93592233 0.96466094\n",
      "  0.92807018 0.92455925 0.92263136]\n",
      " [0.70960187 0.69399125 0.69424596 0.68554616 0.67107553 0.69130732\n",
      "  0.69765908 0.72835917 0.74074074]]\n",
      "CPU times: user 56min 5s, sys: 25.7 s, total: 56min 30s\n",
      "Wall time: 13min 20s\n"
     ]
    }
   ],
   "source": [
    "%%time\n",
    "while end_month <13:\n",
    "    df_X_train, y_train, df_X_test, y_test = split_data(start_month, end_month) \n",
    "    X_train2, X_test2, tf_idf_vectorizer_train = run_tf_idf_vec(df_X_train, df_X_test)\n",
    "    scores_tf_idf_nb = predict_tf_idf_nb(X_train2, y_train, X_test2, y_test)\n",
    "    scores_tf_idf_rf = predict_tf_idf_rf(X_train2, y_train, X_test2, y_test)\n",
    "    print(start_month, end_month, model_num)\n",
    "    model_num += 1\n",
    "    start_month += 1\n",
    "    end_month += 1\n",
    "    print('tf_idf_nb')\n",
    "    print(scores_tf_idf_nb)\n",
    "    print('tf_idf_rf')\n",
    "    print(scores_tf_idf_rf)"
   ]
  },
  {
   "cell_type": "markdown",
   "metadata": {},
   "source": [
    "## TF IDF NAIVE BAYES SCORE"
   ]
  },
  {
   "cell_type": "code",
   "execution_count": 42,
   "metadata": {},
   "outputs": [
    {
     "name": "stdout",
     "output_type": "stream",
     "text": [
      "0.4311131750822347\n",
      "0.9656682252696371\n",
      "0.26555770016660807\n",
      "0.41544440641100033\n"
     ]
    }
   ],
   "source": [
    "accuracy_2017_tf_idf_nb = np.mean(scores_tf_idf_nb[0])\n",
    "recall_2017_tf_idf_nb = np.mean(scores_tf_idf_nb[1])\n",
    "precision_2017_tf_idf_nb = np.mean(scores_tf_idf_nb[2])\n",
    "f1_score_2017_tf_idf_nb = np.mean(scores_tf_idf_nb[3])\n",
    "print(accuracy_2017_tf_idf_nb)\n",
    "print(recall_2017_tf_idf_nb)\n",
    "print(precision_2017_tf_idf_nb)\n",
    "print(f1_score_2017_tf_idf_nb)"
   ]
  },
  {
   "cell_type": "markdown",
   "metadata": {},
   "source": [
    "## TF IDF RANDOM FOREST SCORE"
   ]
  },
  {
   "cell_type": "code",
   "execution_count": 43,
   "metadata": {},
   "outputs": [
    {
     "name": "stdout",
     "output_type": "stream",
     "text": [
      "0.8999882714822403\n",
      "0.5622184994071395\n",
      "0.9341822070758552\n",
      "0.7013918982999527\n"
     ]
    }
   ],
   "source": [
    "accuracy_2017_tf_idf_rf = np.mean(scores_tf_idf_rf[0])\n",
    "recall_2017_tf_idf_rf = np.mean(scores_tf_idf_rf[1])\n",
    "precision_2017_tf_idf_rf = np.mean(scores_tf_idf_rf[2])\n",
    "f1_score_2017_tf_idf_rf = np.mean(scores_tf_idf_rf[3])\n",
    "print(accuracy_2017_tf_idf_rf)\n",
    "print(recall_2017_tf_idf_rf)\n",
    "print(precision_2017_tf_idf_rf)\n",
    "print(f1_score_2017_tf_idf_rf)"
   ]
  }
 ],
 "metadata": {
  "kernelspec": {
   "display_name": "Python 3",
   "language": "python",
   "name": "python3"
  },
  "language_info": {
   "codemirror_mode": {
    "name": "ipython",
    "version": 3
   },
   "file_extension": ".py",
   "mimetype": "text/x-python",
   "name": "python",
   "nbconvert_exporter": "python",
   "pygments_lexer": "ipython3",
   "version": "3.6.4"
  }
 },
 "nbformat": 4,
 "nbformat_minor": 2
}
